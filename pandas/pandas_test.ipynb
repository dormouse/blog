{
 "metadata": {
  "name": "",
  "signature": "sha256:71d4cc561b7bd36c59113587d9c9bc166e2de62378ffbabd55ffc26c5d795124"
 },
 "nbformat": 3,
 "nbformat_minor": 0,
 "worksheets": [
  {
   "cells": [
    {
     "cell_type": "code",
     "collapsed": true,
     "input": [
      "import pandas as pd\n",
      "df = pd.read_csv('test.csv')"
     ],
     "language": "python",
     "metadata": {},
     "outputs": [],
     "prompt_number": 5
    },
    {
     "cell_type": "code",
     "collapsed": false,
     "input": [
      "df.head()"
     ],
     "language": "python",
     "metadata": {},
     "outputs": [
      {
       "html": [
        "<div style=\"max-height:1000px;max-width:1500px;overflow:auto;\">\n",
        "<table border=\"1\" class=\"dataframe\">\n",
        "  <thead>\n",
        "    <tr style=\"text-align: right;\">\n",
        "      <th></th>\n",
        "      <th>\u5e8f\u53f7</th>\n",
        "      <th>\u6b66\u5c06</th>\n",
        "      <th>\u6b66\u529b</th>\n",
        "      <th>\u667a\u529b</th>\n",
        "      <th>\u7269\u54c1</th>\n",
        "    </tr>\n",
        "  </thead>\n",
        "  <tbody>\n",
        "    <tr>\n",
        "      <th>0</th>\n",
        "      <td> 1</td>\n",
        "      <td> \u5415\u5e03</td>\n",
        "      <td> 100</td>\n",
        "      <td> 42</td>\n",
        "      <td>  \u65b9\u5929\u753b\u621f+10\u6b66\u529b</td>\n",
        "    </tr>\n",
        "    <tr>\n",
        "      <th>1</th>\n",
        "      <td> 2</td>\n",
        "      <td> \u5173\u7fbd</td>\n",
        "      <td>  99</td>\n",
        "      <td> 85</td>\n",
        "      <td> \u9752\u9f99\u5043\u6708\u5200+10\u6b66\u529b</td>\n",
        "    </tr>\n",
        "    <tr>\n",
        "      <th>2</th>\n",
        "      <td> 3</td>\n",
        "      <td> \u5f20\u98de</td>\n",
        "      <td>  99</td>\n",
        "      <td> 51</td>\n",
        "      <td>   \u4e08\u516b\u86c7\u77db+9\u6b66\u529b</td>\n",
        "    </tr>\n",
        "    <tr>\n",
        "      <th>3</th>\n",
        "      <td> 4</td>\n",
        "      <td> \u8d75\u4e91</td>\n",
        "      <td>  98</td>\n",
        "      <td> 88</td>\n",
        "      <td>        NaN</td>\n",
        "    </tr>\n",
        "    <tr>\n",
        "      <th>4</th>\n",
        "      <td> 5</td>\n",
        "      <td> \u9a6c\u8d85</td>\n",
        "      <td>  98</td>\n",
        "      <td> 48</td>\n",
        "      <td>        NaN</td>\n",
        "    </tr>\n",
        "  </tbody>\n",
        "</table>\n",
        "<p>5 rows \u00d7 5 columns</p>\n",
        "</div>"
       ],
       "metadata": {},
       "output_type": "pyout",
       "prompt_number": 14,
       "text": [
        "   \u5e8f\u53f7  \u6b66\u5c06   \u6b66\u529b  \u667a\u529b          \u7269\u54c1\n",
        "0   1  \u5415\u5e03  100  42   \u65b9\u5929\u753b\u621f+10\u6b66\u529b\n",
        "1   2  \u5173\u7fbd   99  85  \u9752\u9f99\u5043\u6708\u5200+10\u6b66\u529b\n",
        "2   3  \u5f20\u98de   99  51    \u4e08\u516b\u86c7\u77db+9\u6b66\u529b\n",
        "3   4  \u8d75\u4e91   98  88         NaN\n",
        "4   5  \u9a6c\u8d85   98  48         NaN\n",
        "\n",
        "[5 rows x 5 columns]"
       ]
      }
     ],
     "prompt_number": 14
    },
    {
     "cell_type": "code",
     "collapsed": false,
     "input": [],
     "language": "python",
     "metadata": {},
     "outputs": []
    }
   ],
   "metadata": {}
  }
 ]
}