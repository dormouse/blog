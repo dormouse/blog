{
 "metadata": {
  "name": "",
<<<<<<< HEAD
  "signature": "sha256:f10e8d218fb66be6f3dacc0dd85a660d0d0cf51703bf5630782352a6c57fa7cb"
=======
  "signature": "sha256:c142080e6798491c69b3a4cf476e84b13a9a44333cd0d2d3634b8e720da7bc86"
>>>>>>> 90d041bb86cfe92cf796428fa6d5a84f2122fc4d
 },
 "nbformat": 3,
 "nbformat_minor": 0,
 "worksheets": [
  {
   "cells": [
    {
     "cell_type": "heading",
     "level": 1,
     "metadata": {},
     "source": [
      "pandas \u5165\u95e8"
     ]
    },
    {
     "cell_type": "markdown",
     "metadata": {},
     "source": [
      "* \u7248\u672c\u53f7\uff1a 0.1\n",
      "* \u521b\u5efa\u65f6\u95f4\uff1a 2015\u5e74 02\u6708 07\u65e5 \u661f\u671f\u516d 10:26:33 CST\n",
      "* \u4fee\u6539\u65f6\u95f4\uff1a 2015\u5e74 02\u6708 13\u65e5 \u661f\u671f\u516d 22:19:56 CST"
     ]
    },
    {
     "cell_type": "heading",
     "level": 2,
     "metadata": {},
     "source": [
      "\u5efa\u7acb\u73af\u5883"
     ]
    },
    {
     "cell_type": "heading",
     "level": 3,
     "metadata": {},
     "source": [
      "\u5b89\u88c5 pandas"
     ]
    },
    {
     "cell_type": "markdown",
     "metadata": {},
     "source": [
      "    sudo apt-get install build-essential python-dev \n",
      "    sudo apt-get install python-pandas python-tk\n",
      "    sudo apt-get install python-scipy python-matplotlib python-tables\n",
      "    sudo apt-get install python-numexpr python-xlrd python-statsmodels\n",
      "    sudo apt-get install python-openpyxl python-xlwt python-bs4\n",
      "    \n",
      "    if use virtualenv before install matplotlib should install libpng-dev, libjpeg8-dev, libfreetype6-dev"
     ]
    },
    {
     "cell_type": "heading",
     "level": 3,
     "metadata": {},
     "source": [
      "\u5b89\u88c5 ipython-notebook"
     ]
    },
    {
     "cell_type": "markdown",
     "metadata": {},
     "source": [
      "    sudo pip install \"ipython[notebook]\"\n",
      "    sudo pip install pygments"
     ]
    },
    {
     "cell_type": "heading",
     "level": 3,
     "metadata": {},
     "source": [
      "\u8fd0\u884c ipython-notebook"
     ]
    },
    {
     "cell_type": "markdown",
     "metadata": {},
     "source": [
      "    ipython notebook\n",
      "    #\u5982\u679c\u4f60\u4f7f\u7528matplotlib\u5185\u5d4c\u8fdb\u7f51\u9875\u4e2d,\u90a3\u4e48\u9700\u8981\u8fd0\u884c:\n",
      "    ipython notebook --matplotlib inline"
     ]
    },
    {
     "cell_type": "heading",
     "level": 2,
     "metadata": {},
     "source": [
      "\u5bfc\u5165 pandas"
     ]
    },
    {
     "cell_type": "code",
     "collapsed": true,
     "input": [
      "import pandas as pd\n",
      "import numpy as np"
     ],
     "language": "python",
     "metadata": {},
     "outputs": [],
<<<<<<< HEAD
     "prompt_number": 1
=======
     "prompt_number": 41
>>>>>>> 90d041bb86cfe92cf796428fa6d5a84f2122fc4d
    },
    {
     "cell_type": "heading",
     "level": 2,
     "metadata": {},
     "source": [
      "\u8bfb\u5165\u6570\u636e"
     ]
    },
    {
     "cell_type": "code",
     "collapsed": false,
     "input": [
      "# \u8bfb\u5165 CSV \u683c\u5f0f\u6570\u636e\n",
      "# \u6570\u636e\u6765\u6e90\uff1ahttp://boxofficemojo.com/daily/\n",
      "df_movies = pd.read_csv('movies.csv', sep='\\t', encoding='utf-8')\n",
      "df_movies.head()"
     ],
     "language": "python",
     "metadata": {},
     "outputs": [
      {
       "html": [
        "<div style=\"max-height:1000px;max-width:1500px;overflow:auto;\">\n",
        "<table border=\"1\" class=\"dataframe\">\n",
        "  <thead>\n",
        "    <tr style=\"text-align: right;\">\n",
        "      <th></th>\n",
        "      <th>Row</th>\n",
        "      <th>Date</th>\n",
        "      <th>Day</th>\n",
        "      <th>Day#</th>\n",
        "      <th>Top 10 Gross</th>\n",
        "      <th>#1 Movie</th>\n",
        "      <th>Gross</th>\n",
        "    </tr>\n",
        "  </thead>\n",
        "  <tbody>\n",
        "    <tr>\n",
        "      <th>0</th>\n",
        "      <td> 1</td>\n",
        "      <td> Jan. 30</td>\n",
        "      <td> Fri</td>\n",
        "      <td> 30</td>\n",
        "      <td> $26,168,351</td>\n",
        "      <td> American Sniper</td>\n",
        "      <td>  $9,905,616</td>\n",
        "    </tr>\n",
        "    <tr>\n",
        "      <th>1</th>\n",
        "      <td> 2</td>\n",
        "      <td> Jan. 31</td>\n",
        "      <td> Sat</td>\n",
        "      <td> 31</td>\n",
        "      <td> $41,633,588</td>\n",
        "      <td> American Sniper</td>\n",
        "      <td> $16,510,536</td>\n",
        "    </tr>\n",
        "    <tr>\n",
        "      <th>2</th>\n",
        "      <td> 3</td>\n",
        "      <td>  Feb. 1</td>\n",
        "      <td> Sun</td>\n",
        "      <td> 32</td>\n",
        "      <td> $12,515,579</td>\n",
        "      <td> American Sniper</td>\n",
        "      <td>  $4,244,376</td>\n",
        "    </tr>\n",
        "    <tr>\n",
        "      <th>3</th>\n",
        "      <td> 4</td>\n",
        "      <td>  Feb. 2</td>\n",
        "      <td> Mon</td>\n",
        "      <td> 33</td>\n",
        "      <td>  $6,475,068</td>\n",
        "      <td> American Sniper</td>\n",
        "      <td>  $2,645,109</td>\n",
        "    </tr>\n",
        "    <tr>\n",
        "      <th>4</th>\n",
        "      <td> 5</td>\n",
        "      <td>  Feb. 3</td>\n",
        "      <td> Tue</td>\n",
        "      <td> 34</td>\n",
        "      <td>  $7,825,091</td>\n",
        "      <td> American Sniper</td>\n",
        "      <td>  $2,923,141</td>\n",
        "    </tr>\n",
        "  </tbody>\n",
        "</table>\n",
        "</div>"
       ],
       "metadata": {},
       "output_type": "pyout",
<<<<<<< HEAD
       "prompt_number": 2,
=======
       "prompt_number": 42,
>>>>>>> 90d041bb86cfe92cf796428fa6d5a84f2122fc4d
       "text": [
        "   Row     Date  Day  Day# Top 10 Gross         #1 Movie        Gross\n",
        "0    1  Jan. 30  Fri    30  $26,168,351  American Sniper   $9,905,616\n",
        "1    2  Jan. 31  Sat    31  $41,633,588  American Sniper  $16,510,536\n",
        "2    3   Feb. 1  Sun    32  $12,515,579  American Sniper   $4,244,376\n",
        "3    4   Feb. 2  Mon    33   $6,475,068  American Sniper   $2,645,109\n",
        "4    5   Feb. 3  Tue    34   $7,825,091  American Sniper   $2,923,141"
       ]
      }
     ],
<<<<<<< HEAD
     "prompt_number": 2
=======
     "prompt_number": 42
>>>>>>> 90d041bb86cfe92cf796428fa6d5a84f2122fc4d
    },
    {
     "cell_type": "code",
     "collapsed": false,
     "input": [
      "df_movies = pd.read_csv('movies.csv', sep='\\t', encoding='utf-8',thousands=',',escapechar='$')\n",
      "df_movies.head()"
     ],
     "language": "python",
     "metadata": {},
     "outputs": [
      {
       "html": [
        "<div style=\"max-height:1000px;max-width:1500px;overflow:auto;\">\n",
        "<table border=\"1\" class=\"dataframe\">\n",
        "  <thead>\n",
        "    <tr style=\"text-align: right;\">\n",
        "      <th></th>\n",
        "      <th>Row</th>\n",
        "      <th>Date</th>\n",
        "      <th>Day</th>\n",
        "      <th>Day#</th>\n",
        "      <th>Top 10 Gross</th>\n",
        "      <th>#1 Movie</th>\n",
        "      <th>Gross</th>\n",
        "    </tr>\n",
        "  </thead>\n",
        "  <tbody>\n",
        "    <tr>\n",
        "      <th>0</th>\n",
        "      <td> 1</td>\n",
        "      <td> Jan. 30</td>\n",
        "      <td> Fri</td>\n",
        "      <td> 30</td>\n",
        "      <td> 26168351</td>\n",
        "      <td> American Sniper</td>\n",
        "      <td>  9905616</td>\n",
        "    </tr>\n",
        "    <tr>\n",
        "      <th>1</th>\n",
        "      <td> 2</td>\n",
        "      <td> Jan. 31</td>\n",
        "      <td> Sat</td>\n",
        "      <td> 31</td>\n",
        "      <td> 41633588</td>\n",
        "      <td> American Sniper</td>\n",
        "      <td> 16510536</td>\n",
        "    </tr>\n",
        "    <tr>\n",
        "      <th>2</th>\n",
        "      <td> 3</td>\n",
        "      <td>  Feb. 1</td>\n",
        "      <td> Sun</td>\n",
        "      <td> 32</td>\n",
        "      <td> 12515579</td>\n",
        "      <td> American Sniper</td>\n",
        "      <td>  4244376</td>\n",
        "    </tr>\n",
        "    <tr>\n",
        "      <th>3</th>\n",
        "      <td> 4</td>\n",
        "      <td>  Feb. 2</td>\n",
        "      <td> Mon</td>\n",
        "      <td> 33</td>\n",
        "      <td>  6475068</td>\n",
        "      <td> American Sniper</td>\n",
        "      <td>  2645109</td>\n",
        "    </tr>\n",
        "    <tr>\n",
        "      <th>4</th>\n",
        "      <td> 5</td>\n",
        "      <td>  Feb. 3</td>\n",
        "      <td> Tue</td>\n",
        "      <td> 34</td>\n",
        "      <td>  7825091</td>\n",
        "      <td> American Sniper</td>\n",
        "      <td>  2923141</td>\n",
        "    </tr>\n",
        "  </tbody>\n",
        "</table>\n",
        "</div>"
       ],
       "metadata": {},
       "output_type": "pyout",
<<<<<<< HEAD
       "prompt_number": 3,
=======
       "prompt_number": 43,
>>>>>>> 90d041bb86cfe92cf796428fa6d5a84f2122fc4d
       "text": [
        "   Row     Date  Day  Day#  Top 10 Gross         #1 Movie     Gross\n",
        "0    1  Jan. 30  Fri    30      26168351  American Sniper   9905616\n",
        "1    2  Jan. 31  Sat    31      41633588  American Sniper  16510536\n",
        "2    3   Feb. 1  Sun    32      12515579  American Sniper   4244376\n",
        "3    4   Feb. 2  Mon    33       6475068  American Sniper   2645109\n",
        "4    5   Feb. 3  Tue    34       7825091  American Sniper   2923141"
       ]
      }
     ],
<<<<<<< HEAD
     "prompt_number": 3
=======
     "prompt_number": 43
>>>>>>> 90d041bb86cfe92cf796428fa6d5a84f2122fc4d
    },
    {
     "cell_type": "heading",
     "level": 2,
     "metadata": {},
     "source": [
      "\u590d\u5236\u6570\u636e"
     ]
    },
    {
     "cell_type": "code",
     "collapsed": true,
     "input": [
      "df = df_movies.copy()\n",
      "df.head(3)"
     ],
     "language": "python",
     "metadata": {},
     "outputs": [
      {
       "html": [
        "<div style=\"max-height:1000px;max-width:1500px;overflow:auto;\">\n",
        "<table border=\"1\" class=\"dataframe\">\n",
        "  <thead>\n",
        "    <tr style=\"text-align: right;\">\n",
        "      <th></th>\n",
        "      <th>Row</th>\n",
        "      <th>Date</th>\n",
        "      <th>Day</th>\n",
        "      <th>Day#</th>\n",
        "      <th>Top 10 Gross</th>\n",
        "      <th>#1 Movie</th>\n",
        "      <th>Gross</th>\n",
        "    </tr>\n",
        "  </thead>\n",
        "  <tbody>\n",
        "    <tr>\n",
        "      <th>0</th>\n",
        "      <td> 1</td>\n",
        "      <td> Jan. 30</td>\n",
        "      <td> Fri</td>\n",
        "      <td> 30</td>\n",
        "      <td> 26168351</td>\n",
        "      <td> American Sniper</td>\n",
        "      <td>  9905616</td>\n",
        "    </tr>\n",
        "    <tr>\n",
        "      <th>1</th>\n",
        "      <td> 2</td>\n",
        "      <td> Jan. 31</td>\n",
        "      <td> Sat</td>\n",
        "      <td> 31</td>\n",
        "      <td> 41633588</td>\n",
        "      <td> American Sniper</td>\n",
        "      <td> 16510536</td>\n",
        "    </tr>\n",
        "    <tr>\n",
        "      <th>2</th>\n",
        "      <td> 3</td>\n",
        "      <td>  Feb. 1</td>\n",
        "      <td> Sun</td>\n",
        "      <td> 32</td>\n",
        "      <td> 12515579</td>\n",
        "      <td> American Sniper</td>\n",
        "      <td>  4244376</td>\n",
        "    </tr>\n",
        "  </tbody>\n",
        "</table>\n",
        "</div>"
       ],
       "metadata": {},
       "output_type": "pyout",
<<<<<<< HEAD
       "prompt_number": 4,
=======
       "prompt_number": 44,
>>>>>>> 90d041bb86cfe92cf796428fa6d5a84f2122fc4d
       "text": [
        "   Row     Date  Day  Day#  Top 10 Gross         #1 Movie     Gross\n",
        "0    1  Jan. 30  Fri    30      26168351  American Sniper   9905616\n",
        "1    2  Jan. 31  Sat    31      41633588  American Sniper  16510536\n",
        "2    3   Feb. 1  Sun    32      12515579  American Sniper   4244376"
       ]
      }
     ],
<<<<<<< HEAD
     "prompt_number": 4
=======
     "prompt_number": 44
>>>>>>> 90d041bb86cfe92cf796428fa6d5a84f2122fc4d
    },
    {
     "cell_type": "heading",
     "level": 2,
     "metadata": {},
     "source": [
      "\u5bfc\u51fa\u6570\u636e"
     ]
    },
    {
     "cell_type": "code",
     "collapsed": false,
     "input": [
      "#\u5bfc\u51fa\u5468\u516d\u7684\u6570\u636e\uff0c\u683c\u5f0f\u4e3a CSV\n",
      "df[ (df['Day'] == 'Sat') ].to_csv('test_output.csv', mode='w', encoding='utf-8', index=False)"
     ],
     "language": "python",
     "metadata": {},
     "outputs": [],
<<<<<<< HEAD
     "prompt_number": 5
=======
     "prompt_number": 45
>>>>>>> 90d041bb86cfe92cf796428fa6d5a84f2122fc4d
    },
    {
     "cell_type": "code",
     "collapsed": false,
     "input": [
      "#\u5728\u524d\u9762\u7684\u6587\u4ef6\u4e2d\u8ffd\u52a0\u5468\u65e5\u7684\u6570\u636e\n",
      "df[ (df['Day'] == 'Sun') ].to_csv('test_output.csv', mode='a', header=False, encoding='utf-8', index=False)"
     ],
     "language": "python",
     "metadata": {},
     "outputs": [],
<<<<<<< HEAD
     "prompt_number": 6
=======
     "prompt_number": 46
>>>>>>> 90d041bb86cfe92cf796428fa6d5a84f2122fc4d
    },
    {
     "cell_type": "heading",
     "level": 2,
     "metadata": {},
     "source": [
      "\u663e\u793a\u6570\u636e"
     ]
    },
    {
     "cell_type": "code",
     "collapsed": false,
     "input": [
      "#\u663e\u793a\u5f00\u5934\u7684\u6570\u636e\uff0c\u7f3a\u7701\u663e\u793a 5 \u6761\n",
      "df.head()"
     ],
     "language": "python",
     "metadata": {},
     "outputs": [
      {
       "html": [
        "<div style=\"max-height:1000px;max-width:1500px;overflow:auto;\">\n",
        "<table border=\"1\" class=\"dataframe\">\n",
        "  <thead>\n",
        "    <tr style=\"text-align: right;\">\n",
        "      <th></th>\n",
        "      <th>Row</th>\n",
        "      <th>Date</th>\n",
        "      <th>Day</th>\n",
        "      <th>Day#</th>\n",
        "      <th>Top 10 Gross</th>\n",
        "      <th>#1 Movie</th>\n",
        "      <th>Gross</th>\n",
        "    </tr>\n",
        "  </thead>\n",
        "  <tbody>\n",
        "    <tr>\n",
        "      <th>0</th>\n",
        "      <td> 1</td>\n",
        "      <td> Jan. 30</td>\n",
        "      <td> Fri</td>\n",
        "      <td> 30</td>\n",
        "      <td> 26168351</td>\n",
        "      <td> American Sniper</td>\n",
        "      <td>  9905616</td>\n",
        "    </tr>\n",
        "    <tr>\n",
        "      <th>1</th>\n",
        "      <td> 2</td>\n",
        "      <td> Jan. 31</td>\n",
        "      <td> Sat</td>\n",
        "      <td> 31</td>\n",
        "      <td> 41633588</td>\n",
        "      <td> American Sniper</td>\n",
        "      <td> 16510536</td>\n",
        "    </tr>\n",
        "    <tr>\n",
        "      <th>2</th>\n",
        "      <td> 3</td>\n",
        "      <td>  Feb. 1</td>\n",
        "      <td> Sun</td>\n",
        "      <td> 32</td>\n",
        "      <td> 12515579</td>\n",
        "      <td> American Sniper</td>\n",
        "      <td>  4244376</td>\n",
        "    </tr>\n",
        "    <tr>\n",
        "      <th>3</th>\n",
        "      <td> 4</td>\n",
        "      <td>  Feb. 2</td>\n",
        "      <td> Mon</td>\n",
        "      <td> 33</td>\n",
        "      <td>  6475068</td>\n",
        "      <td> American Sniper</td>\n",
        "      <td>  2645109</td>\n",
        "    </tr>\n",
        "    <tr>\n",
        "      <th>4</th>\n",
        "      <td> 5</td>\n",
        "      <td>  Feb. 3</td>\n",
        "      <td> Tue</td>\n",
        "      <td> 34</td>\n",
        "      <td>  7825091</td>\n",
        "      <td> American Sniper</td>\n",
        "      <td>  2923141</td>\n",
        "    </tr>\n",
        "  </tbody>\n",
        "</table>\n",
        "</div>"
       ],
       "metadata": {},
       "output_type": "pyout",
<<<<<<< HEAD
       "prompt_number": 7,
=======
       "prompt_number": 47,
>>>>>>> 90d041bb86cfe92cf796428fa6d5a84f2122fc4d
       "text": [
        "   Row     Date  Day  Day#  Top 10 Gross         #1 Movie     Gross\n",
        "0    1  Jan. 30  Fri    30      26168351  American Sniper   9905616\n",
        "1    2  Jan. 31  Sat    31      41633588  American Sniper  16510536\n",
        "2    3   Feb. 1  Sun    32      12515579  American Sniper   4244376\n",
        "3    4   Feb. 2  Mon    33       6475068  American Sniper   2645109\n",
        "4    5   Feb. 3  Tue    34       7825091  American Sniper   2923141"
       ]
      }
     ],
<<<<<<< HEAD
     "prompt_number": 7
=======
     "prompt_number": 47
>>>>>>> 90d041bb86cfe92cf796428fa6d5a84f2122fc4d
    },
    {
     "cell_type": "code",
     "collapsed": true,
     "input": [
      "#\u663e\u793a\u5f00\u5934\u7684\u6570\u636e\uff0c\u6307\u5b9a\u663e\u793a 3 \u6761\n",
      "df.head(3)"
     ],
     "language": "python",
     "metadata": {},
     "outputs": [
      {
       "html": [
        "<div style=\"max-height:1000px;max-width:1500px;overflow:auto;\">\n",
        "<table border=\"1\" class=\"dataframe\">\n",
        "  <thead>\n",
        "    <tr style=\"text-align: right;\">\n",
        "      <th></th>\n",
        "      <th>Row</th>\n",
        "      <th>Date</th>\n",
        "      <th>Day</th>\n",
        "      <th>Day#</th>\n",
        "      <th>Top 10 Gross</th>\n",
        "      <th>#1 Movie</th>\n",
        "      <th>Gross</th>\n",
        "    </tr>\n",
        "  </thead>\n",
        "  <tbody>\n",
        "    <tr>\n",
        "      <th>0</th>\n",
        "      <td> 1</td>\n",
        "      <td> Jan. 30</td>\n",
        "      <td> Fri</td>\n",
        "      <td> 30</td>\n",
        "      <td> 26168351</td>\n",
        "      <td> American Sniper</td>\n",
        "      <td>  9905616</td>\n",
        "    </tr>\n",
        "    <tr>\n",
        "      <th>1</th>\n",
        "      <td> 2</td>\n",
        "      <td> Jan. 31</td>\n",
        "      <td> Sat</td>\n",
        "      <td> 31</td>\n",
        "      <td> 41633588</td>\n",
        "      <td> American Sniper</td>\n",
        "      <td> 16510536</td>\n",
        "    </tr>\n",
        "    <tr>\n",
        "      <th>2</th>\n",
        "      <td> 3</td>\n",
        "      <td>  Feb. 1</td>\n",
        "      <td> Sun</td>\n",
        "      <td> 32</td>\n",
        "      <td> 12515579</td>\n",
        "      <td> American Sniper</td>\n",
        "      <td>  4244376</td>\n",
        "    </tr>\n",
        "  </tbody>\n",
        "</table>\n",
        "</div>"
       ],
       "metadata": {},
       "output_type": "pyout",
<<<<<<< HEAD
       "prompt_number": 8,
=======
       "prompt_number": 48,
>>>>>>> 90d041bb86cfe92cf796428fa6d5a84f2122fc4d
       "text": [
        "   Row     Date  Day  Day#  Top 10 Gross         #1 Movie     Gross\n",
        "0    1  Jan. 30  Fri    30      26168351  American Sniper   9905616\n",
        "1    2  Jan. 31  Sat    31      41633588  American Sniper  16510536\n",
        "2    3   Feb. 1  Sun    32      12515579  American Sniper   4244376"
       ]
      }
     ],
<<<<<<< HEAD
     "prompt_number": 8
=======
     "prompt_number": 48
>>>>>>> 90d041bb86cfe92cf796428fa6d5a84f2122fc4d
    },
    {
     "cell_type": "code",
     "collapsed": true,
     "input": [
      "#\u663e\u793a\u672b\u5c3e\u7684\u6570\u636e\uff0c\u7f3a\u7701\u663e\u793a 5 \u6761\n",
      "df.tail()"
     ],
     "language": "python",
     "metadata": {},
     "outputs": [
      {
       "html": [
        "<div style=\"max-height:1000px;max-width:1500px;overflow:auto;\">\n",
        "<table border=\"1\" class=\"dataframe\">\n",
        "  <thead>\n",
        "    <tr style=\"text-align: right;\">\n",
        "      <th></th>\n",
        "      <th>Row</th>\n",
        "      <th>Date</th>\n",
        "      <th>Day</th>\n",
        "      <th>Day#</th>\n",
        "      <th>Top 10 Gross</th>\n",
        "      <th>#1 Movie</th>\n",
        "      <th>Gross</th>\n",
        "    </tr>\n",
        "  </thead>\n",
        "  <tbody>\n",
        "    <tr>\n",
        "      <th>24</th>\n",
        "      <td> 25</td>\n",
        "      <td> Feb. 23</td>\n",
        "      <td> Mon</td>\n",
        "      <td> 54</td>\n",
        "      <td>  7385671</td>\n",
        "      <td> Fifty Shades of Grey</td>\n",
        "      <td> 1846390</td>\n",
        "    </tr>\n",
        "    <tr>\n",
        "      <th>25</th>\n",
        "      <td> 26</td>\n",
        "      <td> Feb. 24</td>\n",
        "      <td> Tue</td>\n",
        "      <td> 55</td>\n",
        "      <td>  9424126</td>\n",
        "      <td> Fifty Shades of Grey</td>\n",
        "      <td> 2265910</td>\n",
        "    </tr>\n",
        "    <tr>\n",
        "      <th>26</th>\n",
        "      <td> 27</td>\n",
        "      <td> Feb. 25</td>\n",
        "      <td> Wed</td>\n",
        "      <td> 56</td>\n",
        "      <td>  6862942</td>\n",
        "      <td> Fifty Shades of Grey</td>\n",
        "      <td> 1772230</td>\n",
        "    </tr>\n",
        "    <tr>\n",
        "      <th>27</th>\n",
        "      <td> 28</td>\n",
        "      <td> Feb. 26</td>\n",
        "      <td> Thu</td>\n",
        "      <td> 57</td>\n",
        "      <td>  7161773</td>\n",
        "      <td> Fifty Shades of Grey</td>\n",
        "      <td> 1790520</td>\n",
        "    </tr>\n",
        "    <tr>\n",
        "      <th>28</th>\n",
        "      <td> 29</td>\n",
        "      <td> Feb. 27</td>\n",
        "      <td> Fri</td>\n",
        "      <td> 58</td>\n",
        "      <td> 26457000</td>\n",
        "      <td>         Focus (2015)</td>\n",
        "      <td> 6465000</td>\n",
        "    </tr>\n",
        "  </tbody>\n",
        "</table>\n",
        "</div>"
       ],
       "metadata": {},
       "output_type": "pyout",
<<<<<<< HEAD
       "prompt_number": 9,
=======
       "prompt_number": 49,
>>>>>>> 90d041bb86cfe92cf796428fa6d5a84f2122fc4d
       "text": [
        "    Row     Date  Day  Day#  Top 10 Gross              #1 Movie    Gross\n",
        "24   25  Feb. 23  Mon    54       7385671  Fifty Shades of Grey  1846390\n",
        "25   26  Feb. 24  Tue    55       9424126  Fifty Shades of Grey  2265910\n",
        "26   27  Feb. 25  Wed    56       6862942  Fifty Shades of Grey  1772230\n",
        "27   28  Feb. 26  Thu    57       7161773  Fifty Shades of Grey  1790520\n",
        "28   29  Feb. 27  Fri    58      26457000          Focus (2015)  6465000"
       ]
      }
     ],
<<<<<<< HEAD
     "prompt_number": 9
=======
     "prompt_number": 49
>>>>>>> 90d041bb86cfe92cf796428fa6d5a84f2122fc4d
    },
    {
     "cell_type": "code",
     "collapsed": true,
     "input": [
      "#\u663e\u793a\u672b\u5c3e\u7684\u6570\u636e\uff0c\u7f3a\u7701\u663e\u793a 2 \u6761\n",
      "df.tail(2)"
     ],
     "language": "python",
     "metadata": {},
     "outputs": [
      {
       "html": [
        "<div style=\"max-height:1000px;max-width:1500px;overflow:auto;\">\n",
        "<table border=\"1\" class=\"dataframe\">\n",
        "  <thead>\n",
        "    <tr style=\"text-align: right;\">\n",
        "      <th></th>\n",
        "      <th>Row</th>\n",
        "      <th>Date</th>\n",
        "      <th>Day</th>\n",
        "      <th>Day#</th>\n",
        "      <th>Top 10 Gross</th>\n",
        "      <th>#1 Movie</th>\n",
        "      <th>Gross</th>\n",
        "    </tr>\n",
        "  </thead>\n",
        "  <tbody>\n",
        "    <tr>\n",
        "      <th>27</th>\n",
        "      <td> 28</td>\n",
        "      <td> Feb. 26</td>\n",
        "      <td> Thu</td>\n",
        "      <td> 57</td>\n",
        "      <td>  7161773</td>\n",
        "      <td> Fifty Shades of Grey</td>\n",
        "      <td> 1790520</td>\n",
        "    </tr>\n",
        "    <tr>\n",
        "      <th>28</th>\n",
        "      <td> 29</td>\n",
        "      <td> Feb. 27</td>\n",
        "      <td> Fri</td>\n",
        "      <td> 58</td>\n",
        "      <td> 26457000</td>\n",
        "      <td>         Focus (2015)</td>\n",
        "      <td> 6465000</td>\n",
        "    </tr>\n",
        "  </tbody>\n",
        "</table>\n",
        "</div>"
       ],
       "metadata": {},
       "output_type": "pyout",
<<<<<<< HEAD
       "prompt_number": 10,
=======
       "prompt_number": 50,
>>>>>>> 90d041bb86cfe92cf796428fa6d5a84f2122fc4d
       "text": [
        "    Row     Date  Day  Day#  Top 10 Gross              #1 Movie    Gross\n",
        "27   28  Feb. 26  Thu    57       7161773  Fifty Shades of Grey  1790520\n",
        "28   29  Feb. 27  Fri    58      26457000          Focus (2015)  6465000"
       ]
      }
     ],
<<<<<<< HEAD
     "prompt_number": 10
=======
     "prompt_number": 50
>>>>>>> 90d041bb86cfe92cf796428fa6d5a84f2122fc4d
    },
    {
     "cell_type": "code",
     "collapsed": false,
     "input": [
      "#\u53ea\u663e\u793a\u6307\u5b9a\u7684\u884c\u548c\u5217\n",
      "df.iloc[[1,3,5],[0,1,2,3]]"
     ],
     "language": "python",
     "metadata": {},
     "outputs": [
      {
       "html": [
        "<div style=\"max-height:1000px;max-width:1500px;overflow:auto;\">\n",
        "<table border=\"1\" class=\"dataframe\">\n",
        "  <thead>\n",
        "    <tr style=\"text-align: right;\">\n",
        "      <th></th>\n",
        "      <th>Row</th>\n",
        "      <th>Date</th>\n",
        "      <th>Day</th>\n",
        "      <th>Day#</th>\n",
        "    </tr>\n",
        "  </thead>\n",
        "  <tbody>\n",
        "    <tr>\n",
        "      <th>1</th>\n",
        "      <td> 2</td>\n",
        "      <td> Jan. 31</td>\n",
        "      <td> Sat</td>\n",
        "      <td> 31</td>\n",
        "    </tr>\n",
        "    <tr>\n",
        "      <th>3</th>\n",
        "      <td> 4</td>\n",
        "      <td>  Feb. 2</td>\n",
        "      <td> Mon</td>\n",
        "      <td> 33</td>\n",
        "    </tr>\n",
        "    <tr>\n",
        "      <th>5</th>\n",
        "      <td> 6</td>\n",
        "      <td>  Feb. 4</td>\n",
        "      <td> Wed</td>\n",
        "      <td> 35</td>\n",
        "    </tr>\n",
        "  </tbody>\n",
        "</table>\n",
        "</div>"
       ],
       "metadata": {},
       "output_type": "pyout",
<<<<<<< HEAD
       "prompt_number": 11,
=======
       "prompt_number": 51,
>>>>>>> 90d041bb86cfe92cf796428fa6d5a84f2122fc4d
       "text": [
        "   Row     Date  Day  Day#\n",
        "1    2  Jan. 31  Sat    31\n",
        "3    4   Feb. 2  Mon    33\n",
        "5    6   Feb. 4  Wed    35"
       ]
      }
     ],
<<<<<<< HEAD
     "prompt_number": 11
=======
     "prompt_number": 51
>>>>>>> 90d041bb86cfe92cf796428fa6d5a84f2122fc4d
    },
    {
     "cell_type": "code",
     "collapsed": false,
     "input": [
      "df.loc[[1,3,5],['Date', 'Gross']]"
     ],
     "language": "python",
     "metadata": {},
     "outputs": [
      {
       "html": [
        "<div style=\"max-height:1000px;max-width:1500px;overflow:auto;\">\n",
        "<table border=\"1\" class=\"dataframe\">\n",
        "  <thead>\n",
        "    <tr style=\"text-align: right;\">\n",
        "      <th></th>\n",
        "      <th>Date</th>\n",
        "      <th>Gross</th>\n",
        "    </tr>\n",
        "  </thead>\n",
        "  <tbody>\n",
        "    <tr>\n",
        "      <th>1</th>\n",
        "      <td> Jan. 31</td>\n",
        "      <td> 16510536</td>\n",
        "    </tr>\n",
        "    <tr>\n",
        "      <th>3</th>\n",
        "      <td>  Feb. 2</td>\n",
        "      <td>  2645109</td>\n",
        "    </tr>\n",
        "    <tr>\n",
        "      <th>5</th>\n",
        "      <td>  Feb. 4</td>\n",
        "      <td>  2273342</td>\n",
        "    </tr>\n",
        "  </tbody>\n",
        "</table>\n",
        "</div>"
       ],
       "metadata": {},
       "output_type": "pyout",
<<<<<<< HEAD
       "prompt_number": 12,
=======
       "prompt_number": 52,
>>>>>>> 90d041bb86cfe92cf796428fa6d5a84f2122fc4d
       "text": [
        "      Date     Gross\n",
        "1  Jan. 31  16510536\n",
        "3   Feb. 2   2645109\n",
        "5   Feb. 4   2273342"
       ]
      }
     ],
<<<<<<< HEAD
     "prompt_number": 12
=======
     "prompt_number": 52
>>>>>>> 90d041bb86cfe92cf796428fa6d5a84f2122fc4d
    },
    {
     "cell_type": "heading",
     "level": 2,
     "metadata": {},
     "source": [
      "\u64cd\u4f5c\u5355\u5143"
     ]
    },
    {
     "cell_type": "code",
     "collapsed": false,
     "input": [
      "df = df_movies.copy()\n",
      "# \u5355\u5143\u683c\u8d4b\u503c\n",
      "# \u5355\u4e2a\u5355\u5143\u683c\u8d4b\u503c\n",
      "df.ix[0, u'#1 Movie'] = u'\u571f\u8c46\u4e4b\u6b4c'\n",
      "df.loc[df.index[1], u'Gross']= 999\n",
      "df.head(3)"
     ],
     "language": "python",
     "metadata": {},
     "outputs": [
      {
       "html": [
        "<div style=\"max-height:1000px;max-width:1500px;overflow:auto;\">\n",
        "<table border=\"1\" class=\"dataframe\">\n",
        "  <thead>\n",
        "    <tr style=\"text-align: right;\">\n",
        "      <th></th>\n",
        "      <th>Row</th>\n",
        "      <th>Date</th>\n",
        "      <th>Day</th>\n",
        "      <th>Day#</th>\n",
        "      <th>Top 10 Gross</th>\n",
        "      <th>#1 Movie</th>\n",
        "      <th>Gross</th>\n",
        "    </tr>\n",
        "  </thead>\n",
        "  <tbody>\n",
        "    <tr>\n",
        "      <th>0</th>\n",
        "      <td> 1</td>\n",
        "      <td> Jan. 30</td>\n",
        "      <td> Fri</td>\n",
        "      <td> 30</td>\n",
        "      <td> 26168351</td>\n",
        "      <td>            \u571f\u8c46\u4e4b\u6b4c</td>\n",
        "      <td> 9905616</td>\n",
        "    </tr>\n",
        "    <tr>\n",
        "      <th>1</th>\n",
        "      <td> 2</td>\n",
        "      <td> Jan. 31</td>\n",
        "      <td> Sat</td>\n",
        "      <td> 31</td>\n",
        "      <td> 41633588</td>\n",
        "      <td> American Sniper</td>\n",
        "      <td>     999</td>\n",
        "    </tr>\n",
        "    <tr>\n",
        "      <th>2</th>\n",
        "      <td> 3</td>\n",
        "      <td>  Feb. 1</td>\n",
        "      <td> Sun</td>\n",
        "      <td> 32</td>\n",
        "      <td> 12515579</td>\n",
        "      <td> American Sniper</td>\n",
        "      <td> 4244376</td>\n",
        "    </tr>\n",
        "  </tbody>\n",
        "</table>\n",
        "</div>"
       ],
       "metadata": {},
       "output_type": "pyout",
<<<<<<< HEAD
       "prompt_number": 13,
=======
       "prompt_number": 53,
>>>>>>> 90d041bb86cfe92cf796428fa6d5a84f2122fc4d
       "text": [
        "   Row     Date  Day  Day#  Top 10 Gross         #1 Movie    Gross\n",
        "0    1  Jan. 30  Fri    30      26168351             \u571f\u8c46\u4e4b\u6b4c  9905616\n",
        "1    2  Jan. 31  Sat    31      41633588  American Sniper      999\n",
        "2    3   Feb. 1  Sun    32      12515579  American Sniper  4244376"
       ]
      }
     ],
<<<<<<< HEAD
     "prompt_number": 13
=======
     "prompt_number": 53
>>>>>>> 90d041bb86cfe92cf796428fa6d5a84f2122fc4d
    },
    {
     "cell_type": "code",
     "collapsed": false,
     "input": [
      "# \u591a\u5355\u4e2a\u5355\u5143\u683c\u8d4b\u503c\n",
      "df.loc[df.index[0:2], u'Gross'] = [100, 200]\n",
      "df.head(3)"
     ],
     "language": "python",
     "metadata": {},
     "outputs": [
      {
       "html": [
        "<div style=\"max-height:1000px;max-width:1500px;overflow:auto;\">\n",
        "<table border=\"1\" class=\"dataframe\">\n",
        "  <thead>\n",
        "    <tr style=\"text-align: right;\">\n",
        "      <th></th>\n",
        "      <th>Row</th>\n",
        "      <th>Date</th>\n",
        "      <th>Day</th>\n",
        "      <th>Day#</th>\n",
        "      <th>Top 10 Gross</th>\n",
        "      <th>#1 Movie</th>\n",
        "      <th>Gross</th>\n",
        "    </tr>\n",
        "  </thead>\n",
        "  <tbody>\n",
        "    <tr>\n",
        "      <th>0</th>\n",
        "      <td> 1</td>\n",
        "      <td> Jan. 30</td>\n",
        "      <td> Fri</td>\n",
        "      <td> 30</td>\n",
        "      <td> 26168351</td>\n",
        "      <td>            \u571f\u8c46\u4e4b\u6b4c</td>\n",
        "      <td>     100</td>\n",
        "    </tr>\n",
        "    <tr>\n",
        "      <th>1</th>\n",
        "      <td> 2</td>\n",
        "      <td> Jan. 31</td>\n",
        "      <td> Sat</td>\n",
        "      <td> 31</td>\n",
        "      <td> 41633588</td>\n",
        "      <td> American Sniper</td>\n",
        "      <td>     200</td>\n",
        "    </tr>\n",
        "    <tr>\n",
        "      <th>2</th>\n",
        "      <td> 3</td>\n",
        "      <td>  Feb. 1</td>\n",
        "      <td> Sun</td>\n",
        "      <td> 32</td>\n",
        "      <td> 12515579</td>\n",
        "      <td> American Sniper</td>\n",
        "      <td> 4244376</td>\n",
        "    </tr>\n",
        "  </tbody>\n",
        "</table>\n",
        "</div>"
       ],
       "metadata": {},
       "output_type": "pyout",
<<<<<<< HEAD
       "prompt_number": 14,
=======
       "prompt_number": 54,
>>>>>>> 90d041bb86cfe92cf796428fa6d5a84f2122fc4d
       "text": [
        "   Row     Date  Day  Day#  Top 10 Gross         #1 Movie    Gross\n",
        "0    1  Jan. 30  Fri    30      26168351             \u571f\u8c46\u4e4b\u6b4c      100\n",
        "1    2  Jan. 31  Sat    31      41633588  American Sniper      200\n",
        "2    3   Feb. 1  Sun    32      12515579  American Sniper  4244376"
       ]
      }
     ],
<<<<<<< HEAD
     "prompt_number": 14
=======
     "prompt_number": 54
>>>>>>> 90d041bb86cfe92cf796428fa6d5a84f2122fc4d
    },
    {
     "cell_type": "heading",
     "level": 2,
     "metadata": {},
     "source": [
      "\u64cd\u4f5c\u5217"
     ]
    },
    {
     "cell_type": "heading",
     "level": 3,
     "metadata": {},
     "source": [
      "\u6539\u53d8\u5217\u5934"
     ]
    },
    {
     "cell_type": "heading",
     "level": 4,
     "metadata": {},
     "source": [
      "\u4f7f\u7528 columns \u5c5e\u6027"
     ]
    },
    {
     "cell_type": "code",
     "collapsed": true,
     "input": [
      "df = df_movies.copy()\n",
      "#\u7528\u4e00\u4e2a\u5217\u8868\u6765\u663e\u5f0f\u5730\u6307\u5b9a\uff0c\u5217\u8868\u957f\u5ea6\u5fc5\u987b\u4e0e\u5217\u6570\u4e00\u81f4\n",
      "# \u793a\u4f8b 1\n",
      "df.columns = [u'Row', u'Date', u'WeekDay', u'Day', u'Top10Gross', u'No1Moive', u'Gross']\n",
      "df.head()"
     ],
     "language": "python",
     "metadata": {},
     "outputs": [
      {
       "html": [
        "<div style=\"max-height:1000px;max-width:1500px;overflow:auto;\">\n",
        "<table border=\"1\" class=\"dataframe\">\n",
        "  <thead>\n",
        "    <tr style=\"text-align: right;\">\n",
        "      <th></th>\n",
        "      <th>Row</th>\n",
        "      <th>Date</th>\n",
        "      <th>WeekDay</th>\n",
        "      <th>Day</th>\n",
        "      <th>Top10Gross</th>\n",
        "      <th>No1Moive</th>\n",
        "      <th>Gross</th>\n",
        "    </tr>\n",
        "  </thead>\n",
        "  <tbody>\n",
        "    <tr>\n",
        "      <th>0</th>\n",
        "      <td> 1</td>\n",
        "      <td> Jan. 30</td>\n",
        "      <td> Fri</td>\n",
        "      <td> 30</td>\n",
        "      <td> 26168351</td>\n",
        "      <td> American Sniper</td>\n",
        "      <td>  9905616</td>\n",
        "    </tr>\n",
        "    <tr>\n",
        "      <th>1</th>\n",
        "      <td> 2</td>\n",
        "      <td> Jan. 31</td>\n",
        "      <td> Sat</td>\n",
        "      <td> 31</td>\n",
        "      <td> 41633588</td>\n",
        "      <td> American Sniper</td>\n",
        "      <td> 16510536</td>\n",
        "    </tr>\n",
        "    <tr>\n",
        "      <th>2</th>\n",
        "      <td> 3</td>\n",
        "      <td>  Feb. 1</td>\n",
        "      <td> Sun</td>\n",
        "      <td> 32</td>\n",
        "      <td> 12515579</td>\n",
        "      <td> American Sniper</td>\n",
        "      <td>  4244376</td>\n",
        "    </tr>\n",
        "    <tr>\n",
        "      <th>3</th>\n",
        "      <td> 4</td>\n",
        "      <td>  Feb. 2</td>\n",
        "      <td> Mon</td>\n",
        "      <td> 33</td>\n",
        "      <td>  6475068</td>\n",
        "      <td> American Sniper</td>\n",
        "      <td>  2645109</td>\n",
        "    </tr>\n",
        "    <tr>\n",
        "      <th>4</th>\n",
        "      <td> 5</td>\n",
        "      <td>  Feb. 3</td>\n",
        "      <td> Tue</td>\n",
        "      <td> 34</td>\n",
        "      <td>  7825091</td>\n",
        "      <td> American Sniper</td>\n",
        "      <td>  2923141</td>\n",
        "    </tr>\n",
        "  </tbody>\n",
        "</table>\n",
        "</div>"
       ],
       "metadata": {},
       "output_type": "pyout",
<<<<<<< HEAD
       "prompt_number": 15,
=======
       "prompt_number": 55,
>>>>>>> 90d041bb86cfe92cf796428fa6d5a84f2122fc4d
       "text": [
        "   Row     Date WeekDay  Day  Top10Gross         No1Moive     Gross\n",
        "0    1  Jan. 30     Fri   30    26168351  American Sniper   9905616\n",
        "1    2  Jan. 31     Sat   31    41633588  American Sniper  16510536\n",
        "2    3   Feb. 1     Sun   32    12515579  American Sniper   4244376\n",
        "3    4   Feb. 2     Mon   33     6475068  American Sniper   2645109\n",
        "4    5   Feb. 3     Tue   34     7825091  American Sniper   2923141"
       ]
      }
     ],
<<<<<<< HEAD
     "prompt_number": 15
=======
     "prompt_number": 55
>>>>>>> 90d041bb86cfe92cf796428fa6d5a84f2122fc4d
    },
    {
     "cell_type": "code",
     "collapsed": true,
     "input": [
      "# \u793a\u4f8b 2 \uff1a\u5927\u5199\u8f6c\u5c0f\u5199\n",
      "df.columns = [c.lower() for c in df.columns]\n",
      "df.head()"
     ],
     "language": "python",
     "metadata": {},
     "outputs": [
      {
       "html": [
        "<div style=\"max-height:1000px;max-width:1500px;overflow:auto;\">\n",
        "<table border=\"1\" class=\"dataframe\">\n",
        "  <thead>\n",
        "    <tr style=\"text-align: right;\">\n",
        "      <th></th>\n",
        "      <th>row</th>\n",
        "      <th>date</th>\n",
        "      <th>weekday</th>\n",
        "      <th>day</th>\n",
        "      <th>top10gross</th>\n",
        "      <th>no1moive</th>\n",
        "      <th>gross</th>\n",
        "    </tr>\n",
        "  </thead>\n",
        "  <tbody>\n",
        "    <tr>\n",
        "      <th>0</th>\n",
        "      <td> 1</td>\n",
        "      <td> Jan. 30</td>\n",
        "      <td> Fri</td>\n",
        "      <td> 30</td>\n",
        "      <td> 26168351</td>\n",
        "      <td> American Sniper</td>\n",
        "      <td>  9905616</td>\n",
        "    </tr>\n",
        "    <tr>\n",
        "      <th>1</th>\n",
        "      <td> 2</td>\n",
        "      <td> Jan. 31</td>\n",
        "      <td> Sat</td>\n",
        "      <td> 31</td>\n",
        "      <td> 41633588</td>\n",
        "      <td> American Sniper</td>\n",
        "      <td> 16510536</td>\n",
        "    </tr>\n",
        "    <tr>\n",
        "      <th>2</th>\n",
        "      <td> 3</td>\n",
        "      <td>  Feb. 1</td>\n",
        "      <td> Sun</td>\n",
        "      <td> 32</td>\n",
        "      <td> 12515579</td>\n",
        "      <td> American Sniper</td>\n",
        "      <td>  4244376</td>\n",
        "    </tr>\n",
        "    <tr>\n",
        "      <th>3</th>\n",
        "      <td> 4</td>\n",
        "      <td>  Feb. 2</td>\n",
        "      <td> Mon</td>\n",
        "      <td> 33</td>\n",
        "      <td>  6475068</td>\n",
        "      <td> American Sniper</td>\n",
        "      <td>  2645109</td>\n",
        "    </tr>\n",
        "    <tr>\n",
        "      <th>4</th>\n",
        "      <td> 5</td>\n",
        "      <td>  Feb. 3</td>\n",
        "      <td> Tue</td>\n",
        "      <td> 34</td>\n",
        "      <td>  7825091</td>\n",
        "      <td> American Sniper</td>\n",
        "      <td>  2923141</td>\n",
        "    </tr>\n",
        "  </tbody>\n",
        "</table>\n",
        "</div>"
       ],
       "metadata": {},
       "output_type": "pyout",
<<<<<<< HEAD
       "prompt_number": 16,
=======
       "prompt_number": 56,
>>>>>>> 90d041bb86cfe92cf796428fa6d5a84f2122fc4d
       "text": [
        "   row     date weekday  day  top10gross         no1moive     gross\n",
        "0    1  Jan. 30     Fri   30    26168351  American Sniper   9905616\n",
        "1    2  Jan. 31     Sat   31    41633588  American Sniper  16510536\n",
        "2    3   Feb. 1     Sun   32    12515579  American Sniper   4244376\n",
        "3    4   Feb. 2     Mon   33     6475068  American Sniper   2645109\n",
        "4    5   Feb. 3     Tue   34     7825091  American Sniper   2923141"
       ]
      }
     ],
<<<<<<< HEAD
     "prompt_number": 16
=======
     "prompt_number": 56
>>>>>>> 90d041bb86cfe92cf796428fa6d5a84f2122fc4d
    },
    {
     "cell_type": "heading",
     "level": 4,
     "metadata": {},
     "source": [
      "\u4f7f\u7528 rename \u65b9\u6cd5"
     ]
    },
    {
     "cell_type": "code",
     "collapsed": true,
     "input": [
      "# \u793a\u4f8b 1 \uff1a\u5c0f\u5199\u8f6c\u5927\u5199\n",
      "df = df.rename(columns=lambda x: x.upper())\n",
      "df.tail(3)"
     ],
     "language": "python",
     "metadata": {},
     "outputs": [
      {
       "html": [
        "<div style=\"max-height:1000px;max-width:1500px;overflow:auto;\">\n",
        "<table border=\"1\" class=\"dataframe\">\n",
        "  <thead>\n",
        "    <tr style=\"text-align: right;\">\n",
        "      <th></th>\n",
        "      <th>ROW</th>\n",
        "      <th>DATE</th>\n",
        "      <th>WEEKDAY</th>\n",
        "      <th>DAY</th>\n",
        "      <th>TOP10GROSS</th>\n",
        "      <th>NO1MOIVE</th>\n",
        "      <th>GROSS</th>\n",
        "    </tr>\n",
        "  </thead>\n",
        "  <tbody>\n",
        "    <tr>\n",
        "      <th>26</th>\n",
        "      <td> 27</td>\n",
        "      <td> Feb. 25</td>\n",
        "      <td> Wed</td>\n",
        "      <td> 56</td>\n",
        "      <td>  6862942</td>\n",
        "      <td> Fifty Shades of Grey</td>\n",
        "      <td> 1772230</td>\n",
        "    </tr>\n",
        "    <tr>\n",
        "      <th>27</th>\n",
        "      <td> 28</td>\n",
        "      <td> Feb. 26</td>\n",
        "      <td> Thu</td>\n",
        "      <td> 57</td>\n",
        "      <td>  7161773</td>\n",
        "      <td> Fifty Shades of Grey</td>\n",
        "      <td> 1790520</td>\n",
        "    </tr>\n",
        "    <tr>\n",
        "      <th>28</th>\n",
        "      <td> 29</td>\n",
        "      <td> Feb. 27</td>\n",
        "      <td> Fri</td>\n",
        "      <td> 58</td>\n",
        "      <td> 26457000</td>\n",
        "      <td>         Focus (2015)</td>\n",
        "      <td> 6465000</td>\n",
        "    </tr>\n",
        "  </tbody>\n",
        "</table>\n",
        "</div>"
       ],
       "metadata": {},
       "output_type": "pyout",
<<<<<<< HEAD
       "prompt_number": 17,
=======
       "prompt_number": 57,
>>>>>>> 90d041bb86cfe92cf796428fa6d5a84f2122fc4d
       "text": [
        "    ROW     DATE WEEKDAY  DAY  TOP10GROSS              NO1MOIVE    GROSS\n",
        "26   27  Feb. 25     Wed   56     6862942  Fifty Shades of Grey  1772230\n",
        "27   28  Feb. 26     Thu   57     7161773  Fifty Shades of Grey  1790520\n",
        "28   29  Feb. 27     Fri   58    26457000          Focus (2015)  6465000"
       ]
      }
     ],
<<<<<<< HEAD
     "prompt_number": 17
=======
     "prompt_number": 57
>>>>>>> 90d041bb86cfe92cf796428fa6d5a84f2122fc4d
    },
    {
     "cell_type": "code",
     "collapsed": true,
     "input": [
      "# \u793a\u4f8b 2 \uff1a\u6539\u53d8\u7279\u5b9a\u7684\u5217\u5934\n",
      "df = df.rename(columns={'DATE': u'\u65e5\u671f', 'GROSS': u'\u7968\u623f'})\n",
      "df.head()"
     ],
     "language": "python",
     "metadata": {},
     "outputs": [
      {
       "html": [
        "<div style=\"max-height:1000px;max-width:1500px;overflow:auto;\">\n",
        "<table border=\"1\" class=\"dataframe\">\n",
        "  <thead>\n",
        "    <tr style=\"text-align: right;\">\n",
        "      <th></th>\n",
        "      <th>ROW</th>\n",
        "      <th>\u65e5\u671f</th>\n",
        "      <th>WEEKDAY</th>\n",
        "      <th>DAY</th>\n",
        "      <th>TOP10GROSS</th>\n",
        "      <th>NO1MOIVE</th>\n",
        "      <th>\u7968\u623f</th>\n",
        "    </tr>\n",
        "  </thead>\n",
        "  <tbody>\n",
        "    <tr>\n",
        "      <th>0</th>\n",
        "      <td> 1</td>\n",
        "      <td> Jan. 30</td>\n",
        "      <td> Fri</td>\n",
        "      <td> 30</td>\n",
        "      <td> 26168351</td>\n",
        "      <td> American Sniper</td>\n",
        "      <td>  9905616</td>\n",
        "    </tr>\n",
        "    <tr>\n",
        "      <th>1</th>\n",
        "      <td> 2</td>\n",
        "      <td> Jan. 31</td>\n",
        "      <td> Sat</td>\n",
        "      <td> 31</td>\n",
        "      <td> 41633588</td>\n",
        "      <td> American Sniper</td>\n",
        "      <td> 16510536</td>\n",
        "    </tr>\n",
        "    <tr>\n",
        "      <th>2</th>\n",
        "      <td> 3</td>\n",
        "      <td>  Feb. 1</td>\n",
        "      <td> Sun</td>\n",
        "      <td> 32</td>\n",
        "      <td> 12515579</td>\n",
        "      <td> American Sniper</td>\n",
        "      <td>  4244376</td>\n",
        "    </tr>\n",
        "    <tr>\n",
        "      <th>3</th>\n",
        "      <td> 4</td>\n",
        "      <td>  Feb. 2</td>\n",
        "      <td> Mon</td>\n",
        "      <td> 33</td>\n",
        "      <td>  6475068</td>\n",
        "      <td> American Sniper</td>\n",
        "      <td>  2645109</td>\n",
        "    </tr>\n",
        "    <tr>\n",
        "      <th>4</th>\n",
        "      <td> 5</td>\n",
        "      <td>  Feb. 3</td>\n",
        "      <td> Tue</td>\n",
        "      <td> 34</td>\n",
        "      <td>  7825091</td>\n",
        "      <td> American Sniper</td>\n",
        "      <td>  2923141</td>\n",
        "    </tr>\n",
        "  </tbody>\n",
        "</table>\n",
        "</div>"
       ],
       "metadata": {},
       "output_type": "pyout",
<<<<<<< HEAD
       "prompt_number": 18,
=======
       "prompt_number": 58,
>>>>>>> 90d041bb86cfe92cf796428fa6d5a84f2122fc4d
       "text": [
        "   ROW       \u65e5\u671f WEEKDAY  DAY  TOP10GROSS         NO1MOIVE        \u7968\u623f\n",
        "0    1  Jan. 30     Fri   30    26168351  American Sniper   9905616\n",
        "1    2  Jan. 31     Sat   31    41633588  American Sniper  16510536\n",
        "2    3   Feb. 1     Sun   32    12515579  American Sniper   4244376\n",
        "3    4   Feb. 2     Mon   33     6475068  American Sniper   2645109\n",
        "4    5   Feb. 3     Tue   34     7825091  American Sniper   2923141"
       ]
      }
     ],
<<<<<<< HEAD
     "prompt_number": 18
=======
     "prompt_number": 58
>>>>>>> 90d041bb86cfe92cf796428fa6d5a84f2122fc4d
    },
    {
     "cell_type": "heading",
     "level": 3,
     "metadata": {},
     "source": [
      "\u6253\u5370\u5217\u7c7b\u578b"
     ]
    },
    {
     "cell_type": "code",
     "collapsed": true,
     "input": [
      "df.columns.to_series().groupby(df.dtypes).groups"
     ],
     "language": "python",
     "metadata": {},
     "outputs": [
      {
       "metadata": {},
       "output_type": "pyout",
<<<<<<< HEAD
       "prompt_number": 19,
=======
       "prompt_number": 59,
>>>>>>> 90d041bb86cfe92cf796428fa6d5a84f2122fc4d
       "text": [
        "{dtype('int64'): [u'ROW', u'DAY', u'TOP10GROSS', u'\\u7968\\u623f'],\n",
        " dtype('O'): [u'\\u65e5\\u671f', u'WEEKDAY', u'NO1MOIVE']}"
       ]
      }
     ],
<<<<<<< HEAD
     "prompt_number": 19
=======
     "prompt_number": 59
>>>>>>> 90d041bb86cfe92cf796428fa6d5a84f2122fc4d
    },
    {
     "cell_type": "code",
     "collapsed": false,
     "input": [
      "# \u6253\u5370\u5217\u7c7b\u578b(\u6e05\u6670\u6253\u5370\u4e2d\u6587)\n",
      "types = df.columns.to_series().groupby(df.dtypes).groups\n",
      "for key, value in types.items():\n",
      "    print key,':\\t', ','.join(value)"
     ],
     "language": "python",
     "metadata": {},
     "outputs": [
      {
       "output_type": "stream",
       "stream": "stdout",
       "text": [
        "object :\t\u65e5\u671f,WEEKDAY,NO1MOIVE\n",
        "int64 :\tROW,DAY,TOP10GROSS,\u7968\u623f\n"
       ]
      }
     ],
<<<<<<< HEAD
     "prompt_number": 20
=======
     "prompt_number": 60
>>>>>>> 90d041bb86cfe92cf796428fa6d5a84f2122fc4d
    },
    {
     "cell_type": "heading",
     "level": 3,
     "metadata": {},
     "source": [
      "\u63d2\u5165\u5217"
     ]
    },
    {
     "cell_type": "code",
     "collapsed": false,
     "input": [
      "df = df_movies.copy()\n",
      "# \u65b9\u5f0f\u4e00\uff1a\u5728\u672b\u5c3e\u6dfb\u52a0\n",
      "df['memo'] = pd.Series('', index=df.index)\n",
      "df.head(3)"
     ],
     "language": "python",
     "metadata": {},
     "outputs": [
      {
       "html": [
        "<div style=\"max-height:1000px;max-width:1500px;overflow:auto;\">\n",
        "<table border=\"1\" class=\"dataframe\">\n",
        "  <thead>\n",
        "    <tr style=\"text-align: right;\">\n",
        "      <th></th>\n",
        "      <th>Row</th>\n",
        "      <th>Date</th>\n",
        "      <th>Day</th>\n",
        "      <th>Day#</th>\n",
        "      <th>Top 10 Gross</th>\n",
        "      <th>#1 Movie</th>\n",
        "      <th>Gross</th>\n",
        "      <th>memo</th>\n",
        "    </tr>\n",
        "  </thead>\n",
        "  <tbody>\n",
        "    <tr>\n",
        "      <th>0</th>\n",
        "      <td> 1</td>\n",
        "      <td> Jan. 30</td>\n",
        "      <td> Fri</td>\n",
        "      <td> 30</td>\n",
        "      <td> 26168351</td>\n",
        "      <td> American Sniper</td>\n",
        "      <td>  9905616</td>\n",
        "      <td> </td>\n",
        "    </tr>\n",
        "    <tr>\n",
        "      <th>1</th>\n",
        "      <td> 2</td>\n",
        "      <td> Jan. 31</td>\n",
        "      <td> Sat</td>\n",
        "      <td> 31</td>\n",
        "      <td> 41633588</td>\n",
        "      <td> American Sniper</td>\n",
        "      <td> 16510536</td>\n",
        "      <td> </td>\n",
        "    </tr>\n",
        "    <tr>\n",
        "      <th>2</th>\n",
        "      <td> 3</td>\n",
        "      <td>  Feb. 1</td>\n",
        "      <td> Sun</td>\n",
        "      <td> 32</td>\n",
        "      <td> 12515579</td>\n",
        "      <td> American Sniper</td>\n",
        "      <td>  4244376</td>\n",
        "      <td> </td>\n",
        "    </tr>\n",
        "  </tbody>\n",
        "</table>\n",
        "</div>"
       ],
       "metadata": {},
       "output_type": "pyout",
<<<<<<< HEAD
       "prompt_number": 21,
=======
       "prompt_number": 61,
>>>>>>> 90d041bb86cfe92cf796428fa6d5a84f2122fc4d
       "text": [
        "   Row     Date  Day  Day#  Top 10 Gross         #1 Movie     Gross memo\n",
        "0    1  Jan. 30  Fri    30      26168351  American Sniper   9905616     \n",
        "1    2  Jan. 31  Sat    31      41633588  American Sniper  16510536     \n",
        "2    3   Feb. 1  Sun    32      12515579  American Sniper   4244376     "
       ]
      }
     ],
<<<<<<< HEAD
     "prompt_number": 21
=======
     "prompt_number": 61
>>>>>>> 90d041bb86cfe92cf796428fa6d5a84f2122fc4d
    },
    {
     "cell_type": "code",
     "collapsed": false,
     "input": [
      "# \u65b9\u5f0f\u4e8c\uff1a\u5728\u4e2d\u95f4\u63d2\u5165\n",
      "df = df_movies.copy()\n",
      "df.insert(loc=1, column=u'year', value=u'2015')\n",
      "df.head(3)"
     ],
     "language": "python",
     "metadata": {},
     "outputs": [
      {
       "html": [
        "<div style=\"max-height:1000px;max-width:1500px;overflow:auto;\">\n",
        "<table border=\"1\" class=\"dataframe\">\n",
        "  <thead>\n",
        "    <tr style=\"text-align: right;\">\n",
        "      <th></th>\n",
        "      <th>Row</th>\n",
        "      <th>year</th>\n",
        "      <th>Date</th>\n",
        "      <th>Day</th>\n",
        "      <th>Day#</th>\n",
        "      <th>Top 10 Gross</th>\n",
        "      <th>#1 Movie</th>\n",
        "      <th>Gross</th>\n",
        "    </tr>\n",
        "  </thead>\n",
        "  <tbody>\n",
        "    <tr>\n",
        "      <th>0</th>\n",
        "      <td> 1</td>\n",
        "      <td> 2015</td>\n",
        "      <td> Jan. 30</td>\n",
        "      <td> Fri</td>\n",
        "      <td> 30</td>\n",
        "      <td> 26168351</td>\n",
        "      <td> American Sniper</td>\n",
        "      <td>  9905616</td>\n",
        "    </tr>\n",
        "    <tr>\n",
        "      <th>1</th>\n",
        "      <td> 2</td>\n",
        "      <td> 2015</td>\n",
        "      <td> Jan. 31</td>\n",
        "      <td> Sat</td>\n",
        "      <td> 31</td>\n",
        "      <td> 41633588</td>\n",
        "      <td> American Sniper</td>\n",
        "      <td> 16510536</td>\n",
        "    </tr>\n",
        "    <tr>\n",
        "      <th>2</th>\n",
        "      <td> 3</td>\n",
        "      <td> 2015</td>\n",
        "      <td>  Feb. 1</td>\n",
        "      <td> Sun</td>\n",
        "      <td> 32</td>\n",
        "      <td> 12515579</td>\n",
        "      <td> American Sniper</td>\n",
        "      <td>  4244376</td>\n",
        "    </tr>\n",
        "  </tbody>\n",
        "</table>\n",
        "</div>"
       ],
       "metadata": {},
       "output_type": "pyout",
<<<<<<< HEAD
       "prompt_number": 22,
=======
       "prompt_number": 62,
>>>>>>> 90d041bb86cfe92cf796428fa6d5a84f2122fc4d
       "text": [
        "   Row  year     Date  Day  Day#  Top 10 Gross         #1 Movie     Gross\n",
        "0    1  2015  Jan. 30  Fri    30      26168351  American Sniper   9905616\n",
        "1    2  2015  Jan. 31  Sat    31      41633588  American Sniper  16510536\n",
        "2    3  2015   Feb. 1  Sun    32      12515579  American Sniper   4244376"
       ]
      }
     ],
<<<<<<< HEAD
     "prompt_number": 22
=======
     "prompt_number": 62
>>>>>>> 90d041bb86cfe92cf796428fa6d5a84f2122fc4d
    },
    {
     "cell_type": "code",
     "collapsed": false,
     "input": [
      "# \u6839\u636e\u73b0\u6709\u503c\u751f\u6210\u4e00\u4e2a\u65b0\u7684\u5217\n",
      "df = df_movies.copy()\n",
      "df.insert(loc = 5 , column=u'OtherGross', value=df[u'Top 10 Gross'] - df[u'Gross'])\n",
      "df.head(3)"
     ],
     "language": "python",
     "metadata": {},
     "outputs": [
      {
       "html": [
        "<div style=\"max-height:1000px;max-width:1500px;overflow:auto;\">\n",
        "<table border=\"1\" class=\"dataframe\">\n",
        "  <thead>\n",
        "    <tr style=\"text-align: right;\">\n",
        "      <th></th>\n",
        "      <th>Row</th>\n",
        "      <th>Date</th>\n",
        "      <th>Day</th>\n",
        "      <th>Day#</th>\n",
        "      <th>Top 10 Gross</th>\n",
        "      <th>OtherGross</th>\n",
        "      <th>#1 Movie</th>\n",
        "      <th>Gross</th>\n",
        "    </tr>\n",
        "  </thead>\n",
        "  <tbody>\n",
        "    <tr>\n",
        "      <th>0</th>\n",
        "      <td> 1</td>\n",
        "      <td> Jan. 30</td>\n",
        "      <td> Fri</td>\n",
        "      <td> 30</td>\n",
        "      <td> 26168351</td>\n",
        "      <td> 16262735</td>\n",
        "      <td> American Sniper</td>\n",
        "      <td>  9905616</td>\n",
        "    </tr>\n",
        "    <tr>\n",
        "      <th>1</th>\n",
        "      <td> 2</td>\n",
        "      <td> Jan. 31</td>\n",
        "      <td> Sat</td>\n",
        "      <td> 31</td>\n",
        "      <td> 41633588</td>\n",
        "      <td> 25123052</td>\n",
        "      <td> American Sniper</td>\n",
        "      <td> 16510536</td>\n",
        "    </tr>\n",
        "    <tr>\n",
        "      <th>2</th>\n",
        "      <td> 3</td>\n",
        "      <td>  Feb. 1</td>\n",
        "      <td> Sun</td>\n",
        "      <td> 32</td>\n",
        "      <td> 12515579</td>\n",
        "      <td>  8271203</td>\n",
        "      <td> American Sniper</td>\n",
        "      <td>  4244376</td>\n",
        "    </tr>\n",
        "  </tbody>\n",
        "</table>\n",
        "</div>"
       ],
       "metadata": {},
       "output_type": "pyout",
<<<<<<< HEAD
       "prompt_number": 23,
=======
       "prompt_number": 63,
>>>>>>> 90d041bb86cfe92cf796428fa6d5a84f2122fc4d
       "text": [
        "   Row     Date  Day  Day#  Top 10 Gross  OtherGross         #1 Movie  \\\n",
        "0    1  Jan. 30  Fri    30      26168351    16262735  American Sniper   \n",
        "1    2  Jan. 31  Sat    31      41633588    25123052  American Sniper   \n",
        "2    3   Feb. 1  Sun    32      12515579     8271203  American Sniper   \n",
        "\n",
        "      Gross  \n",
        "0   9905616  \n",
        "1  16510536  \n",
        "2   4244376  "
       ]
      }
     ],
<<<<<<< HEAD
     "prompt_number": 23
=======
     "prompt_number": 63
>>>>>>> 90d041bb86cfe92cf796428fa6d5a84f2122fc4d
    },
    {
     "cell_type": "code",
     "collapsed": false,
     "input": [
      "# \u6839\u636e\u73b0\u6709\u503c\u751f\u6210\u591a\u4e2a\u65b0\u7684\u5217\n",
      "# \u65b9\u6cd5\u4e00\n",
      "df = df_movies.copy()\n",
      "def process_date_col(text):\n",
      "    #\u6839\u636e\u65e5\u671f\u751f\u6210\u6708\u4efd\u548c\u65e5\u4e24\u4e2a\u65b0\u7684\u5217\n",
      "    if pd.isnull(text):\n",
      "        month = day = np.nan\n",
      "    else:\n",
      "        month, day = text.split('.')\n",
      "    return pd.Series([month, day])\n",
      "\n",
      "df[[u'month', u'day']] = df.Date.apply(process_date_col)\n",
      "df.head()"
     ],
     "language": "python",
     "metadata": {},
     "outputs": [
      {
       "html": [
        "<div style=\"max-height:1000px;max-width:1500px;overflow:auto;\">\n",
        "<table border=\"1\" class=\"dataframe\">\n",
        "  <thead>\n",
        "    <tr style=\"text-align: right;\">\n",
        "      <th></th>\n",
        "      <th>Row</th>\n",
        "      <th>Date</th>\n",
        "      <th>Day</th>\n",
        "      <th>Day#</th>\n",
        "      <th>Top 10 Gross</th>\n",
        "      <th>#1 Movie</th>\n",
        "      <th>Gross</th>\n",
        "      <th>month</th>\n",
        "      <th>day</th>\n",
        "    </tr>\n",
        "  </thead>\n",
        "  <tbody>\n",
        "    <tr>\n",
        "      <th>0</th>\n",
        "      <td> 1</td>\n",
        "      <td> Jan. 30</td>\n",
        "      <td> Fri</td>\n",
        "      <td> 30</td>\n",
        "      <td> 26168351</td>\n",
        "      <td> American Sniper</td>\n",
        "      <td>  9905616</td>\n",
        "      <td> Jan</td>\n",
        "      <td>  30</td>\n",
        "    </tr>\n",
        "    <tr>\n",
        "      <th>1</th>\n",
        "      <td> 2</td>\n",
        "      <td> Jan. 31</td>\n",
        "      <td> Sat</td>\n",
        "      <td> 31</td>\n",
        "      <td> 41633588</td>\n",
        "      <td> American Sniper</td>\n",
        "      <td> 16510536</td>\n",
        "      <td> Jan</td>\n",
        "      <td>  31</td>\n",
        "    </tr>\n",
        "    <tr>\n",
        "      <th>2</th>\n",
        "      <td> 3</td>\n",
        "      <td>  Feb. 1</td>\n",
        "      <td> Sun</td>\n",
        "      <td> 32</td>\n",
        "      <td> 12515579</td>\n",
        "      <td> American Sniper</td>\n",
        "      <td>  4244376</td>\n",
        "      <td> Feb</td>\n",
        "      <td>   1</td>\n",
        "    </tr>\n",
        "    <tr>\n",
        "      <th>3</th>\n",
        "      <td> 4</td>\n",
        "      <td>  Feb. 2</td>\n",
        "      <td> Mon</td>\n",
        "      <td> 33</td>\n",
        "      <td>  6475068</td>\n",
        "      <td> American Sniper</td>\n",
        "      <td>  2645109</td>\n",
        "      <td> Feb</td>\n",
        "      <td>   2</td>\n",
        "    </tr>\n",
        "    <tr>\n",
        "      <th>4</th>\n",
        "      <td> 5</td>\n",
        "      <td>  Feb. 3</td>\n",
        "      <td> Tue</td>\n",
        "      <td> 34</td>\n",
        "      <td>  7825091</td>\n",
        "      <td> American Sniper</td>\n",
        "      <td>  2923141</td>\n",
        "      <td> Feb</td>\n",
        "      <td>   3</td>\n",
        "    </tr>\n",
        "  </tbody>\n",
        "</table>\n",
        "</div>"
       ],
       "metadata": {},
       "output_type": "pyout",
<<<<<<< HEAD
       "prompt_number": 24,
=======
       "prompt_number": 64,
>>>>>>> 90d041bb86cfe92cf796428fa6d5a84f2122fc4d
       "text": [
        "   Row     Date  Day  Day#  Top 10 Gross         #1 Movie     Gross month  day\n",
        "0    1  Jan. 30  Fri    30      26168351  American Sniper   9905616   Jan   30\n",
        "1    2  Jan. 31  Sat    31      41633588  American Sniper  16510536   Jan   31\n",
        "2    3   Feb. 1  Sun    32      12515579  American Sniper   4244376   Feb    1\n",
        "3    4   Feb. 2  Mon    33       6475068  American Sniper   2645109   Feb    2\n",
        "4    5   Feb. 3  Tue    34       7825091  American Sniper   2923141   Feb    3"
       ]
      }
     ],
<<<<<<< HEAD
     "prompt_number": 24
=======
     "prompt_number": 64
>>>>>>> 90d041bb86cfe92cf796428fa6d5a84f2122fc4d
    },
    {
     "cell_type": "code",
     "collapsed": false,
     "input": [
      "# \u65b9\u6cd5\u4e8c(\u7ed3\u679c\u540c\u4e0a\uff0c\u4f46\u662f\u6ca1\u6709\u65b9\u6cd5\u4e00\u597d)\n",
      "df = df_movies.copy()\n",
      "for idx, row in df.iterrows():\n",
      "    df.ix[idx, u'month'], df.ix[idx, 'day'] = process_date_col(row[u'Date'])\n",
      "df.head()"
     ],
     "language": "python",
     "metadata": {},
     "outputs": [
      {
       "html": [
        "<div style=\"max-height:1000px;max-width:1500px;overflow:auto;\">\n",
        "<table border=\"1\" class=\"dataframe\">\n",
        "  <thead>\n",
        "    <tr style=\"text-align: right;\">\n",
        "      <th></th>\n",
        "      <th>Row</th>\n",
        "      <th>Date</th>\n",
        "      <th>Day</th>\n",
        "      <th>Day#</th>\n",
        "      <th>Top 10 Gross</th>\n",
        "      <th>#1 Movie</th>\n",
        "      <th>Gross</th>\n",
        "      <th>month</th>\n",
        "      <th>day</th>\n",
        "    </tr>\n",
        "  </thead>\n",
        "  <tbody>\n",
        "    <tr>\n",
        "      <th>0</th>\n",
        "      <td> 1</td>\n",
        "      <td> Jan. 30</td>\n",
        "      <td> Fri</td>\n",
        "      <td> 30</td>\n",
        "      <td> 26168351</td>\n",
        "      <td> American Sniper</td>\n",
        "      <td>  9905616</td>\n",
        "      <td> Jan</td>\n",
        "      <td>  30</td>\n",
        "    </tr>\n",
        "    <tr>\n",
        "      <th>1</th>\n",
        "      <td> 2</td>\n",
        "      <td> Jan. 31</td>\n",
        "      <td> Sat</td>\n",
        "      <td> 31</td>\n",
        "      <td> 41633588</td>\n",
        "      <td> American Sniper</td>\n",
        "      <td> 16510536</td>\n",
        "      <td> Jan</td>\n",
        "      <td>  31</td>\n",
        "    </tr>\n",
        "    <tr>\n",
        "      <th>2</th>\n",
        "      <td> 3</td>\n",
        "      <td>  Feb. 1</td>\n",
        "      <td> Sun</td>\n",
        "      <td> 32</td>\n",
        "      <td> 12515579</td>\n",
        "      <td> American Sniper</td>\n",
        "      <td>  4244376</td>\n",
        "      <td> Feb</td>\n",
        "      <td>   1</td>\n",
        "    </tr>\n",
        "    <tr>\n",
        "      <th>3</th>\n",
        "      <td> 4</td>\n",
        "      <td>  Feb. 2</td>\n",
        "      <td> Mon</td>\n",
        "      <td> 33</td>\n",
        "      <td>  6475068</td>\n",
        "      <td> American Sniper</td>\n",
        "      <td>  2645109</td>\n",
        "      <td> Feb</td>\n",
        "      <td>   2</td>\n",
        "    </tr>\n",
        "    <tr>\n",
        "      <th>4</th>\n",
        "      <td> 5</td>\n",
        "      <td>  Feb. 3</td>\n",
        "      <td> Tue</td>\n",
        "      <td> 34</td>\n",
        "      <td>  7825091</td>\n",
        "      <td> American Sniper</td>\n",
        "      <td>  2923141</td>\n",
        "      <td> Feb</td>\n",
        "      <td>   3</td>\n",
        "    </tr>\n",
        "  </tbody>\n",
        "</table>\n",
        "</div>"
       ],
       "metadata": {},
       "output_type": "pyout",
<<<<<<< HEAD
       "prompt_number": 25,
=======
       "prompt_number": 65,
>>>>>>> 90d041bb86cfe92cf796428fa6d5a84f2122fc4d
       "text": [
        "   Row     Date  Day  Day#  Top 10 Gross         #1 Movie     Gross month  day\n",
        "0    1  Jan. 30  Fri    30      26168351  American Sniper   9905616   Jan   30\n",
        "1    2  Jan. 31  Sat    31      41633588  American Sniper  16510536   Jan   31\n",
        "2    3   Feb. 1  Sun    32      12515579  American Sniper   4244376   Feb    1\n",
        "3    4   Feb. 2  Mon    33       6475068  American Sniper   2645109   Feb    2\n",
        "4    5   Feb. 3  Tue    34       7825091  American Sniper   2923141   Feb    3"
       ]
      }
     ],
<<<<<<< HEAD
     "prompt_number": 25
=======
     "prompt_number": 65
>>>>>>> 90d041bb86cfe92cf796428fa6d5a84f2122fc4d
    },
    {
     "cell_type": "heading",
     "level": 3,
     "metadata": {},
     "source": [
      "\u6539\u53d8\u5217\u503c"
     ]
    },
    {
     "cell_type": "code",
     "collapsed": false,
     "input": [
      "df = df_movies.copy()\n",
      "#\u6839\u636e\u4e00\u5217\u7684\u503c\u6539\u53d8\u53e6\u4e00\u5217\n",
      "df[u'#1 Movie'] = df[u'#1 Movie'].apply(lambda x: x[::-1])\n",
      "df.head(3)"
     ],
     "language": "python",
     "metadata": {},
     "outputs": [
      {
       "html": [
        "<div style=\"max-height:1000px;max-width:1500px;overflow:auto;\">\n",
        "<table border=\"1\" class=\"dataframe\">\n",
        "  <thead>\n",
        "    <tr style=\"text-align: right;\">\n",
        "      <th></th>\n",
        "      <th>Row</th>\n",
        "      <th>Date</th>\n",
        "      <th>Day</th>\n",
        "      <th>Day#</th>\n",
        "      <th>Top 10 Gross</th>\n",
        "      <th>#1 Movie</th>\n",
        "      <th>Gross</th>\n",
        "    </tr>\n",
        "  </thead>\n",
        "  <tbody>\n",
        "    <tr>\n",
        "      <th>0</th>\n",
        "      <td> 1</td>\n",
        "      <td> Jan. 30</td>\n",
        "      <td> Fri</td>\n",
        "      <td> 30</td>\n",
        "      <td> 26168351</td>\n",
        "      <td> repinS naciremA</td>\n",
        "      <td>  9905616</td>\n",
        "    </tr>\n",
        "    <tr>\n",
        "      <th>1</th>\n",
        "      <td> 2</td>\n",
        "      <td> Jan. 31</td>\n",
        "      <td> Sat</td>\n",
        "      <td> 31</td>\n",
        "      <td> 41633588</td>\n",
        "      <td> repinS naciremA</td>\n",
        "      <td> 16510536</td>\n",
        "    </tr>\n",
        "    <tr>\n",
        "      <th>2</th>\n",
        "      <td> 3</td>\n",
        "      <td>  Feb. 1</td>\n",
        "      <td> Sun</td>\n",
        "      <td> 32</td>\n",
        "      <td> 12515579</td>\n",
        "      <td> repinS naciremA</td>\n",
        "      <td>  4244376</td>\n",
        "    </tr>\n",
        "  </tbody>\n",
        "</table>\n",
        "</div>"
       ],
       "metadata": {},
       "output_type": "pyout",
<<<<<<< HEAD
       "prompt_number": 26,
=======
       "prompt_number": 66,
>>>>>>> 90d041bb86cfe92cf796428fa6d5a84f2122fc4d
       "text": [
        "   Row     Date  Day  Day#  Top 10 Gross         #1 Movie     Gross\n",
        "0    1  Jan. 30  Fri    30      26168351  repinS naciremA   9905616\n",
        "1    2  Jan. 31  Sat    31      41633588  repinS naciremA  16510536\n",
        "2    3   Feb. 1  Sun    32      12515579  repinS naciremA   4244376"
       ]
      }
     ],
<<<<<<< HEAD
     "prompt_number": 26
=======
     "prompt_number": 66
>>>>>>> 90d041bb86cfe92cf796428fa6d5a84f2122fc4d
    },
    {
     "cell_type": "code",
     "collapsed": false,
     "input": [
      "# \u540c\u65f6\u6539\u53d8\u591a\u4e2a\u5217\u7684\u503c\n",
      "cols = [u'Gross', u'Top 10 Gross']\n",
      "df[cols] = df[cols].applymap(lambda x: x/10000)\n",
      "df.head(3)"
     ],
     "language": "python",
     "metadata": {},
     "outputs": [
      {
       "html": [
        "<div style=\"max-height:1000px;max-width:1500px;overflow:auto;\">\n",
        "<table border=\"1\" class=\"dataframe\">\n",
        "  <thead>\n",
        "    <tr style=\"text-align: right;\">\n",
        "      <th></th>\n",
        "      <th>Row</th>\n",
        "      <th>Date</th>\n",
        "      <th>Day</th>\n",
        "      <th>Day#</th>\n",
        "      <th>Top 10 Gross</th>\n",
        "      <th>#1 Movie</th>\n",
        "      <th>Gross</th>\n",
        "    </tr>\n",
        "  </thead>\n",
        "  <tbody>\n",
        "    <tr>\n",
        "      <th>0</th>\n",
        "      <td> 1</td>\n",
        "      <td> Jan. 30</td>\n",
        "      <td> Fri</td>\n",
        "      <td> 30</td>\n",
        "      <td> 2616</td>\n",
        "      <td> repinS naciremA</td>\n",
        "      <td>  990</td>\n",
        "    </tr>\n",
        "    <tr>\n",
        "      <th>1</th>\n",
        "      <td> 2</td>\n",
        "      <td> Jan. 31</td>\n",
        "      <td> Sat</td>\n",
        "      <td> 31</td>\n",
        "      <td> 4163</td>\n",
        "      <td> repinS naciremA</td>\n",
        "      <td> 1651</td>\n",
        "    </tr>\n",
        "    <tr>\n",
        "      <th>2</th>\n",
        "      <td> 3</td>\n",
        "      <td>  Feb. 1</td>\n",
        "      <td> Sun</td>\n",
        "      <td> 32</td>\n",
        "      <td> 1251</td>\n",
        "      <td> repinS naciremA</td>\n",
        "      <td>  424</td>\n",
        "    </tr>\n",
        "  </tbody>\n",
        "</table>\n",
        "</div>"
       ],
       "metadata": {},
       "output_type": "pyout",
<<<<<<< HEAD
       "prompt_number": 27,
=======
       "prompt_number": 67,
>>>>>>> 90d041bb86cfe92cf796428fa6d5a84f2122fc4d
       "text": [
        "   Row     Date  Day  Day#  Top 10 Gross         #1 Movie  Gross\n",
        "0    1  Jan. 30  Fri    30          2616  repinS naciremA    990\n",
        "1    2  Jan. 31  Sat    31          4163  repinS naciremA   1651\n",
        "2    3   Feb. 1  Sun    32          1251  repinS naciremA    424"
       ]
      }
     ],
<<<<<<< HEAD
     "prompt_number": 27
=======
     "prompt_number": 67
>>>>>>> 90d041bb86cfe92cf796428fa6d5a84f2122fc4d
    },
    {
     "cell_type": "heading",
     "level": 2,
     "metadata": {},
     "source": [
      "\u64cd\u4f5c\u884c"
     ]
    },
    {
     "cell_type": "code",
     "collapsed": false,
     "input": [
      "df = df_movies.copy()\n",
      "# \u6dfb\u52a0\u4e00\u4e2a\u7a7a\u884c\n",
      "df = df.append(pd.Series(\n",
      "                [np.nan]*len(df.columns), # Fill cells with NaNs\n",
      "                index=df.columns),\n",
      "                ignore_index=True)\n",
      "df.tail(3)"
     ],
     "language": "python",
     "metadata": {},
     "outputs": [
      {
       "html": [
        "<div style=\"max-height:1000px;max-width:1500px;overflow:auto;\">\n",
        "<table border=\"1\" class=\"dataframe\">\n",
        "  <thead>\n",
        "    <tr style=\"text-align: right;\">\n",
        "      <th></th>\n",
        "      <th>Row</th>\n",
        "      <th>Date</th>\n",
        "      <th>Day</th>\n",
        "      <th>Day#</th>\n",
        "      <th>Top 10 Gross</th>\n",
        "      <th>#1 Movie</th>\n",
        "      <th>Gross</th>\n",
        "    </tr>\n",
        "  </thead>\n",
        "  <tbody>\n",
        "    <tr>\n",
        "      <th>27</th>\n",
        "      <td> 28</td>\n",
        "      <td> Feb. 26</td>\n",
        "      <td> Thu</td>\n",
        "      <td> 57</td>\n",
        "      <td>  7161773</td>\n",
        "      <td> Fifty Shades of Grey</td>\n",
        "      <td> 1790520</td>\n",
        "    </tr>\n",
        "    <tr>\n",
        "      <th>28</th>\n",
        "      <td> 29</td>\n",
        "      <td> Feb. 27</td>\n",
        "      <td> Fri</td>\n",
        "      <td> 58</td>\n",
        "      <td> 26457000</td>\n",
        "      <td>         Focus (2015)</td>\n",
        "      <td> 6465000</td>\n",
        "    </tr>\n",
        "    <tr>\n",
        "      <th>29</th>\n",
        "      <td>NaN</td>\n",
        "      <td>     NaN</td>\n",
        "      <td> NaN</td>\n",
        "      <td>NaN</td>\n",
        "      <td>      NaN</td>\n",
        "      <td>                  NaN</td>\n",
        "      <td>     NaN</td>\n",
        "    </tr>\n",
        "  </tbody>\n",
        "</table>\n",
        "</div>"
       ],
       "metadata": {},
       "output_type": "pyout",
<<<<<<< HEAD
       "prompt_number": 28,
=======
       "prompt_number": 68,
>>>>>>> 90d041bb86cfe92cf796428fa6d5a84f2122fc4d
       "text": [
        "    Row     Date  Day  Day#  Top 10 Gross              #1 Movie    Gross\n",
        "27   28  Feb. 26  Thu    57       7161773  Fifty Shades of Grey  1790520\n",
        "28   29  Feb. 27  Fri    58      26457000          Focus (2015)  6465000\n",
        "29  NaN      NaN  NaN   NaN           NaN                   NaN      NaN"
       ]
      }
     ],
<<<<<<< HEAD
     "prompt_number": 28
=======
     "prompt_number": 68
>>>>>>> 90d041bb86cfe92cf796428fa6d5a84f2122fc4d
    },
    {
     "cell_type": "heading",
     "level": 2,
     "metadata": {},
     "source": [
      "\u7a7a\u503c\u5904\u7406\uff08NaN\uff09"
     ]
    },
    {
     "cell_type": "code",
     "collapsed": false,
     "input": [
      "# \u8ba1\u6570\u6709\u7a7a\u503c\u7684\u884c\n",
      "nans = df.shape[0] - df.dropna().shape[0]\n",
      "print(u'\u4e00\u5171\u6709 %d \u884c\u51fa\u73b0\u7a7a\u503c' % nans)\n",
      "\n",
      "# \u586b\u5145\u7a7a\u503c\u4e3a`\u65e0`\n",
      "df.fillna(value=u'\u65e0', inplace=True)\n",
      "df.tail()"
     ],
     "language": "python",
     "metadata": {},
     "outputs": [
      {
       "output_type": "stream",
       "stream": "stdout",
       "text": [
        "\u4e00\u5171\u6709 1 \u884c\u51fa\u73b0\u7a7a\u503c\n"
       ]
      },
      {
       "html": [
        "<div style=\"max-height:1000px;max-width:1500px;overflow:auto;\">\n",
        "<table border=\"1\" class=\"dataframe\">\n",
        "  <thead>\n",
        "    <tr style=\"text-align: right;\">\n",
        "      <th></th>\n",
        "      <th>Row</th>\n",
        "      <th>Date</th>\n",
        "      <th>Day</th>\n",
        "      <th>Day#</th>\n",
        "      <th>Top 10 Gross</th>\n",
        "      <th>#1 Movie</th>\n",
        "      <th>Gross</th>\n",
        "    </tr>\n",
        "  </thead>\n",
        "  <tbody>\n",
        "    <tr>\n",
        "      <th>25</th>\n",
        "      <td> 26</td>\n",
        "      <td> Feb. 24</td>\n",
        "      <td> Tue</td>\n",
        "      <td> 55</td>\n",
        "      <td>    9424126</td>\n",
        "      <td> Fifty Shades of Grey</td>\n",
        "      <td> 2265910</td>\n",
        "    </tr>\n",
        "    <tr>\n",
        "      <th>26</th>\n",
        "      <td> 27</td>\n",
        "      <td> Feb. 25</td>\n",
        "      <td> Wed</td>\n",
        "      <td> 56</td>\n",
        "      <td>    6862942</td>\n",
        "      <td> Fifty Shades of Grey</td>\n",
        "      <td> 1772230</td>\n",
        "    </tr>\n",
        "    <tr>\n",
        "      <th>27</th>\n",
        "      <td> 28</td>\n",
        "      <td> Feb. 26</td>\n",
        "      <td> Thu</td>\n",
        "      <td> 57</td>\n",
        "      <td>    7161773</td>\n",
        "      <td> Fifty Shades of Grey</td>\n",
        "      <td> 1790520</td>\n",
        "    </tr>\n",
        "    <tr>\n",
        "      <th>28</th>\n",
        "      <td> 29</td>\n",
        "      <td> Feb. 27</td>\n",
        "      <td> Fri</td>\n",
        "      <td> 58</td>\n",
        "      <td> 2.6457e+07</td>\n",
        "      <td>         Focus (2015)</td>\n",
        "      <td> 6465000</td>\n",
        "    </tr>\n",
        "    <tr>\n",
        "      <th>29</th>\n",
        "      <td>  \u65e0</td>\n",
        "      <td>       \u65e0</td>\n",
        "      <td>   \u65e0</td>\n",
        "      <td>  \u65e0</td>\n",
        "      <td>          \u65e0</td>\n",
        "      <td>                    \u65e0</td>\n",
        "      <td>       \u65e0</td>\n",
        "    </tr>\n",
        "  </tbody>\n",
        "</table>\n",
        "</div>"
       ],
       "metadata": {},
       "output_type": "pyout",
<<<<<<< HEAD
       "prompt_number": 29,
=======
       "prompt_number": 69,
>>>>>>> 90d041bb86cfe92cf796428fa6d5a84f2122fc4d
       "text": [
        "   Row     Date  Day Day# Top 10 Gross              #1 Movie    Gross\n",
        "25  26  Feb. 24  Tue   55      9424126  Fifty Shades of Grey  2265910\n",
        "26  27  Feb. 25  Wed   56      6862942  Fifty Shades of Grey  1772230\n",
        "27  28  Feb. 26  Thu   57      7161773  Fifty Shades of Grey  1790520\n",
        "28  29  Feb. 27  Fri   58   2.6457e+07          Focus (2015)  6465000\n",
        "29   \u65e0        \u65e0    \u65e0    \u65e0            \u65e0                     \u65e0        \u65e0"
       ]
      }
     ],
<<<<<<< HEAD
     "prompt_number": 29
=======
     "prompt_number": 69
>>>>>>> 90d041bb86cfe92cf796428fa6d5a84f2122fc4d
    },
    {
     "cell_type": "heading",
     "level": 2,
     "metadata": {},
     "source": [
      "\u6392\u5e8f"
     ]
    },
    {
     "cell_type": "code",
     "collapsed": false,
     "input": [
      "df = df_movies.copy()\n",
      "# \u6dfb\u52a0\u4e00\u4e2a\u7a7a\u884c\n",
      "df = df.append(pd.Series(\n",
      "                [np.nan]*len(df.columns), # Fill cells with NaNs\n",
      "                index=df.columns),\n",
      "                ignore_index=True)\n",
      "# \u6839\u636e\u67d0\u4e00\u5217\u6392\u5e8f\uff08\u7531\u4f4e\u5230\u9ad8\uff09\n",
      "df.sort(u'Gross', ascending=True, inplace=True)\n",
      "df.head()"
     ],
     "language": "python",
     "metadata": {},
     "outputs": [
      {
       "html": [
        "<div style=\"max-height:1000px;max-width:1500px;overflow:auto;\">\n",
        "<table border=\"1\" class=\"dataframe\">\n",
        "  <thead>\n",
        "    <tr style=\"text-align: right;\">\n",
        "      <th></th>\n",
        "      <th>Row</th>\n",
        "      <th>Date</th>\n",
        "      <th>Day</th>\n",
        "      <th>Day#</th>\n",
        "      <th>Top 10 Gross</th>\n",
        "      <th>#1 Movie</th>\n",
        "      <th>Gross</th>\n",
        "    </tr>\n",
        "  </thead>\n",
        "  <tbody>\n",
        "    <tr>\n",
        "      <th>12</th>\n",
        "      <td> 13</td>\n",
        "      <td> Feb. 11</td>\n",
        "      <td> Wed</td>\n",
        "      <td> 42</td>\n",
        "      <td> 6138013</td>\n",
        "      <td>      American Sniper</td>\n",
        "      <td> 1468160</td>\n",
        "    </tr>\n",
        "    <tr>\n",
        "      <th>13</th>\n",
        "      <td> 14</td>\n",
        "      <td> Feb. 12</td>\n",
        "      <td> Thu</td>\n",
        "      <td> 43</td>\n",
        "      <td> 5969515</td>\n",
        "      <td>            SpongeBob</td>\n",
        "      <td> 1527552</td>\n",
        "    </tr>\n",
        "    <tr>\n",
        "      <th>26</th>\n",
        "      <td> 27</td>\n",
        "      <td> Feb. 25</td>\n",
        "      <td> Wed</td>\n",
        "      <td> 56</td>\n",
        "      <td> 6862942</td>\n",
        "      <td> Fifty Shades of Grey</td>\n",
        "      <td> 1772230</td>\n",
        "    </tr>\n",
        "    <tr>\n",
        "      <th>27</th>\n",
        "      <td> 28</td>\n",
        "      <td> Feb. 26</td>\n",
        "      <td> Thu</td>\n",
        "      <td> 57</td>\n",
        "      <td> 7161773</td>\n",
        "      <td> Fifty Shades of Grey</td>\n",
        "      <td> 1790520</td>\n",
        "    </tr>\n",
        "    <tr>\n",
        "      <th>24</th>\n",
        "      <td> 25</td>\n",
        "      <td> Feb. 23</td>\n",
        "      <td> Mon</td>\n",
        "      <td> 54</td>\n",
        "      <td> 7385671</td>\n",
        "      <td> Fifty Shades of Grey</td>\n",
        "      <td> 1846390</td>\n",
        "    </tr>\n",
        "  </tbody>\n",
        "</table>\n",
        "</div>"
       ],
       "metadata": {},
       "output_type": "pyout",
<<<<<<< HEAD
       "prompt_number": 30,
=======
       "prompt_number": 70,
>>>>>>> 90d041bb86cfe92cf796428fa6d5a84f2122fc4d
       "text": [
        "    Row     Date  Day  Day#  Top 10 Gross              #1 Movie    Gross\n",
        "12   13  Feb. 11  Wed    42       6138013       American Sniper  1468160\n",
        "13   14  Feb. 12  Thu    43       5969515             SpongeBob  1527552\n",
        "26   27  Feb. 25  Wed    56       6862942  Fifty Shades of Grey  1772230\n",
        "27   28  Feb. 26  Thu    57       7161773  Fifty Shades of Grey  1790520\n",
        "24   25  Feb. 23  Mon    54       7385671  Fifty Shades of Grey  1846390"
       ]
      }
     ],
<<<<<<< HEAD
     "prompt_number": 30
=======
     "prompt_number": 70
>>>>>>> 90d041bb86cfe92cf796428fa6d5a84f2122fc4d
    },
    {
     "cell_type": "code",
     "collapsed": false,
     "input": [
      "# \u6392\u5e8f\u540e\u91cd\u65b0\u7f16\u5236\u7d22\u5f15\n",
      "df.index = range(1,len(df.index)+1)\n",
      "df.head()"
     ],
     "language": "python",
     "metadata": {},
     "outputs": [
      {
       "html": [
        "<div style=\"max-height:1000px;max-width:1500px;overflow:auto;\">\n",
        "<table border=\"1\" class=\"dataframe\">\n",
        "  <thead>\n",
        "    <tr style=\"text-align: right;\">\n",
        "      <th></th>\n",
        "      <th>Row</th>\n",
        "      <th>Date</th>\n",
        "      <th>Day</th>\n",
        "      <th>Day#</th>\n",
        "      <th>Top 10 Gross</th>\n",
        "      <th>#1 Movie</th>\n",
        "      <th>Gross</th>\n",
        "    </tr>\n",
        "  </thead>\n",
        "  <tbody>\n",
        "    <tr>\n",
        "      <th>1</th>\n",
        "      <td> 13</td>\n",
        "      <td> Feb. 11</td>\n",
        "      <td> Wed</td>\n",
        "      <td> 42</td>\n",
        "      <td> 6138013</td>\n",
        "      <td>      American Sniper</td>\n",
        "      <td> 1468160</td>\n",
        "    </tr>\n",
        "    <tr>\n",
        "      <th>2</th>\n",
        "      <td> 14</td>\n",
        "      <td> Feb. 12</td>\n",
        "      <td> Thu</td>\n",
        "      <td> 43</td>\n",
        "      <td> 5969515</td>\n",
        "      <td>            SpongeBob</td>\n",
        "      <td> 1527552</td>\n",
        "    </tr>\n",
        "    <tr>\n",
        "      <th>3</th>\n",
        "      <td> 27</td>\n",
        "      <td> Feb. 25</td>\n",
        "      <td> Wed</td>\n",
        "      <td> 56</td>\n",
        "      <td> 6862942</td>\n",
        "      <td> Fifty Shades of Grey</td>\n",
        "      <td> 1772230</td>\n",
        "    </tr>\n",
        "    <tr>\n",
        "      <th>4</th>\n",
        "      <td> 28</td>\n",
        "      <td> Feb. 26</td>\n",
        "      <td> Thu</td>\n",
        "      <td> 57</td>\n",
        "      <td> 7161773</td>\n",
        "      <td> Fifty Shades of Grey</td>\n",
        "      <td> 1790520</td>\n",
        "    </tr>\n",
        "    <tr>\n",
        "      <th>5</th>\n",
        "      <td> 25</td>\n",
        "      <td> Feb. 23</td>\n",
        "      <td> Mon</td>\n",
        "      <td> 54</td>\n",
        "      <td> 7385671</td>\n",
        "      <td> Fifty Shades of Grey</td>\n",
        "      <td> 1846390</td>\n",
        "    </tr>\n",
        "  </tbody>\n",
        "</table>\n",
        "</div>"
       ],
       "metadata": {},
       "output_type": "pyout",
<<<<<<< HEAD
       "prompt_number": 31,
=======
       "prompt_number": 71,
>>>>>>> 90d041bb86cfe92cf796428fa6d5a84f2122fc4d
       "text": [
        "   Row     Date  Day  Day#  Top 10 Gross              #1 Movie    Gross\n",
        "1   13  Feb. 11  Wed    42       6138013       American Sniper  1468160\n",
        "2   14  Feb. 12  Thu    43       5969515             SpongeBob  1527552\n",
        "3   27  Feb. 25  Wed    56       6862942  Fifty Shades of Grey  1772230\n",
        "4   28  Feb. 26  Thu    57       7161773  Fifty Shades of Grey  1790520\n",
        "5   25  Feb. 23  Mon    54       7385671  Fifty Shades of Grey  1846390"
       ]
      }
     ],
<<<<<<< HEAD
     "prompt_number": 31
=======
     "prompt_number": 71
>>>>>>> 90d041bb86cfe92cf796428fa6d5a84f2122fc4d
    },
    {
     "cell_type": "heading",
     "level": 2,
     "metadata": {},
     "source": [
      "\u8fc7\u6ee4"
     ]
    },
    {
     "cell_type": "code",
     "collapsed": false,
     "input": [
      "df = df_movies.copy()\n",
      "# \u6839\u636e\u5217\u7c7b\u578b\u8fc7\u6ee4\n",
      "# \u53ea\u9009\u62e9\u5b57\u7b26\u4e32\u578b\u7684\u5217\n",
      "df.loc[:, (df.dtypes == np.dtype('O')).values].head()"
     ],
     "language": "python",
     "metadata": {},
     "outputs": [
      {
       "html": [
        "<div style=\"max-height:1000px;max-width:1500px;overflow:auto;\">\n",
        "<table border=\"1\" class=\"dataframe\">\n",
        "  <thead>\n",
        "    <tr style=\"text-align: right;\">\n",
        "      <th></th>\n",
        "      <th>Date</th>\n",
        "      <th>Day</th>\n",
        "      <th>#1 Movie</th>\n",
        "    </tr>\n",
        "  </thead>\n",
        "  <tbody>\n",
        "    <tr>\n",
        "      <th>0</th>\n",
        "      <td> Jan. 30</td>\n",
        "      <td> Fri</td>\n",
        "      <td> American Sniper</td>\n",
        "    </tr>\n",
        "    <tr>\n",
        "      <th>1</th>\n",
        "      <td> Jan. 31</td>\n",
        "      <td> Sat</td>\n",
        "      <td> American Sniper</td>\n",
        "    </tr>\n",
        "    <tr>\n",
        "      <th>2</th>\n",
        "      <td>  Feb. 1</td>\n",
        "      <td> Sun</td>\n",
        "      <td> American Sniper</td>\n",
        "    </tr>\n",
        "    <tr>\n",
        "      <th>3</th>\n",
        "      <td>  Feb. 2</td>\n",
        "      <td> Mon</td>\n",
        "      <td> American Sniper</td>\n",
        "    </tr>\n",
        "    <tr>\n",
        "      <th>4</th>\n",
        "      <td>  Feb. 3</td>\n",
        "      <td> Tue</td>\n",
        "      <td> American Sniper</td>\n",
        "    </tr>\n",
        "  </tbody>\n",
        "</table>\n",
        "</div>"
       ],
       "metadata": {},
       "output_type": "pyout",
<<<<<<< HEAD
       "prompt_number": 32,
=======
       "prompt_number": 72,
>>>>>>> 90d041bb86cfe92cf796428fa6d5a84f2122fc4d
       "text": [
        "      Date  Day         #1 Movie\n",
        "0  Jan. 30  Fri  American Sniper\n",
        "1  Jan. 31  Sat  American Sniper\n",
        "2   Feb. 1  Sun  American Sniper\n",
        "3   Feb. 2  Mon  American Sniper\n",
        "4   Feb. 3  Tue  American Sniper"
       ]
      }
     ],
<<<<<<< HEAD
     "prompt_number": 32
=======
     "prompt_number": 72
>>>>>>> 90d041bb86cfe92cf796428fa6d5a84f2122fc4d
    },
    {
     "cell_type": "code",
     "collapsed": false,
     "input": [
      "# \u9009\u62e9 artifact \u4e3a\u7a7a\u503c\u7684\u884c\n",
      "df.ix[0, u'Gross'] = np.nan\n",
      "df.ix[3, u'Gross'] = np.nan\n",
      "df[df[u'Gross'].isnull()].head()"
     ],
     "language": "python",
     "metadata": {},
     "outputs": [
      {
       "html": [
        "<div style=\"max-height:1000px;max-width:1500px;overflow:auto;\">\n",
        "<table border=\"1\" class=\"dataframe\">\n",
        "  <thead>\n",
        "    <tr style=\"text-align: right;\">\n",
        "      <th></th>\n",
        "      <th>Row</th>\n",
        "      <th>Date</th>\n",
        "      <th>Day</th>\n",
        "      <th>Day#</th>\n",
        "      <th>Top 10 Gross</th>\n",
        "      <th>#1 Movie</th>\n",
        "      <th>Gross</th>\n",
        "    </tr>\n",
        "  </thead>\n",
        "  <tbody>\n",
        "    <tr>\n",
        "      <th>0</th>\n",
        "      <td> 1</td>\n",
        "      <td> Jan. 30</td>\n",
        "      <td> Fri</td>\n",
        "      <td> 30</td>\n",
        "      <td> 26168351</td>\n",
        "      <td> American Sniper</td>\n",
        "      <td>NaN</td>\n",
        "    </tr>\n",
        "    <tr>\n",
        "      <th>3</th>\n",
        "      <td> 4</td>\n",
        "      <td>  Feb. 2</td>\n",
        "      <td> Mon</td>\n",
        "      <td> 33</td>\n",
        "      <td>  6475068</td>\n",
        "      <td> American Sniper</td>\n",
        "      <td>NaN</td>\n",
        "    </tr>\n",
        "  </tbody>\n",
        "</table>\n",
        "</div>"
       ],
       "metadata": {},
       "output_type": "pyout",
<<<<<<< HEAD
       "prompt_number": 33,
=======
       "prompt_number": 73,
>>>>>>> 90d041bb86cfe92cf796428fa6d5a84f2122fc4d
       "text": [
        "   Row     Date  Day  Day#  Top 10 Gross         #1 Movie  Gross\n",
        "0    1  Jan. 30  Fri    30      26168351  American Sniper    NaN\n",
        "3    4   Feb. 2  Mon    33       6475068  American Sniper    NaN"
       ]
      }
     ],
<<<<<<< HEAD
     "prompt_number": 33
=======
     "prompt_number": 73
>>>>>>> 90d041bb86cfe92cf796428fa6d5a84f2122fc4d
    },
    {
     "cell_type": "code",
     "collapsed": false,
     "input": [
      "# \u9009\u62e9'Gross'\u4e3a\u975e\u7a7a\u503c\u7684\u884c\n",
      "df[df[u'Gross'].notnull()].head()"
     ],
     "language": "python",
     "metadata": {},
     "outputs": [
      {
       "html": [
        "<div style=\"max-height:1000px;max-width:1500px;overflow:auto;\">\n",
        "<table border=\"1\" class=\"dataframe\">\n",
        "  <thead>\n",
        "    <tr style=\"text-align: right;\">\n",
        "      <th></th>\n",
        "      <th>Row</th>\n",
        "      <th>Date</th>\n",
        "      <th>Day</th>\n",
        "      <th>Day#</th>\n",
        "      <th>Top 10 Gross</th>\n",
        "      <th>#1 Movie</th>\n",
        "      <th>Gross</th>\n",
        "    </tr>\n",
        "  </thead>\n",
        "  <tbody>\n",
        "    <tr>\n",
        "      <th>1</th>\n",
        "      <td> 2</td>\n",
        "      <td> Jan. 31</td>\n",
        "      <td> Sat</td>\n",
        "      <td> 31</td>\n",
        "      <td> 41633588</td>\n",
        "      <td> American Sniper</td>\n",
        "      <td> 16510536</td>\n",
        "    </tr>\n",
        "    <tr>\n",
        "      <th>2</th>\n",
        "      <td> 3</td>\n",
        "      <td>  Feb. 1</td>\n",
        "      <td> Sun</td>\n",
        "      <td> 32</td>\n",
        "      <td> 12515579</td>\n",
        "      <td> American Sniper</td>\n",
        "      <td>  4244376</td>\n",
        "    </tr>\n",
        "    <tr>\n",
        "      <th>4</th>\n",
        "      <td> 5</td>\n",
        "      <td>  Feb. 3</td>\n",
        "      <td> Tue</td>\n",
        "      <td> 34</td>\n",
        "      <td>  7825091</td>\n",
        "      <td> American Sniper</td>\n",
        "      <td>  2923141</td>\n",
        "    </tr>\n",
        "    <tr>\n",
        "      <th>5</th>\n",
        "      <td> 6</td>\n",
        "      <td>  Feb. 4</td>\n",
        "      <td> Wed</td>\n",
        "      <td> 35</td>\n",
        "      <td>  5819529</td>\n",
        "      <td> American Sniper</td>\n",
        "      <td>  2273342</td>\n",
        "    </tr>\n",
        "    <tr>\n",
        "      <th>6</th>\n",
        "      <td> 7</td>\n",
        "      <td>  Feb. 5</td>\n",
        "      <td> Thu</td>\n",
        "      <td> 36</td>\n",
        "      <td>  6165344</td>\n",
        "      <td> American Sniper</td>\n",
        "      <td>  2506106</td>\n",
        "    </tr>\n",
        "  </tbody>\n",
        "</table>\n",
        "</div>"
       ],
       "metadata": {},
       "output_type": "pyout",
<<<<<<< HEAD
       "prompt_number": 34,
=======
       "prompt_number": 74,
>>>>>>> 90d041bb86cfe92cf796428fa6d5a84f2122fc4d
       "text": [
        "   Row     Date  Day  Day#  Top 10 Gross         #1 Movie     Gross\n",
        "1    2  Jan. 31  Sat    31      41633588  American Sniper  16510536\n",
        "2    3   Feb. 1  Sun    32      12515579  American Sniper   4244376\n",
        "4    5   Feb. 3  Tue    34       7825091  American Sniper   2923141\n",
        "5    6   Feb. 4  Wed    35       5819529  American Sniper   2273342\n",
        "6    7   Feb. 5  Thu    36       6165344  American Sniper   2506106"
       ]
      }
     ],
<<<<<<< HEAD
     "prompt_number": 34
=======
     "prompt_number": 74
>>>>>>> 90d041bb86cfe92cf796428fa6d5a84f2122fc4d
    },
    {
     "cell_type": "code",
     "collapsed": false,
     "input": [
      "# \u6839\u636e\u6761\u4ef6\u8fc7\u6ee4\n",
      "df[ (df[u'Day'] == u'Sat') | (df[u'Day#'] <= 32) ]"
     ],
     "language": "python",
     "metadata": {},
     "outputs": [
      {
       "html": [
        "<div style=\"max-height:1000px;max-width:1500px;overflow:auto;\">\n",
        "<table border=\"1\" class=\"dataframe\">\n",
        "  <thead>\n",
        "    <tr style=\"text-align: right;\">\n",
        "      <th></th>\n",
        "      <th>Row</th>\n",
        "      <th>Date</th>\n",
        "      <th>Day</th>\n",
        "      <th>Day#</th>\n",
        "      <th>Top 10 Gross</th>\n",
        "      <th>#1 Movie</th>\n",
        "      <th>Gross</th>\n",
        "    </tr>\n",
        "  </thead>\n",
        "  <tbody>\n",
        "    <tr>\n",
        "      <th>0 </th>\n",
        "      <td>  1</td>\n",
        "      <td> Jan. 30</td>\n",
        "      <td> Fri</td>\n",
        "      <td> 30</td>\n",
        "      <td> 26168351</td>\n",
        "      <td>      American Sniper</td>\n",
        "      <td>      NaN</td>\n",
        "    </tr>\n",
        "    <tr>\n",
        "      <th>1 </th>\n",
        "      <td>  2</td>\n",
        "      <td> Jan. 31</td>\n",
        "      <td> Sat</td>\n",
        "      <td> 31</td>\n",
        "      <td> 41633588</td>\n",
        "      <td>      American Sniper</td>\n",
        "      <td> 16510536</td>\n",
        "    </tr>\n",
        "    <tr>\n",
        "      <th>2 </th>\n",
        "      <td>  3</td>\n",
        "      <td>  Feb. 1</td>\n",
        "      <td> Sun</td>\n",
        "      <td> 32</td>\n",
        "      <td> 12515579</td>\n",
        "      <td>      American Sniper</td>\n",
        "      <td>  4244376</td>\n",
        "    </tr>\n",
        "    <tr>\n",
        "      <th>8 </th>\n",
        "      <td>  9</td>\n",
        "      <td>  Feb. 7</td>\n",
        "      <td> Sat</td>\n",
        "      <td> 38</td>\n",
        "      <td> 59153298</td>\n",
        "      <td>            SpongeBob</td>\n",
        "      <td> 24086968</td>\n",
        "    </tr>\n",
        "    <tr>\n",
        "      <th>15</th>\n",
        "      <td> 16</td>\n",
        "      <td> Feb. 14</td>\n",
        "      <td> Sat</td>\n",
        "      <td> 45</td>\n",
        "      <td> 87900659</td>\n",
        "      <td> Fifty Shades of Grey</td>\n",
        "      <td> 36752460</td>\n",
        "    </tr>\n",
        "    <tr>\n",
        "      <th>22</th>\n",
        "      <td> 23</td>\n",
        "      <td> Feb. 21</td>\n",
        "      <td> Sat</td>\n",
        "      <td> 52</td>\n",
        "      <td> 43708356</td>\n",
        "      <td> Fifty Shades of Grey</td>\n",
        "      <td>  8991100</td>\n",
        "    </tr>\n",
        "  </tbody>\n",
        "</table>\n",
        "</div>"
       ],
       "metadata": {},
       "output_type": "pyout",
<<<<<<< HEAD
       "prompt_number": 35,
=======
       "prompt_number": 75,
>>>>>>> 90d041bb86cfe92cf796428fa6d5a84f2122fc4d
       "text": [
        "    Row     Date  Day  Day#  Top 10 Gross              #1 Movie     Gross\n",
        "0     1  Jan. 30  Fri    30      26168351       American Sniper       NaN\n",
        "1     2  Jan. 31  Sat    31      41633588       American Sniper  16510536\n",
        "2     3   Feb. 1  Sun    32      12515579       American Sniper   4244376\n",
        "8     9   Feb. 7  Sat    38      59153298             SpongeBob  24086968\n",
        "15   16  Feb. 14  Sat    45      87900659  Fifty Shades of Grey  36752460\n",
        "22   23  Feb. 21  Sat    52      43708356  Fifty Shades of Grey   8991100"
       ]
      }
     ],
<<<<<<< HEAD
     "prompt_number": 35
=======
     "prompt_number": 75
>>>>>>> 90d041bb86cfe92cf796428fa6d5a84f2122fc4d
    },
    {
     "cell_type": "code",
     "collapsed": false,
     "input": [
      "df[ (df[u'Day'] == u'Sat') & (df[u'Day#'] <= 32) ]"
     ],
     "language": "python",
     "metadata": {},
     "outputs": [
      {
       "html": [
        "<div style=\"max-height:1000px;max-width:1500px;overflow:auto;\">\n",
        "<table border=\"1\" class=\"dataframe\">\n",
        "  <thead>\n",
        "    <tr style=\"text-align: right;\">\n",
        "      <th></th>\n",
        "      <th>Row</th>\n",
        "      <th>Date</th>\n",
        "      <th>Day</th>\n",
        "      <th>Day#</th>\n",
        "      <th>Top 10 Gross</th>\n",
        "      <th>#1 Movie</th>\n",
        "      <th>Gross</th>\n",
        "    </tr>\n",
        "  </thead>\n",
        "  <tbody>\n",
        "    <tr>\n",
        "      <th>1</th>\n",
        "      <td> 2</td>\n",
        "      <td> Jan. 31</td>\n",
        "      <td> Sat</td>\n",
        "      <td> 31</td>\n",
        "      <td> 41633588</td>\n",
        "      <td> American Sniper</td>\n",
        "      <td> 16510536</td>\n",
        "    </tr>\n",
        "  </tbody>\n",
        "</table>\n",
        "</div>"
       ],
       "metadata": {},
       "output_type": "pyout",
<<<<<<< HEAD
       "prompt_number": 36,
=======
       "prompt_number": 76,
>>>>>>> 90d041bb86cfe92cf796428fa6d5a84f2122fc4d
       "text": [
        "   Row     Date  Day  Day#  Top 10 Gross         #1 Movie     Gross\n",
        "1    2  Jan. 31  Sat    31      41633588  American Sniper  16510536"
       ]
      }
     ],
<<<<<<< HEAD
     "prompt_number": 36
=======
     "prompt_number": 76
>>>>>>> 90d041bb86cfe92cf796428fa6d5a84f2122fc4d
    },
    {
     "cell_type": "heading",
     "level": 2,
     "metadata": {},
     "source": [
      "\u5207\u7247"
     ]
    },
    {
     "cell_type": "heading",
     "level": 2,
     "metadata": {},
     "source": [
      "\u5408\u5e76"
     ]
    },
    {
     "cell_type": "heading",
     "level": 2,
     "metadata": {},
     "source": [
      "\u7edf\u8ba1\uff1a\u8ba1\u6570\uff0c\u5e73\u5747\uff0c\u6700\u5927\uff0c\u6700\u5c0f\uff0c\u65b9\u5dee\uff0c\u6807\u51c6\u5dee"
     ]
    },
    {
     "cell_type": "heading",
     "level": 2,
     "metadata": {},
     "source": [
      "\u540c\u6bd4\uff0c\u73af\u6bd4"
     ]
    },
    {
     "cell_type": "heading",
     "level": 2,
     "metadata": {},
     "source": [
      "\u56fe\u5f62\u5316"
     ]
    },
    {
     "cell_type": "code",
     "collapsed": false,
     "input": [
      "ts = pd.Series(np.random.randn(1000), index=pd.date_range('1/1/2000', periods=1000))\n",
      "ts = ts.cumsum()\n",
      "ts.plot()"
     ],
     "language": "python",
     "metadata": {},
     "outputs": [
      {
<<<<<<< HEAD
       "metadata": {},
       "output_type": "pyout",
       "prompt_number": 37,
       "text": [
        "<matplotlib.axes.AxesSubplot at 0x7f832bf45c50>"
       ]
      },
      {
       "metadata": {},
       "output_type": "display_data",
       "png": "iVBORw0KGgoAAAANSUhEUgAAAXQAAAEMCAYAAADUEk3/AAAABHNCSVQICAgIfAhkiAAAAAlwSFlz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\nRVEURVHynP8HUZcxaJnI/5wAAAAASUVORK5CYII=\n",
       "text": [
        "<matplotlib.figure.Figure at 0x7f832bef7bd0>"
       ]
      }
     ],
     "prompt_number": 37
=======
       "ename": "TypeError",
       "evalue": "float() argument must be a string or a number",
       "output_type": "pyerr",
       "traceback": [
        "\u001b[1;31m---------------------------------------------------------------------------\u001b[0m\n\u001b[1;31mTypeError\u001b[0m                                 Traceback (most recent call last)",
        "\u001b[1;32m<ipython-input-78-ec653dc25e70>\u001b[0m in \u001b[0;36m<module>\u001b[1;34m()\u001b[0m\n\u001b[0;32m      1\u001b[0m \u001b[0mts\u001b[0m \u001b[1;33m=\u001b[0m \u001b[0mpd\u001b[0m\u001b[1;33m.\u001b[0m\u001b[0mSeries\u001b[0m\u001b[1;33m(\u001b[0m\u001b[0mnp\u001b[0m\u001b[1;33m.\u001b[0m\u001b[0mrandom\u001b[0m\u001b[1;33m.\u001b[0m\u001b[0mrandn\u001b[0m\u001b[1;33m(\u001b[0m\u001b[1;36m1000\u001b[0m\u001b[1;33m)\u001b[0m\u001b[1;33m,\u001b[0m \u001b[0mindex\u001b[0m\u001b[1;33m=\u001b[0m\u001b[0mpd\u001b[0m\u001b[1;33m.\u001b[0m\u001b[0mdate_range\u001b[0m\u001b[1;33m(\u001b[0m\u001b[1;34m'1/1/2000'\u001b[0m\u001b[1;33m,\u001b[0m \u001b[0mperiods\u001b[0m\u001b[1;33m=\u001b[0m\u001b[1;36m1000\u001b[0m\u001b[1;33m)\u001b[0m\u001b[1;33m)\u001b[0m\u001b[1;33m\u001b[0m\u001b[0m\n\u001b[0;32m      2\u001b[0m \u001b[0mts\u001b[0m \u001b[1;33m=\u001b[0m \u001b[0mts\u001b[0m\u001b[1;33m.\u001b[0m\u001b[0mcumsum\u001b[0m\u001b[1;33m(\u001b[0m\u001b[1;33m)\u001b[0m\u001b[1;33m\u001b[0m\u001b[0m\n\u001b[1;32m----> 3\u001b[1;33m \u001b[0mts\u001b[0m\u001b[1;33m.\u001b[0m\u001b[0mplot\u001b[0m\u001b[1;33m(\u001b[0m\u001b[1;33m)\u001b[0m\u001b[1;33m\u001b[0m\u001b[0m\n\u001b[0m",
        "\u001b[1;32m/home/dormouse/.virtualenvs/blog/local/lib/python2.7/site-packages/pandas/tools/plotting.pyc\u001b[0m in \u001b[0;36mplot_series\u001b[1;34m(data, kind, ax, figsize, use_index, title, grid, legend, style, logx, logy, loglog, xticks, yticks, xlim, ylim, rot, fontsize, colormap, table, yerr, xerr, label, secondary_y, **kwds)\u001b[0m\n\u001b[0;32m   2509\u001b[0m                  \u001b[0myerr\u001b[0m\u001b[1;33m=\u001b[0m\u001b[0myerr\u001b[0m\u001b[1;33m,\u001b[0m \u001b[0mxerr\u001b[0m\u001b[1;33m=\u001b[0m\u001b[0mxerr\u001b[0m\u001b[1;33m,\u001b[0m\u001b[1;33m\u001b[0m\u001b[0m\n\u001b[0;32m   2510\u001b[0m                  \u001b[0mlabel\u001b[0m\u001b[1;33m=\u001b[0m\u001b[0mlabel\u001b[0m\u001b[1;33m,\u001b[0m \u001b[0msecondary_y\u001b[0m\u001b[1;33m=\u001b[0m\u001b[0msecondary_y\u001b[0m\u001b[1;33m,\u001b[0m\u001b[1;33m\u001b[0m\u001b[0m\n\u001b[1;32m-> 2511\u001b[1;33m                  **kwds)\n\u001b[0m\u001b[0;32m   2512\u001b[0m \u001b[1;33m\u001b[0m\u001b[0m\n\u001b[0;32m   2513\u001b[0m \u001b[1;33m\u001b[0m\u001b[0m\n",
        "\u001b[1;32m/home/dormouse/.virtualenvs/blog/local/lib/python2.7/site-packages/pandas/tools/plotting.pyc\u001b[0m in \u001b[0;36m_plot\u001b[1;34m(data, x, y, subplots, ax, kind, **kwds)\u001b[0m\n\u001b[0;32m   2315\u001b[0m         \u001b[0mplot_obj\u001b[0m \u001b[1;33m=\u001b[0m \u001b[0mklass\u001b[0m\u001b[1;33m(\u001b[0m\u001b[0mdata\u001b[0m\u001b[1;33m,\u001b[0m \u001b[0msubplots\u001b[0m\u001b[1;33m=\u001b[0m\u001b[0msubplots\u001b[0m\u001b[1;33m,\u001b[0m \u001b[0max\u001b[0m\u001b[1;33m=\u001b[0m\u001b[0max\u001b[0m\u001b[1;33m,\u001b[0m \u001b[0mkind\u001b[0m\u001b[1;33m=\u001b[0m\u001b[0mkind\u001b[0m\u001b[1;33m,\u001b[0m \u001b[1;33m**\u001b[0m\u001b[0mkwds\u001b[0m\u001b[1;33m)\u001b[0m\u001b[1;33m\u001b[0m\u001b[0m\n\u001b[0;32m   2316\u001b[0m \u001b[1;33m\u001b[0m\u001b[0m\n\u001b[1;32m-> 2317\u001b[1;33m     \u001b[0mplot_obj\u001b[0m\u001b[1;33m.\u001b[0m\u001b[0mgenerate\u001b[0m\u001b[1;33m(\u001b[0m\u001b[1;33m)\u001b[0m\u001b[1;33m\u001b[0m\u001b[0m\n\u001b[0m\u001b[0;32m   2318\u001b[0m     \u001b[0mplot_obj\u001b[0m\u001b[1;33m.\u001b[0m\u001b[0mdraw\u001b[0m\u001b[1;33m(\u001b[0m\u001b[1;33m)\u001b[0m\u001b[1;33m\u001b[0m\u001b[0m\n\u001b[0;32m   2319\u001b[0m     \u001b[1;32mreturn\u001b[0m \u001b[0mplot_obj\u001b[0m\u001b[1;33m.\u001b[0m\u001b[0mresult\u001b[0m\u001b[1;33m\u001b[0m\u001b[0m\n",
        "\u001b[1;32m/home/dormouse/.virtualenvs/blog/local/lib/python2.7/site-packages/pandas/tools/plotting.pyc\u001b[0m in \u001b[0;36mgenerate\u001b[1;34m(self)\u001b[0m\n\u001b[0;32m    921\u001b[0m         \u001b[0mself\u001b[0m\u001b[1;33m.\u001b[0m\u001b[0m_compute_plot_data\u001b[0m\u001b[1;33m(\u001b[0m\u001b[1;33m)\u001b[0m\u001b[1;33m\u001b[0m\u001b[0m\n\u001b[0;32m    922\u001b[0m         \u001b[0mself\u001b[0m\u001b[1;33m.\u001b[0m\u001b[0m_setup_subplots\u001b[0m\u001b[1;33m(\u001b[0m\u001b[1;33m)\u001b[0m\u001b[1;33m\u001b[0m\u001b[0m\n\u001b[1;32m--> 923\u001b[1;33m         \u001b[0mself\u001b[0m\u001b[1;33m.\u001b[0m\u001b[0m_make_plot\u001b[0m\u001b[1;33m(\u001b[0m\u001b[1;33m)\u001b[0m\u001b[1;33m\u001b[0m\u001b[0m\n\u001b[0m\u001b[0;32m    924\u001b[0m         \u001b[0mself\u001b[0m\u001b[1;33m.\u001b[0m\u001b[0m_add_table\u001b[0m\u001b[1;33m(\u001b[0m\u001b[1;33m)\u001b[0m\u001b[1;33m\u001b[0m\u001b[0m\n\u001b[0;32m    925\u001b[0m         \u001b[0mself\u001b[0m\u001b[1;33m.\u001b[0m\u001b[0m_make_legend\u001b[0m\u001b[1;33m(\u001b[0m\u001b[1;33m)\u001b[0m\u001b[1;33m\u001b[0m\u001b[0m\n",
        "\u001b[1;32m/home/dormouse/.virtualenvs/blog/local/lib/python2.7/site-packages/pandas/tools/plotting.pyc\u001b[0m in \u001b[0;36m_make_plot\u001b[1;34m(self)\u001b[0m\n\u001b[0;32m   1609\u001b[0m             \u001b[0mkwds\u001b[0m\u001b[1;33m[\u001b[0m\u001b[1;34m'label'\u001b[0m\u001b[1;33m]\u001b[0m \u001b[1;33m=\u001b[0m \u001b[0mlabel\u001b[0m\u001b[1;33m\u001b[0m\u001b[0m\n\u001b[0;32m   1610\u001b[0m \u001b[1;33m\u001b[0m\u001b[0m\n\u001b[1;32m-> 1611\u001b[1;33m             \u001b[0mnewlines\u001b[0m \u001b[1;33m=\u001b[0m \u001b[0mplotf\u001b[0m\u001b[1;33m(\u001b[0m\u001b[0max\u001b[0m\u001b[1;33m,\u001b[0m \u001b[0mx\u001b[0m\u001b[1;33m,\u001b[0m \u001b[0my\u001b[0m\u001b[1;33m,\u001b[0m \u001b[0mstyle\u001b[0m\u001b[1;33m=\u001b[0m\u001b[0mstyle\u001b[0m\u001b[1;33m,\u001b[0m \u001b[0mcolumn_num\u001b[0m\u001b[1;33m=\u001b[0m\u001b[0mi\u001b[0m\u001b[1;33m,\u001b[0m \u001b[1;33m**\u001b[0m\u001b[0mkwds\u001b[0m\u001b[1;33m)\u001b[0m\u001b[1;33m\u001b[0m\u001b[0m\n\u001b[0m\u001b[0;32m   1612\u001b[0m             \u001b[0mself\u001b[0m\u001b[1;33m.\u001b[0m\u001b[0m_add_legend_handle\u001b[0m\u001b[1;33m(\u001b[0m\u001b[0mnewlines\u001b[0m\u001b[1;33m[\u001b[0m\u001b[1;36m0\u001b[0m\u001b[1;33m]\u001b[0m\u001b[1;33m,\u001b[0m \u001b[0mlabel\u001b[0m\u001b[1;33m,\u001b[0m \u001b[0mindex\u001b[0m\u001b[1;33m=\u001b[0m\u001b[0mi\u001b[0m\u001b[1;33m)\u001b[0m\u001b[1;33m\u001b[0m\u001b[0m\n\u001b[0;32m   1613\u001b[0m \u001b[1;33m\u001b[0m\u001b[0m\n",
        "\u001b[1;32m/home/dormouse/.virtualenvs/blog/local/lib/python2.7/site-packages/pandas/tools/plotting.pyc\u001b[0m in \u001b[0;36m_plot\u001b[1;34m(ax, x, data, style, **kwds)\u001b[0m\n\u001b[0;32m   1646\u001b[0m             \u001b[1;31m# accept x to be consistent with normal plot func,\u001b[0m\u001b[1;33m\u001b[0m\u001b[1;33m\u001b[0m\u001b[0m\n\u001b[0;32m   1647\u001b[0m             \u001b[1;31m# x is not passed to tsplot as it uses data.index as x coordinate\u001b[0m\u001b[1;33m\u001b[0m\u001b[1;33m\u001b[0m\u001b[0m\n\u001b[1;32m-> 1648\u001b[1;33m             \u001b[0mlines\u001b[0m \u001b[1;33m=\u001b[0m \u001b[0mtsplot\u001b[0m\u001b[1;33m(\u001b[0m\u001b[0mdata\u001b[0m\u001b[1;33m,\u001b[0m \u001b[0mplotf\u001b[0m\u001b[1;33m,\u001b[0m \u001b[0max\u001b[0m\u001b[1;33m=\u001b[0m\u001b[0max\u001b[0m\u001b[1;33m,\u001b[0m \u001b[0mstyle\u001b[0m\u001b[1;33m=\u001b[0m\u001b[0mstyle\u001b[0m\u001b[1;33m,\u001b[0m \u001b[1;33m**\u001b[0m\u001b[0mkwds\u001b[0m\u001b[1;33m)\u001b[0m\u001b[1;33m\u001b[0m\u001b[0m\n\u001b[0m\u001b[0;32m   1649\u001b[0m             \u001b[1;32mreturn\u001b[0m \u001b[0mlines\u001b[0m\u001b[1;33m\u001b[0m\u001b[0m\n\u001b[0;32m   1650\u001b[0m         \u001b[1;32mreturn\u001b[0m \u001b[0m_plot\u001b[0m\u001b[1;33m\u001b[0m\u001b[0m\n",
        "\u001b[1;32m/home/dormouse/.virtualenvs/blog/local/lib/python2.7/site-packages/pandas/tseries/plotting.pyc\u001b[0m in \u001b[0;36mtsplot\u001b[1;34m(series, plotf, **kwargs)\u001b[0m\n\u001b[0;32m     62\u001b[0m         \u001b[0max\u001b[0m\u001b[1;33m.\u001b[0m\u001b[0m_plot_data\u001b[0m \u001b[1;33m=\u001b[0m \u001b[1;33m[\u001b[0m\u001b[1;33m]\u001b[0m\u001b[1;33m\u001b[0m\u001b[0m\n\u001b[0;32m     63\u001b[0m     \u001b[0max\u001b[0m\u001b[1;33m.\u001b[0m\u001b[0m_plot_data\u001b[0m\u001b[1;33m.\u001b[0m\u001b[0mappend\u001b[0m\u001b[1;33m(\u001b[0m\u001b[1;33m(\u001b[0m\u001b[0mseries\u001b[0m\u001b[1;33m,\u001b[0m \u001b[0mplotf\u001b[0m\u001b[1;33m,\u001b[0m \u001b[0mkwargs\u001b[0m\u001b[1;33m)\u001b[0m\u001b[1;33m)\u001b[0m\u001b[1;33m\u001b[0m\u001b[0m\n\u001b[1;32m---> 64\u001b[1;33m     \u001b[0mlines\u001b[0m \u001b[1;33m=\u001b[0m \u001b[0mplotf\u001b[0m\u001b[1;33m(\u001b[0m\u001b[0max\u001b[0m\u001b[1;33m,\u001b[0m \u001b[0mseries\u001b[0m\u001b[1;33m.\u001b[0m\u001b[0mindex\u001b[0m\u001b[1;33m.\u001b[0m\u001b[0m_mpl_repr\u001b[0m\u001b[1;33m(\u001b[0m\u001b[1;33m)\u001b[0m\u001b[1;33m,\u001b[0m \u001b[0mseries\u001b[0m\u001b[1;33m.\u001b[0m\u001b[0mvalues\u001b[0m\u001b[1;33m,\u001b[0m \u001b[1;33m**\u001b[0m\u001b[0mkwargs\u001b[0m\u001b[1;33m)\u001b[0m\u001b[1;33m\u001b[0m\u001b[0m\n\u001b[0m\u001b[0;32m     65\u001b[0m \u001b[1;33m\u001b[0m\u001b[0m\n\u001b[0;32m     66\u001b[0m     \u001b[1;31m# set date formatter, locators and rescale limits\u001b[0m\u001b[1;33m\u001b[0m\u001b[1;33m\u001b[0m\u001b[0m\n",
        "\u001b[1;32m/home/dormouse/.virtualenvs/blog/local/lib/python2.7/site-packages/pandas/tools/plotting.pyc\u001b[0m in \u001b[0;36mplotf\u001b[1;34m(ax, x, y, style, column_num, **kwds)\u001b[0m\n\u001b[0;32m   1635\u001b[0m                 \u001b[0mself\u001b[0m\u001b[1;33m.\u001b[0m\u001b[0m_initialize_prior\u001b[0m\u001b[1;33m(\u001b[0m\u001b[0mlen\u001b[0m\u001b[1;33m(\u001b[0m\u001b[0mself\u001b[0m\u001b[1;33m.\u001b[0m\u001b[0mdata\u001b[0m\u001b[1;33m)\u001b[0m\u001b[1;33m)\u001b[0m\u001b[1;33m\u001b[0m\u001b[0m\n\u001b[0;32m   1636\u001b[0m             \u001b[0my_values\u001b[0m \u001b[1;33m=\u001b[0m \u001b[0mself\u001b[0m\u001b[1;33m.\u001b[0m\u001b[0m_get_stacked_values\u001b[0m\u001b[1;33m(\u001b[0m\u001b[0my\u001b[0m\u001b[1;33m,\u001b[0m \u001b[0mkwds\u001b[0m\u001b[1;33m[\u001b[0m\u001b[1;34m'label'\u001b[0m\u001b[1;33m]\u001b[0m\u001b[1;33m)\u001b[0m\u001b[1;33m\u001b[0m\u001b[0m\n\u001b[1;32m-> 1637\u001b[1;33m             \u001b[0mlines\u001b[0m \u001b[1;33m=\u001b[0m \u001b[0mf\u001b[0m\u001b[1;33m(\u001b[0m\u001b[0max\u001b[0m\u001b[1;33m,\u001b[0m \u001b[0mx\u001b[0m\u001b[1;33m,\u001b[0m \u001b[0my_values\u001b[0m\u001b[1;33m,\u001b[0m \u001b[0mstyle\u001b[0m\u001b[1;33m=\u001b[0m\u001b[0mstyle\u001b[0m\u001b[1;33m,\u001b[0m \u001b[1;33m**\u001b[0m\u001b[0mkwds\u001b[0m\u001b[1;33m)\u001b[0m\u001b[1;33m\u001b[0m\u001b[0m\n\u001b[0m\u001b[0;32m   1638\u001b[0m             \u001b[0mself\u001b[0m\u001b[1;33m.\u001b[0m\u001b[0m_update_prior\u001b[0m\u001b[1;33m(\u001b[0m\u001b[0my\u001b[0m\u001b[1;33m)\u001b[0m\u001b[1;33m\u001b[0m\u001b[0m\n\u001b[0;32m   1639\u001b[0m             \u001b[1;32mreturn\u001b[0m \u001b[0mlines\u001b[0m\u001b[1;33m\u001b[0m\u001b[0m\n",
        "\u001b[1;32m/home/dormouse/.virtualenvs/blog/local/lib/python2.7/site-packages/pandas/tools/plotting.pyc\u001b[0m in \u001b[0;36mplotf\u001b[1;34m(ax, x, y, style, **kwds)\u001b[0m\n\u001b[0;32m   1202\u001b[0m                 \u001b[1;32melse\u001b[0m\u001b[1;33m:\u001b[0m\u001b[1;33m\u001b[0m\u001b[0m\n\u001b[0;32m   1203\u001b[0m                     \u001b[0margs\u001b[0m \u001b[1;33m=\u001b[0m \u001b[1;33m(\u001b[0m\u001b[0max\u001b[0m\u001b[1;33m,\u001b[0m \u001b[0mx\u001b[0m\u001b[1;33m,\u001b[0m \u001b[0my\u001b[0m\u001b[1;33m)\u001b[0m\u001b[1;33m\u001b[0m\u001b[0m\n\u001b[1;32m-> 1204\u001b[1;33m                 \u001b[1;32mreturn\u001b[0m \u001b[0mself\u001b[0m\u001b[1;33m.\u001b[0m\u001b[0mplt\u001b[0m\u001b[1;33m.\u001b[0m\u001b[0mAxes\u001b[0m\u001b[1;33m.\u001b[0m\u001b[0mplot\u001b[0m\u001b[1;33m(\u001b[0m\u001b[1;33m*\u001b[0m\u001b[0margs\u001b[0m\u001b[1;33m,\u001b[0m \u001b[1;33m**\u001b[0m\u001b[0mkwds\u001b[0m\u001b[1;33m)\u001b[0m\u001b[1;33m\u001b[0m\u001b[0m\n\u001b[0m\u001b[0;32m   1205\u001b[0m         \u001b[1;32mreturn\u001b[0m \u001b[0mplotf\u001b[0m\u001b[1;33m\u001b[0m\u001b[0m\n\u001b[0;32m   1206\u001b[0m \u001b[1;33m\u001b[0m\u001b[0m\n",
        "\u001b[1;32m/home/dormouse/.virtualenvs/blog/local/lib/python2.7/site-packages/matplotlib/axes.pyc\u001b[0m in \u001b[0;36mplot\u001b[1;34m(self, *args, **kwargs)\u001b[0m\n",
        "\u001b[1;32m/home/dormouse/.virtualenvs/blog/local/lib/python2.7/site-packages/matplotlib/axes.pyc\u001b[0m in \u001b[0;36madd_line\u001b[1;34m(self, line)\u001b[0m\n",
        "\u001b[1;32m/home/dormouse/.virtualenvs/blog/local/lib/python2.7/site-packages/matplotlib/axes.pyc\u001b[0m in \u001b[0;36m_update_line_limits\u001b[1;34m(self, line)\u001b[0m\n",
        "\u001b[1;32m/home/dormouse/.virtualenvs/blog/local/lib/python2.7/site-packages/matplotlib/lines.pyc\u001b[0m in \u001b[0;36mget_path\u001b[1;34m(self)\u001b[0m\n\u001b[0;32m    741\u001b[0m                 \u001b[0msnap\u001b[0m \u001b[1;33m=\u001b[0m \u001b[0mmarker\u001b[0m\u001b[1;33m.\u001b[0m\u001b[0mget_snap_threshold\u001b[0m\u001b[1;33m(\u001b[0m\u001b[1;33m)\u001b[0m\u001b[1;33m\u001b[0m\u001b[0m\n\u001b[0;32m    742\u001b[0m                 \u001b[1;32mif\u001b[0m \u001b[0mtype\u001b[0m\u001b[1;33m(\u001b[0m\u001b[0msnap\u001b[0m\u001b[1;33m)\u001b[0m \u001b[1;33m==\u001b[0m \u001b[0mfloat\u001b[0m\u001b[1;33m:\u001b[0m\u001b[1;33m\u001b[0m\u001b[0m\n\u001b[1;32m--> 743\u001b[1;33m                     \u001b[0msnap\u001b[0m \u001b[1;33m=\u001b[0m \u001b[0mrenderer\u001b[0m\u001b[1;33m.\u001b[0m\u001b[0mpoints_to_pixels\u001b[0m\u001b[1;33m(\u001b[0m\u001b[0mself\u001b[0m\u001b[1;33m.\u001b[0m\u001b[0m_markersize\u001b[0m\u001b[1;33m)\u001b[0m \u001b[1;33m>=\u001b[0m \u001b[0msnap\u001b[0m\u001b[1;33m\u001b[0m\u001b[0m\n\u001b[0m\u001b[0;32m    744\u001b[0m                 \u001b[0mgc\u001b[0m\u001b[1;33m.\u001b[0m\u001b[0mset_snap\u001b[0m\u001b[1;33m(\u001b[0m\u001b[0msnap\u001b[0m\u001b[1;33m)\u001b[0m\u001b[1;33m\u001b[0m\u001b[0m\n\u001b[0;32m    745\u001b[0m                 \u001b[0mgc\u001b[0m\u001b[1;33m.\u001b[0m\u001b[0mset_joinstyle\u001b[0m\u001b[1;33m(\u001b[0m\u001b[0mmarker\u001b[0m\u001b[1;33m.\u001b[0m\u001b[0mget_joinstyle\u001b[0m\u001b[1;33m(\u001b[0m\u001b[1;33m)\u001b[0m\u001b[1;33m)\u001b[0m\u001b[1;33m\u001b[0m\u001b[0m\n",
        "\u001b[1;32m/home/dormouse/.virtualenvs/blog/local/lib/python2.7/site-packages/matplotlib/lines.pyc\u001b[0m in \u001b[0;36mrecache\u001b[1;34m(self, always)\u001b[0m\n\u001b[0;32m    418\u001b[0m         \u001b[1;32mfinally\u001b[0m\u001b[1;33m:\u001b[0m\u001b[1;33m\u001b[0m\u001b[0m\n\u001b[0;32m    419\u001b[0m             \u001b[0mnp\u001b[0m\u001b[1;33m.\u001b[0m\u001b[0mseterr\u001b[0m\u001b[1;33m(\u001b[0m\u001b[1;33m**\u001b[0m\u001b[0molderrflags\u001b[0m\u001b[1;33m)\u001b[0m\u001b[1;33m\u001b[0m\u001b[0m\n\u001b[1;32m--> 420\u001b[1;33m \u001b[1;33m\u001b[0m\u001b[0m\n\u001b[0m\u001b[0;32m    421\u001b[0m         \u001b[0mind\u001b[0m \u001b[1;33m+=\u001b[0m \u001b[0mself\u001b[0m\u001b[1;33m.\u001b[0m\u001b[0mind_offset\u001b[0m\u001b[1;33m\u001b[0m\u001b[0m\n\u001b[0;32m    422\u001b[0m \u001b[1;33m\u001b[0m\u001b[0m\n",
        "\u001b[1;32m/home/dormouse/.virtualenvs/blog/local/lib/python2.7/site-packages/numpy/core/numeric.pyc\u001b[0m in \u001b[0;36masarray\u001b[1;34m(a, dtype, order)\u001b[0m\n\u001b[0;32m    460\u001b[0m \u001b[1;33m\u001b[0m\u001b[0m\n\u001b[0;32m    461\u001b[0m     \"\"\"\n\u001b[1;32m--> 462\u001b[1;33m     \u001b[1;32mreturn\u001b[0m \u001b[0marray\u001b[0m\u001b[1;33m(\u001b[0m\u001b[0ma\u001b[0m\u001b[1;33m,\u001b[0m \u001b[0mdtype\u001b[0m\u001b[1;33m,\u001b[0m \u001b[0mcopy\u001b[0m\u001b[1;33m=\u001b[0m\u001b[0mFalse\u001b[0m\u001b[1;33m,\u001b[0m \u001b[0morder\u001b[0m\u001b[1;33m=\u001b[0m\u001b[0morder\u001b[0m\u001b[1;33m)\u001b[0m\u001b[1;33m\u001b[0m\u001b[0m\n\u001b[0m\u001b[0;32m    463\u001b[0m \u001b[1;33m\u001b[0m\u001b[0m\n\u001b[0;32m    464\u001b[0m \u001b[1;32mdef\u001b[0m \u001b[0masanyarray\u001b[0m\u001b[1;33m(\u001b[0m\u001b[0ma\u001b[0m\u001b[1;33m,\u001b[0m \u001b[0mdtype\u001b[0m\u001b[1;33m=\u001b[0m\u001b[0mNone\u001b[0m\u001b[1;33m,\u001b[0m \u001b[0morder\u001b[0m\u001b[1;33m=\u001b[0m\u001b[0mNone\u001b[0m\u001b[1;33m)\u001b[0m\u001b[1;33m:\u001b[0m\u001b[1;33m\u001b[0m\u001b[0m\n",
        "\u001b[1;31mTypeError\u001b[0m: float() argument must be a string or a number"
       ]
      }
     ],
     "prompt_number": 78
>>>>>>> 90d041bb86cfe92cf796428fa6d5a84f2122fc4d
    },
    {
     "cell_type": "code",
     "collapsed": false,
     "input": [
      "df = df_movies.copy()\n",
      "df[u'Date'] = pd.to_datetime(df[u'Date'] + ',2015' )\n",
      "df.head()"
     ],
     "language": "python",
     "metadata": {},
     "outputs": [
      {
       "html": [
        "<div style=\"max-height:1000px;max-width:1500px;overflow:auto;\">\n",
        "<table border=\"1\" class=\"dataframe\">\n",
        "  <thead>\n",
        "    <tr style=\"text-align: right;\">\n",
        "      <th></th>\n",
        "      <th>Row</th>\n",
        "      <th>Date</th>\n",
        "      <th>Day</th>\n",
        "      <th>Day#</th>\n",
        "      <th>Top 10 Gross</th>\n",
        "      <th>#1 Movie</th>\n",
        "      <th>Gross</th>\n",
        "    </tr>\n",
        "  </thead>\n",
        "  <tbody>\n",
        "    <tr>\n",
        "      <th>0</th>\n",
        "      <td> 1</td>\n",
        "      <td>2015-01-30</td>\n",
        "      <td> Fri</td>\n",
        "      <td> 30</td>\n",
        "      <td> 26168351</td>\n",
        "      <td> American Sniper</td>\n",
        "      <td>  9905616</td>\n",
        "    </tr>\n",
        "    <tr>\n",
        "      <th>1</th>\n",
        "      <td> 2</td>\n",
        "      <td>2015-01-31</td>\n",
        "      <td> Sat</td>\n",
        "      <td> 31</td>\n",
        "      <td> 41633588</td>\n",
        "      <td> American Sniper</td>\n",
        "      <td> 16510536</td>\n",
        "    </tr>\n",
        "    <tr>\n",
        "      <th>2</th>\n",
        "      <td> 3</td>\n",
        "      <td>2015-02-01</td>\n",
        "      <td> Sun</td>\n",
        "      <td> 32</td>\n",
        "      <td> 12515579</td>\n",
        "      <td> American Sniper</td>\n",
        "      <td>  4244376</td>\n",
        "    </tr>\n",
        "    <tr>\n",
        "      <th>3</th>\n",
        "      <td> 4</td>\n",
        "      <td>2015-02-02</td>\n",
        "      <td> Mon</td>\n",
        "      <td> 33</td>\n",
        "      <td>  6475068</td>\n",
        "      <td> American Sniper</td>\n",
        "      <td>  2645109</td>\n",
        "    </tr>\n",
        "    <tr>\n",
        "      <th>4</th>\n",
        "      <td> 5</td>\n",
        "      <td>2015-02-03</td>\n",
        "      <td> Tue</td>\n",
        "      <td> 34</td>\n",
        "      <td>  7825091</td>\n",
        "      <td> American Sniper</td>\n",
        "      <td>  2923141</td>\n",
        "    </tr>\n",
        "  </tbody>\n",
        "</table>\n",
        "</div>"
       ],
       "metadata": {},
       "output_type": "pyout",
<<<<<<< HEAD
       "prompt_number": 38,
=======
       "prompt_number": 79,
>>>>>>> 90d041bb86cfe92cf796428fa6d5a84f2122fc4d
       "text": [
        "   Row       Date  Day  Day#  Top 10 Gross         #1 Movie     Gross\n",
        "0    1 2015-01-30  Fri    30      26168351  American Sniper   9905616\n",
        "1    2 2015-01-31  Sat    31      41633588  American Sniper  16510536\n",
        "2    3 2015-02-01  Sun    32      12515579  American Sniper   4244376\n",
        "3    4 2015-02-02  Mon    33       6475068  American Sniper   2645109\n",
        "4    5 2015-02-03  Tue    34       7825091  American Sniper   2923141"
       ]
      }
     ],
<<<<<<< HEAD
     "prompt_number": 38
=======
     "prompt_number": 79
>>>>>>> 90d041bb86cfe92cf796428fa6d5a84f2122fc4d
    },
    {
     "cell_type": "code",
     "collapsed": false,
     "input": [
      "df.plot(x='Date', y=['Top 10 Gross', 'Gross'])"
     ],
     "language": "python",
     "metadata": {},
     "outputs": [
      {
<<<<<<< HEAD
       "metadata": {},
       "output_type": "pyout",
       "prompt_number": 39,
       "text": [
        "<matplotlib.axes.AxesSubplot at 0x7f832bd9ff50>"
       ]
      },
      {
       "metadata": {},
       "output_type": "display_data",
       "png": "iVBORw0KGgoAAAANSUhEUgAAAWYAAAE4CAYAAABoolmRAAAABHNCSVQICAgIfAhkiAAAAAlwSFlz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\nYII=\n",
       "text": [
        "<matplotlib.figure.Figure at 0x7f832bed2690>"
       ]
      }
     ],
     "prompt_number": 39
=======
       "ename": "TypeError",
       "evalue": "float() argument must be a string or a number",
       "output_type": "pyerr",
       "traceback": [
        "\u001b[1;31m---------------------------------------------------------------------------\u001b[0m\n\u001b[1;31mTypeError\u001b[0m                                 Traceback (most recent call last)",
        "\u001b[1;32m<ipython-input-80-c54ead75f095>\u001b[0m in \u001b[0;36m<module>\u001b[1;34m()\u001b[0m\n\u001b[1;32m----> 1\u001b[1;33m \u001b[0mdf\u001b[0m\u001b[1;33m.\u001b[0m\u001b[0mplot\u001b[0m\u001b[1;33m(\u001b[0m\u001b[0mx\u001b[0m\u001b[1;33m=\u001b[0m\u001b[1;34m'Date'\u001b[0m\u001b[1;33m,\u001b[0m \u001b[0my\u001b[0m\u001b[1;33m=\u001b[0m\u001b[1;33m[\u001b[0m\u001b[1;34m'Top 10 Gross'\u001b[0m\u001b[1;33m,\u001b[0m \u001b[1;34m'Gross'\u001b[0m\u001b[1;33m]\u001b[0m\u001b[1;33m)\u001b[0m\u001b[1;33m\u001b[0m\u001b[0m\n\u001b[0m",
        "\u001b[1;32m/home/dormouse/.virtualenvs/blog/local/lib/python2.7/site-packages/pandas/tools/plotting.pyc\u001b[0m in \u001b[0;36mplot_frame\u001b[1;34m(data, x, y, kind, ax, subplots, sharex, sharey, layout, figsize, use_index, title, grid, legend, style, logx, logy, loglog, xticks, yticks, xlim, ylim, rot, fontsize, colormap, table, yerr, xerr, secondary_y, sort_columns, **kwds)\u001b[0m\n\u001b[0;32m   2475\u001b[0m                  \u001b[0myerr\u001b[0m\u001b[1;33m=\u001b[0m\u001b[0myerr\u001b[0m\u001b[1;33m,\u001b[0m \u001b[0mxerr\u001b[0m\u001b[1;33m=\u001b[0m\u001b[0mxerr\u001b[0m\u001b[1;33m,\u001b[0m\u001b[1;33m\u001b[0m\u001b[0m\n\u001b[0;32m   2476\u001b[0m                  \u001b[0msecondary_y\u001b[0m\u001b[1;33m=\u001b[0m\u001b[0msecondary_y\u001b[0m\u001b[1;33m,\u001b[0m \u001b[0msort_columns\u001b[0m\u001b[1;33m=\u001b[0m\u001b[0msort_columns\u001b[0m\u001b[1;33m,\u001b[0m\u001b[1;33m\u001b[0m\u001b[0m\n\u001b[1;32m-> 2477\u001b[1;33m                  **kwds)\n\u001b[0m\u001b[0;32m   2478\u001b[0m \u001b[1;33m\u001b[0m\u001b[0m\n\u001b[0;32m   2479\u001b[0m \u001b[1;33m\u001b[0m\u001b[0m\n",
        "\u001b[1;32m/home/dormouse/.virtualenvs/blog/local/lib/python2.7/site-packages/pandas/tools/plotting.pyc\u001b[0m in \u001b[0;36m_plot\u001b[1;34m(data, x, y, subplots, ax, kind, **kwds)\u001b[0m\n\u001b[0;32m   2315\u001b[0m         \u001b[0mplot_obj\u001b[0m \u001b[1;33m=\u001b[0m \u001b[0mklass\u001b[0m\u001b[1;33m(\u001b[0m\u001b[0mdata\u001b[0m\u001b[1;33m,\u001b[0m \u001b[0msubplots\u001b[0m\u001b[1;33m=\u001b[0m\u001b[0msubplots\u001b[0m\u001b[1;33m,\u001b[0m \u001b[0max\u001b[0m\u001b[1;33m=\u001b[0m\u001b[0max\u001b[0m\u001b[1;33m,\u001b[0m \u001b[0mkind\u001b[0m\u001b[1;33m=\u001b[0m\u001b[0mkind\u001b[0m\u001b[1;33m,\u001b[0m \u001b[1;33m**\u001b[0m\u001b[0mkwds\u001b[0m\u001b[1;33m)\u001b[0m\u001b[1;33m\u001b[0m\u001b[0m\n\u001b[0;32m   2316\u001b[0m \u001b[1;33m\u001b[0m\u001b[0m\n\u001b[1;32m-> 2317\u001b[1;33m     \u001b[0mplot_obj\u001b[0m\u001b[1;33m.\u001b[0m\u001b[0mgenerate\u001b[0m\u001b[1;33m(\u001b[0m\u001b[1;33m)\u001b[0m\u001b[1;33m\u001b[0m\u001b[0m\n\u001b[0m\u001b[0;32m   2318\u001b[0m     \u001b[0mplot_obj\u001b[0m\u001b[1;33m.\u001b[0m\u001b[0mdraw\u001b[0m\u001b[1;33m(\u001b[0m\u001b[1;33m)\u001b[0m\u001b[1;33m\u001b[0m\u001b[0m\n\u001b[0;32m   2319\u001b[0m     \u001b[1;32mreturn\u001b[0m \u001b[0mplot_obj\u001b[0m\u001b[1;33m.\u001b[0m\u001b[0mresult\u001b[0m\u001b[1;33m\u001b[0m\u001b[0m\n",
        "\u001b[1;32m/home/dormouse/.virtualenvs/blog/local/lib/python2.7/site-packages/pandas/tools/plotting.pyc\u001b[0m in \u001b[0;36mgenerate\u001b[1;34m(self)\u001b[0m\n\u001b[0;32m    921\u001b[0m         \u001b[0mself\u001b[0m\u001b[1;33m.\u001b[0m\u001b[0m_compute_plot_data\u001b[0m\u001b[1;33m(\u001b[0m\u001b[1;33m)\u001b[0m\u001b[1;33m\u001b[0m\u001b[0m\n\u001b[0;32m    922\u001b[0m         \u001b[0mself\u001b[0m\u001b[1;33m.\u001b[0m\u001b[0m_setup_subplots\u001b[0m\u001b[1;33m(\u001b[0m\u001b[1;33m)\u001b[0m\u001b[1;33m\u001b[0m\u001b[0m\n\u001b[1;32m--> 923\u001b[1;33m         \u001b[0mself\u001b[0m\u001b[1;33m.\u001b[0m\u001b[0m_make_plot\u001b[0m\u001b[1;33m(\u001b[0m\u001b[1;33m)\u001b[0m\u001b[1;33m\u001b[0m\u001b[0m\n\u001b[0m\u001b[0;32m    924\u001b[0m         \u001b[0mself\u001b[0m\u001b[1;33m.\u001b[0m\u001b[0m_add_table\u001b[0m\u001b[1;33m(\u001b[0m\u001b[1;33m)\u001b[0m\u001b[1;33m\u001b[0m\u001b[0m\n\u001b[0;32m    925\u001b[0m         \u001b[0mself\u001b[0m\u001b[1;33m.\u001b[0m\u001b[0m_make_legend\u001b[0m\u001b[1;33m(\u001b[0m\u001b[1;33m)\u001b[0m\u001b[1;33m\u001b[0m\u001b[0m\n",
        "\u001b[1;32m/home/dormouse/.virtualenvs/blog/local/lib/python2.7/site-packages/pandas/tools/plotting.pyc\u001b[0m in \u001b[0;36m_make_plot\u001b[1;34m(self)\u001b[0m\n\u001b[0;32m   1609\u001b[0m             \u001b[0mkwds\u001b[0m\u001b[1;33m[\u001b[0m\u001b[1;34m'label'\u001b[0m\u001b[1;33m]\u001b[0m \u001b[1;33m=\u001b[0m \u001b[0mlabel\u001b[0m\u001b[1;33m\u001b[0m\u001b[0m\n\u001b[0;32m   1610\u001b[0m \u001b[1;33m\u001b[0m\u001b[0m\n\u001b[1;32m-> 1611\u001b[1;33m             \u001b[0mnewlines\u001b[0m \u001b[1;33m=\u001b[0m \u001b[0mplotf\u001b[0m\u001b[1;33m(\u001b[0m\u001b[0max\u001b[0m\u001b[1;33m,\u001b[0m \u001b[0mx\u001b[0m\u001b[1;33m,\u001b[0m \u001b[0my\u001b[0m\u001b[1;33m,\u001b[0m \u001b[0mstyle\u001b[0m\u001b[1;33m=\u001b[0m\u001b[0mstyle\u001b[0m\u001b[1;33m,\u001b[0m \u001b[0mcolumn_num\u001b[0m\u001b[1;33m=\u001b[0m\u001b[0mi\u001b[0m\u001b[1;33m,\u001b[0m \u001b[1;33m**\u001b[0m\u001b[0mkwds\u001b[0m\u001b[1;33m)\u001b[0m\u001b[1;33m\u001b[0m\u001b[0m\n\u001b[0m\u001b[0;32m   1612\u001b[0m             \u001b[0mself\u001b[0m\u001b[1;33m.\u001b[0m\u001b[0m_add_legend_handle\u001b[0m\u001b[1;33m(\u001b[0m\u001b[0mnewlines\u001b[0m\u001b[1;33m[\u001b[0m\u001b[1;36m0\u001b[0m\u001b[1;33m]\u001b[0m\u001b[1;33m,\u001b[0m \u001b[0mlabel\u001b[0m\u001b[1;33m,\u001b[0m \u001b[0mindex\u001b[0m\u001b[1;33m=\u001b[0m\u001b[0mi\u001b[0m\u001b[1;33m)\u001b[0m\u001b[1;33m\u001b[0m\u001b[0m\n\u001b[0;32m   1613\u001b[0m \u001b[1;33m\u001b[0m\u001b[0m\n",
        "\u001b[1;32m/home/dormouse/.virtualenvs/blog/local/lib/python2.7/site-packages/pandas/tools/plotting.pyc\u001b[0m in \u001b[0;36m_plot\u001b[1;34m(ax, x, data, style, **kwds)\u001b[0m\n\u001b[0;32m   1646\u001b[0m             \u001b[1;31m# accept x to be consistent with normal plot func,\u001b[0m\u001b[1;33m\u001b[0m\u001b[1;33m\u001b[0m\u001b[0m\n\u001b[0;32m   1647\u001b[0m             \u001b[1;31m# x is not passed to tsplot as it uses data.index as x coordinate\u001b[0m\u001b[1;33m\u001b[0m\u001b[1;33m\u001b[0m\u001b[0m\n\u001b[1;32m-> 1648\u001b[1;33m             \u001b[0mlines\u001b[0m \u001b[1;33m=\u001b[0m \u001b[0mtsplot\u001b[0m\u001b[1;33m(\u001b[0m\u001b[0mdata\u001b[0m\u001b[1;33m,\u001b[0m \u001b[0mplotf\u001b[0m\u001b[1;33m,\u001b[0m \u001b[0max\u001b[0m\u001b[1;33m=\u001b[0m\u001b[0max\u001b[0m\u001b[1;33m,\u001b[0m \u001b[0mstyle\u001b[0m\u001b[1;33m=\u001b[0m\u001b[0mstyle\u001b[0m\u001b[1;33m,\u001b[0m \u001b[1;33m**\u001b[0m\u001b[0mkwds\u001b[0m\u001b[1;33m)\u001b[0m\u001b[1;33m\u001b[0m\u001b[0m\n\u001b[0m\u001b[0;32m   1649\u001b[0m             \u001b[1;32mreturn\u001b[0m \u001b[0mlines\u001b[0m\u001b[1;33m\u001b[0m\u001b[0m\n\u001b[0;32m   1650\u001b[0m         \u001b[1;32mreturn\u001b[0m \u001b[0m_plot\u001b[0m\u001b[1;33m\u001b[0m\u001b[0m\n",
        "\u001b[1;32m/home/dormouse/.virtualenvs/blog/local/lib/python2.7/site-packages/pandas/tseries/plotting.pyc\u001b[0m in \u001b[0;36mtsplot\u001b[1;34m(series, plotf, **kwargs)\u001b[0m\n\u001b[0;32m     62\u001b[0m         \u001b[0max\u001b[0m\u001b[1;33m.\u001b[0m\u001b[0m_plot_data\u001b[0m \u001b[1;33m=\u001b[0m \u001b[1;33m[\u001b[0m\u001b[1;33m]\u001b[0m\u001b[1;33m\u001b[0m\u001b[0m\n\u001b[0;32m     63\u001b[0m     \u001b[0max\u001b[0m\u001b[1;33m.\u001b[0m\u001b[0m_plot_data\u001b[0m\u001b[1;33m.\u001b[0m\u001b[0mappend\u001b[0m\u001b[1;33m(\u001b[0m\u001b[1;33m(\u001b[0m\u001b[0mseries\u001b[0m\u001b[1;33m,\u001b[0m \u001b[0mplotf\u001b[0m\u001b[1;33m,\u001b[0m \u001b[0mkwargs\u001b[0m\u001b[1;33m)\u001b[0m\u001b[1;33m)\u001b[0m\u001b[1;33m\u001b[0m\u001b[0m\n\u001b[1;32m---> 64\u001b[1;33m     \u001b[0mlines\u001b[0m \u001b[1;33m=\u001b[0m \u001b[0mplotf\u001b[0m\u001b[1;33m(\u001b[0m\u001b[0max\u001b[0m\u001b[1;33m,\u001b[0m \u001b[0mseries\u001b[0m\u001b[1;33m.\u001b[0m\u001b[0mindex\u001b[0m\u001b[1;33m.\u001b[0m\u001b[0m_mpl_repr\u001b[0m\u001b[1;33m(\u001b[0m\u001b[1;33m)\u001b[0m\u001b[1;33m,\u001b[0m \u001b[0mseries\u001b[0m\u001b[1;33m.\u001b[0m\u001b[0mvalues\u001b[0m\u001b[1;33m,\u001b[0m \u001b[1;33m**\u001b[0m\u001b[0mkwargs\u001b[0m\u001b[1;33m)\u001b[0m\u001b[1;33m\u001b[0m\u001b[0m\n\u001b[0m\u001b[0;32m     65\u001b[0m \u001b[1;33m\u001b[0m\u001b[0m\n\u001b[0;32m     66\u001b[0m     \u001b[1;31m# set date formatter, locators and rescale limits\u001b[0m\u001b[1;33m\u001b[0m\u001b[1;33m\u001b[0m\u001b[0m\n",
        "\u001b[1;32m/home/dormouse/.virtualenvs/blog/local/lib/python2.7/site-packages/pandas/tools/plotting.pyc\u001b[0m in \u001b[0;36mplotf\u001b[1;34m(ax, x, y, style, column_num, **kwds)\u001b[0m\n\u001b[0;32m   1635\u001b[0m                 \u001b[0mself\u001b[0m\u001b[1;33m.\u001b[0m\u001b[0m_initialize_prior\u001b[0m\u001b[1;33m(\u001b[0m\u001b[0mlen\u001b[0m\u001b[1;33m(\u001b[0m\u001b[0mself\u001b[0m\u001b[1;33m.\u001b[0m\u001b[0mdata\u001b[0m\u001b[1;33m)\u001b[0m\u001b[1;33m)\u001b[0m\u001b[1;33m\u001b[0m\u001b[0m\n\u001b[0;32m   1636\u001b[0m             \u001b[0my_values\u001b[0m \u001b[1;33m=\u001b[0m \u001b[0mself\u001b[0m\u001b[1;33m.\u001b[0m\u001b[0m_get_stacked_values\u001b[0m\u001b[1;33m(\u001b[0m\u001b[0my\u001b[0m\u001b[1;33m,\u001b[0m \u001b[0mkwds\u001b[0m\u001b[1;33m[\u001b[0m\u001b[1;34m'label'\u001b[0m\u001b[1;33m]\u001b[0m\u001b[1;33m)\u001b[0m\u001b[1;33m\u001b[0m\u001b[0m\n\u001b[1;32m-> 1637\u001b[1;33m             \u001b[0mlines\u001b[0m \u001b[1;33m=\u001b[0m \u001b[0mf\u001b[0m\u001b[1;33m(\u001b[0m\u001b[0max\u001b[0m\u001b[1;33m,\u001b[0m \u001b[0mx\u001b[0m\u001b[1;33m,\u001b[0m \u001b[0my_values\u001b[0m\u001b[1;33m,\u001b[0m \u001b[0mstyle\u001b[0m\u001b[1;33m=\u001b[0m\u001b[0mstyle\u001b[0m\u001b[1;33m,\u001b[0m \u001b[1;33m**\u001b[0m\u001b[0mkwds\u001b[0m\u001b[1;33m)\u001b[0m\u001b[1;33m\u001b[0m\u001b[0m\n\u001b[0m\u001b[0;32m   1638\u001b[0m             \u001b[0mself\u001b[0m\u001b[1;33m.\u001b[0m\u001b[0m_update_prior\u001b[0m\u001b[1;33m(\u001b[0m\u001b[0my\u001b[0m\u001b[1;33m)\u001b[0m\u001b[1;33m\u001b[0m\u001b[0m\n\u001b[0;32m   1639\u001b[0m             \u001b[1;32mreturn\u001b[0m \u001b[0mlines\u001b[0m\u001b[1;33m\u001b[0m\u001b[0m\n",
        "\u001b[1;32m/home/dormouse/.virtualenvs/blog/local/lib/python2.7/site-packages/pandas/tools/plotting.pyc\u001b[0m in \u001b[0;36mplotf\u001b[1;34m(ax, x, y, style, **kwds)\u001b[0m\n\u001b[0;32m   1202\u001b[0m                 \u001b[1;32melse\u001b[0m\u001b[1;33m:\u001b[0m\u001b[1;33m\u001b[0m\u001b[0m\n\u001b[0;32m   1203\u001b[0m                     \u001b[0margs\u001b[0m \u001b[1;33m=\u001b[0m \u001b[1;33m(\u001b[0m\u001b[0max\u001b[0m\u001b[1;33m,\u001b[0m \u001b[0mx\u001b[0m\u001b[1;33m,\u001b[0m \u001b[0my\u001b[0m\u001b[1;33m)\u001b[0m\u001b[1;33m\u001b[0m\u001b[0m\n\u001b[1;32m-> 1204\u001b[1;33m                 \u001b[1;32mreturn\u001b[0m \u001b[0mself\u001b[0m\u001b[1;33m.\u001b[0m\u001b[0mplt\u001b[0m\u001b[1;33m.\u001b[0m\u001b[0mAxes\u001b[0m\u001b[1;33m.\u001b[0m\u001b[0mplot\u001b[0m\u001b[1;33m(\u001b[0m\u001b[1;33m*\u001b[0m\u001b[0margs\u001b[0m\u001b[1;33m,\u001b[0m \u001b[1;33m**\u001b[0m\u001b[0mkwds\u001b[0m\u001b[1;33m)\u001b[0m\u001b[1;33m\u001b[0m\u001b[0m\n\u001b[0m\u001b[0;32m   1205\u001b[0m         \u001b[1;32mreturn\u001b[0m \u001b[0mplotf\u001b[0m\u001b[1;33m\u001b[0m\u001b[0m\n\u001b[0;32m   1206\u001b[0m \u001b[1;33m\u001b[0m\u001b[0m\n",
        "\u001b[1;32m/home/dormouse/.virtualenvs/blog/local/lib/python2.7/site-packages/matplotlib/axes.pyc\u001b[0m in \u001b[0;36mplot\u001b[1;34m(self, *args, **kwargs)\u001b[0m\n",
        "\u001b[1;32m/home/dormouse/.virtualenvs/blog/local/lib/python2.7/site-packages/matplotlib/axes.pyc\u001b[0m in \u001b[0;36madd_line\u001b[1;34m(self, line)\u001b[0m\n",
        "\u001b[1;32m/home/dormouse/.virtualenvs/blog/local/lib/python2.7/site-packages/matplotlib/axes.pyc\u001b[0m in \u001b[0;36m_update_line_limits\u001b[1;34m(self, line)\u001b[0m\n",
        "\u001b[1;32m/home/dormouse/.virtualenvs/blog/local/lib/python2.7/site-packages/matplotlib/lines.pyc\u001b[0m in \u001b[0;36mget_path\u001b[1;34m(self)\u001b[0m\n\u001b[0;32m    741\u001b[0m                 \u001b[0msnap\u001b[0m \u001b[1;33m=\u001b[0m \u001b[0mmarker\u001b[0m\u001b[1;33m.\u001b[0m\u001b[0mget_snap_threshold\u001b[0m\u001b[1;33m(\u001b[0m\u001b[1;33m)\u001b[0m\u001b[1;33m\u001b[0m\u001b[0m\n\u001b[0;32m    742\u001b[0m                 \u001b[1;32mif\u001b[0m \u001b[0mtype\u001b[0m\u001b[1;33m(\u001b[0m\u001b[0msnap\u001b[0m\u001b[1;33m)\u001b[0m \u001b[1;33m==\u001b[0m \u001b[0mfloat\u001b[0m\u001b[1;33m:\u001b[0m\u001b[1;33m\u001b[0m\u001b[0m\n\u001b[1;32m--> 743\u001b[1;33m                     \u001b[0msnap\u001b[0m \u001b[1;33m=\u001b[0m \u001b[0mrenderer\u001b[0m\u001b[1;33m.\u001b[0m\u001b[0mpoints_to_pixels\u001b[0m\u001b[1;33m(\u001b[0m\u001b[0mself\u001b[0m\u001b[1;33m.\u001b[0m\u001b[0m_markersize\u001b[0m\u001b[1;33m)\u001b[0m \u001b[1;33m>=\u001b[0m \u001b[0msnap\u001b[0m\u001b[1;33m\u001b[0m\u001b[0m\n\u001b[0m\u001b[0;32m    744\u001b[0m                 \u001b[0mgc\u001b[0m\u001b[1;33m.\u001b[0m\u001b[0mset_snap\u001b[0m\u001b[1;33m(\u001b[0m\u001b[0msnap\u001b[0m\u001b[1;33m)\u001b[0m\u001b[1;33m\u001b[0m\u001b[0m\n\u001b[0;32m    745\u001b[0m                 \u001b[0mgc\u001b[0m\u001b[1;33m.\u001b[0m\u001b[0mset_joinstyle\u001b[0m\u001b[1;33m(\u001b[0m\u001b[0mmarker\u001b[0m\u001b[1;33m.\u001b[0m\u001b[0mget_joinstyle\u001b[0m\u001b[1;33m(\u001b[0m\u001b[1;33m)\u001b[0m\u001b[1;33m)\u001b[0m\u001b[1;33m\u001b[0m\u001b[0m\n",
        "\u001b[1;32m/home/dormouse/.virtualenvs/blog/local/lib/python2.7/site-packages/matplotlib/lines.pyc\u001b[0m in \u001b[0;36mrecache\u001b[1;34m(self, always)\u001b[0m\n\u001b[0;32m    418\u001b[0m         \u001b[1;32mfinally\u001b[0m\u001b[1;33m:\u001b[0m\u001b[1;33m\u001b[0m\u001b[0m\n\u001b[0;32m    419\u001b[0m             \u001b[0mnp\u001b[0m\u001b[1;33m.\u001b[0m\u001b[0mseterr\u001b[0m\u001b[1;33m(\u001b[0m\u001b[1;33m**\u001b[0m\u001b[0molderrflags\u001b[0m\u001b[1;33m)\u001b[0m\u001b[1;33m\u001b[0m\u001b[0m\n\u001b[1;32m--> 420\u001b[1;33m \u001b[1;33m\u001b[0m\u001b[0m\n\u001b[0m\u001b[0;32m    421\u001b[0m         \u001b[0mind\u001b[0m \u001b[1;33m+=\u001b[0m \u001b[0mself\u001b[0m\u001b[1;33m.\u001b[0m\u001b[0mind_offset\u001b[0m\u001b[1;33m\u001b[0m\u001b[0m\n\u001b[0;32m    422\u001b[0m \u001b[1;33m\u001b[0m\u001b[0m\n",
        "\u001b[1;32m/home/dormouse/.virtualenvs/blog/local/lib/python2.7/site-packages/numpy/core/numeric.pyc\u001b[0m in \u001b[0;36masarray\u001b[1;34m(a, dtype, order)\u001b[0m\n\u001b[0;32m    460\u001b[0m \u001b[1;33m\u001b[0m\u001b[0m\n\u001b[0;32m    461\u001b[0m     \"\"\"\n\u001b[1;32m--> 462\u001b[1;33m     \u001b[1;32mreturn\u001b[0m \u001b[0marray\u001b[0m\u001b[1;33m(\u001b[0m\u001b[0ma\u001b[0m\u001b[1;33m,\u001b[0m \u001b[0mdtype\u001b[0m\u001b[1;33m,\u001b[0m \u001b[0mcopy\u001b[0m\u001b[1;33m=\u001b[0m\u001b[0mFalse\u001b[0m\u001b[1;33m,\u001b[0m \u001b[0morder\u001b[0m\u001b[1;33m=\u001b[0m\u001b[0morder\u001b[0m\u001b[1;33m)\u001b[0m\u001b[1;33m\u001b[0m\u001b[0m\n\u001b[0m\u001b[0;32m    463\u001b[0m \u001b[1;33m\u001b[0m\u001b[0m\n\u001b[0;32m    464\u001b[0m \u001b[1;32mdef\u001b[0m \u001b[0masanyarray\u001b[0m\u001b[1;33m(\u001b[0m\u001b[0ma\u001b[0m\u001b[1;33m,\u001b[0m \u001b[0mdtype\u001b[0m\u001b[1;33m=\u001b[0m\u001b[0mNone\u001b[0m\u001b[1;33m,\u001b[0m \u001b[0morder\u001b[0m\u001b[1;33m=\u001b[0m\u001b[0mNone\u001b[0m\u001b[1;33m)\u001b[0m\u001b[1;33m:\u001b[0m\u001b[1;33m\u001b[0m\u001b[0m\n",
        "\u001b[1;31mTypeError\u001b[0m: float() argument must be a string or a number"
       ]
      }
     ],
     "prompt_number": 80
>>>>>>> 90d041bb86cfe92cf796428fa6d5a84f2122fc4d
    },
    {
     "cell_type": "heading",
     "level": 2,
     "metadata": {},
     "source": [
      "\u4f7f\u7528\u53e6\u4e00\u4e2a DataFrame \u6765\u66f4\u65b0\u6570\u636e"
     ]
    },
    {
     "cell_type": "code",
     "collapsed": false,
     "input": [
      "df_1 = df_movies.copy()\n",
      "df_2 = pd.DataFrame({u'#1 Movie':[u'American Sniper',\n",
      "                            u'SpongeBob',\n",
      "                            u'Fifty Shades of Grey'],\n",
      "                            u'chs':[u'\u7f8e\u56fd\u963b\u51fb\u624b',\n",
      "                                    u'\u6d77\u7ef5\u5b9d\u5b9d',\n",
      "                                    u'\u4e94\u5341\u5ea6\u7070']})\n",
      "df_1.head()"
     ],
     "language": "python",
     "metadata": {},
<<<<<<< HEAD
     "outputs": [
      {
       "html": [
        "<div style=\"max-height:1000px;max-width:1500px;overflow:auto;\">\n",
        "<table border=\"1\" class=\"dataframe\">\n",
        "  <thead>\n",
        "    <tr style=\"text-align: right;\">\n",
        "      <th></th>\n",
        "      <th>Row</th>\n",
        "      <th>Date</th>\n",
        "      <th>Day</th>\n",
        "      <th>Day#</th>\n",
        "      <th>Top 10 Gross</th>\n",
        "      <th>#1 Movie</th>\n",
        "      <th>Gross</th>\n",
        "    </tr>\n",
        "  </thead>\n",
        "  <tbody>\n",
        "    <tr>\n",
        "      <th>0</th>\n",
        "      <td> 1</td>\n",
        "      <td> Jan. 30</td>\n",
        "      <td> Fri</td>\n",
        "      <td> 30</td>\n",
        "      <td> 26168351</td>\n",
        "      <td> American Sniper</td>\n",
        "      <td>  9905616</td>\n",
        "    </tr>\n",
        "    <tr>\n",
        "      <th>1</th>\n",
        "      <td> 2</td>\n",
        "      <td> Jan. 31</td>\n",
        "      <td> Sat</td>\n",
        "      <td> 31</td>\n",
        "      <td> 41633588</td>\n",
        "      <td> American Sniper</td>\n",
        "      <td> 16510536</td>\n",
        "    </tr>\n",
        "    <tr>\n",
        "      <th>2</th>\n",
        "      <td> 3</td>\n",
        "      <td>  Feb. 1</td>\n",
        "      <td> Sun</td>\n",
        "      <td> 32</td>\n",
        "      <td> 12515579</td>\n",
        "      <td> American Sniper</td>\n",
        "      <td>  4244376</td>\n",
        "    </tr>\n",
        "    <tr>\n",
        "      <th>3</th>\n",
        "      <td> 4</td>\n",
        "      <td>  Feb. 2</td>\n",
        "      <td> Mon</td>\n",
        "      <td> 33</td>\n",
        "      <td>  6475068</td>\n",
        "      <td> American Sniper</td>\n",
        "      <td>  2645109</td>\n",
        "    </tr>\n",
        "    <tr>\n",
        "      <th>4</th>\n",
        "      <td> 5</td>\n",
        "      <td>  Feb. 3</td>\n",
        "      <td> Tue</td>\n",
        "      <td> 34</td>\n",
        "      <td>  7825091</td>\n",
        "      <td> American Sniper</td>\n",
        "      <td>  2923141</td>\n",
        "    </tr>\n",
        "  </tbody>\n",
        "</table>\n",
        "<p>5 rows \u00d7 7 columns</p>\n",
        "</div>"
       ],
       "metadata": {},
       "output_type": "pyout",
       "prompt_number": 40,
       "text": [
        "   Row     Date  Day  Day#  Top 10 Gross         #1 Movie     Gross\n",
        "0    1  Jan. 30  Fri    30      26168351  American Sniper   9905616\n",
        "1    2  Jan. 31  Sat    31      41633588  American Sniper  16510536\n",
        "2    3   Feb. 1  Sun    32      12515579  American Sniper   4244376\n",
        "3    4   Feb. 2  Mon    33       6475068  American Sniper   2645109\n",
        "4    5   Feb. 3  Tue    34       7825091  American Sniper   2923141\n",
        "\n",
        "[5 rows x 7 columns]"
       ]
      }
     ],
     "prompt_number": 40
=======
     "outputs": []
>>>>>>> 90d041bb86cfe92cf796428fa6d5a84f2122fc4d
    },
    {
     "cell_type": "code",
     "collapsed": false,
     "input": [
      "df_2.head()"
     ],
     "language": "python",
     "metadata": {},
<<<<<<< HEAD
     "outputs": [
      {
       "html": [
        "<div style=\"max-height:1000px;max-width:1500px;overflow:auto;\">\n",
        "<table border=\"1\" class=\"dataframe\">\n",
        "  <thead>\n",
        "    <tr style=\"text-align: right;\">\n",
        "      <th></th>\n",
        "      <th>#1 Movie</th>\n",
        "      <th>chs</th>\n",
        "    </tr>\n",
        "  </thead>\n",
        "  <tbody>\n",
        "    <tr>\n",
        "      <th>0</th>\n",
        "      <td>      American Sniper</td>\n",
        "      <td> \u7f8e\u56fd\u963b\u51fb\u624b</td>\n",
        "    </tr>\n",
        "    <tr>\n",
        "      <th>1</th>\n",
        "      <td>            SpongeBob</td>\n",
        "      <td>  \u6d77\u7ef5\u5b9d\u5b9d</td>\n",
        "    </tr>\n",
        "    <tr>\n",
        "      <th>2</th>\n",
        "      <td> Fifty Shades of Grey</td>\n",
        "      <td>  \u4e94\u5341\u5ea6\u7070</td>\n",
        "    </tr>\n",
        "  </tbody>\n",
        "</table>\n",
        "<p>3 rows \u00d7 2 columns</p>\n",
        "</div>"
       ],
       "metadata": {},
       "output_type": "pyout",
       "prompt_number": 41,
       "text": [
        "               #1 Movie    chs\n",
        "0       American Sniper  \u7f8e\u56fd\u963b\u51fb\u624b\n",
        "1             SpongeBob   \u6d77\u7ef5\u5b9d\u5b9d\n",
        "2  Fifty Shades of Grey   \u4e94\u5341\u5ea6\u7070\n",
        "\n",
        "[3 rows x 2 columns]"
       ]
      }
     ],
     "prompt_number": 41
=======
     "outputs": []
>>>>>>> 90d041bb86cfe92cf796428fa6d5a84f2122fc4d
    },
    {
     "cell_type": "code",
     "collapsed": false,
     "input": [
      "pd.merge(df_1, df_2, on=u'#1 Movie').head()"
     ],
     "language": "python",
     "metadata": {},
<<<<<<< HEAD
     "outputs": [
      {
       "html": [
        "<div style=\"max-height:1000px;max-width:1500px;overflow:auto;\">\n",
        "<table border=\"1\" class=\"dataframe\">\n",
        "  <thead>\n",
        "    <tr style=\"text-align: right;\">\n",
        "      <th></th>\n",
        "      <th>Row</th>\n",
        "      <th>Date</th>\n",
        "      <th>Day</th>\n",
        "      <th>Day#</th>\n",
        "      <th>Top 10 Gross</th>\n",
        "      <th>#1 Movie</th>\n",
        "      <th>Gross</th>\n",
        "      <th>chs</th>\n",
        "    </tr>\n",
        "  </thead>\n",
        "  <tbody>\n",
        "    <tr>\n",
        "      <th>0</th>\n",
        "      <td> 1</td>\n",
        "      <td> Jan. 30</td>\n",
        "      <td> Fri</td>\n",
        "      <td> 30</td>\n",
        "      <td> 26168351</td>\n",
        "      <td> American Sniper</td>\n",
        "      <td>  9905616</td>\n",
        "      <td> \u7f8e\u56fd\u963b\u51fb\u624b</td>\n",
        "    </tr>\n",
        "    <tr>\n",
        "      <th>1</th>\n",
        "      <td> 2</td>\n",
        "      <td> Jan. 31</td>\n",
        "      <td> Sat</td>\n",
        "      <td> 31</td>\n",
        "      <td> 41633588</td>\n",
        "      <td> American Sniper</td>\n",
        "      <td> 16510536</td>\n",
        "      <td> \u7f8e\u56fd\u963b\u51fb\u624b</td>\n",
        "    </tr>\n",
        "    <tr>\n",
        "      <th>2</th>\n",
        "      <td> 3</td>\n",
        "      <td>  Feb. 1</td>\n",
        "      <td> Sun</td>\n",
        "      <td> 32</td>\n",
        "      <td> 12515579</td>\n",
        "      <td> American Sniper</td>\n",
        "      <td>  4244376</td>\n",
        "      <td> \u7f8e\u56fd\u963b\u51fb\u624b</td>\n",
        "    </tr>\n",
        "    <tr>\n",
        "      <th>3</th>\n",
        "      <td> 4</td>\n",
        "      <td>  Feb. 2</td>\n",
        "      <td> Mon</td>\n",
        "      <td> 33</td>\n",
        "      <td>  6475068</td>\n",
        "      <td> American Sniper</td>\n",
        "      <td>  2645109</td>\n",
        "      <td> \u7f8e\u56fd\u963b\u51fb\u624b</td>\n",
        "    </tr>\n",
        "    <tr>\n",
        "      <th>4</th>\n",
        "      <td> 5</td>\n",
        "      <td>  Feb. 3</td>\n",
        "      <td> Tue</td>\n",
        "      <td> 34</td>\n",
        "      <td>  7825091</td>\n",
        "      <td> American Sniper</td>\n",
        "      <td>  2923141</td>\n",
        "      <td> \u7f8e\u56fd\u963b\u51fb\u624b</td>\n",
        "    </tr>\n",
        "  </tbody>\n",
        "</table>\n",
        "<p>5 rows \u00d7 8 columns</p>\n",
        "</div>"
       ],
       "metadata": {},
       "output_type": "pyout",
       "prompt_number": 43,
       "text": [
        "   Row     Date  Day  Day#  Top 10 Gross         #1 Movie     Gross    chs\n",
        "0    1  Jan. 30  Fri    30      26168351  American Sniper   9905616  \u7f8e\u56fd\u963b\u51fb\u624b\n",
        "1    2  Jan. 31  Sat    31      41633588  American Sniper  16510536  \u7f8e\u56fd\u963b\u51fb\u624b\n",
        "2    3   Feb. 1  Sun    32      12515579  American Sniper   4244376  \u7f8e\u56fd\u963b\u51fb\u624b\n",
        "3    4   Feb. 2  Mon    33       6475068  American Sniper   2645109  \u7f8e\u56fd\u963b\u51fb\u624b\n",
        "4    5   Feb. 3  Tue    34       7825091  American Sniper   2923141  \u7f8e\u56fd\u963b\u51fb\u624b\n",
        "\n",
        "[5 rows x 8 columns]"
       ]
      }
     ],
     "prompt_number": 43
    },
    {
     "cell_type": "code",
     "collapsed": false,
     "input": [],
     "language": "python",
     "metadata": {},
=======
>>>>>>> 90d041bb86cfe92cf796428fa6d5a84f2122fc4d
     "outputs": []
    }
   ],
   "metadata": {}
  }
 ]
}