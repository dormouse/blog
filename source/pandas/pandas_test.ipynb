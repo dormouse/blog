{
 "cells": [
  {
   "cell_type": "markdown",
   "metadata": {},
   "source": [
    "# pandas 入门"
   ]
  },
  {
   "cell_type": "markdown",
   "metadata": {},
   "source": [
    "* 版本号： 0.1\n",
    "* 创建时间： 2015年 02月 07日 星期六 10:26:33 CST\n",
    "* 修改时间： 2015年 03月 21日 星期六 12:28:33 CST"
   ]
  },
  {
   "cell_type": "markdown",
   "metadata": {},
   "source": [
    "## 建立环境"
   ]
  },
  {
   "cell_type": "markdown",
   "metadata": {},
   "source": [
    "### 安装 pandas"
   ]
  },
  {
   "cell_type": "markdown",
   "metadata": {},
   "source": [
    "    sudo apt-get install build-essential python-dev \n",
    "    sudo apt-get install python-pandas python-tk\n",
    "    sudo apt-get install python-scipy python-matplotlib python-tables\n",
    "    sudo apt-get install python-numexpr python-xlrd python-statsmodels\n",
    "    sudo apt-get install python-openpyxl python-xlwt python-bs4\n",
    "    \n",
    "    if use virtualenv before install matplotlib should install libpng-dev, libjpeg8-dev, libfreetype6-dev"
   ]
  },
  {
   "cell_type": "markdown",
   "metadata": {},
   "source": [
    "### 安装 ipython-notebook"
   ]
  },
  {
   "cell_type": "markdown",
   "metadata": {},
   "source": [
    "    sudo pip install \"ipython[notebook]\"\n",
    "    sudo pip install pygments"
   ]
  },
  {
   "cell_type": "markdown",
   "metadata": {},
   "source": [
    "### 运行 ipython-notebook"
   ]
  },
  {
   "cell_type": "markdown",
   "metadata": {},
   "source": [
    "    ipython notebook\n",
    "    #如果你使用matplotlib内嵌进网页中,那么需要运行:\n",
    "    ipython notebook --matplotlib inline"
   ]
  },
  {
   "cell_type": "markdown",
   "metadata": {},
   "source": [
    "## 导入 pandas"
   ]
  },
  {
   "cell_type": "code",
   "execution_count": 1,
   "metadata": {
    "collapsed": true
   },
   "outputs": [],
   "source": [
    "import pandas as pd\n",
    "import numpy as np"
   ]
  },
  {
   "cell_type": "markdown",
   "metadata": {},
   "source": [
    "## 读入数据"
   ]
  },
  {
   "cell_type": "code",
   "execution_count": 2,
   "metadata": {
    "collapsed": false
   },
   "outputs": [
    {
     "data": {
      "text/html": [
       "<div style=\"max-height:1000px;max-width:1500px;overflow:auto;\">\n",
       "<table border=\"1\" class=\"dataframe\">\n",
       "  <thead>\n",
       "    <tr style=\"text-align: right;\">\n",
       "      <th></th>\n",
       "      <th>Row</th>\n",
       "      <th>Date</th>\n",
       "      <th>Day</th>\n",
       "      <th>Day#</th>\n",
       "      <th>Top 10 Gross</th>\n",
       "      <th>#1 Movie</th>\n",
       "      <th>Gross</th>\n",
       "    </tr>\n",
       "  </thead>\n",
       "  <tbody>\n",
       "    <tr>\n",
       "      <th>0</th>\n",
       "      <td> 1</td>\n",
       "      <td> Jan. 30</td>\n",
       "      <td> Fri</td>\n",
       "      <td> 30</td>\n",
       "      <td> $26,168,351</td>\n",
       "      <td> American Sniper</td>\n",
       "      <td>  $9,905,616</td>\n",
       "    </tr>\n",
       "    <tr>\n",
       "      <th>1</th>\n",
       "      <td> 2</td>\n",
       "      <td> Jan. 31</td>\n",
       "      <td> Sat</td>\n",
       "      <td> 31</td>\n",
       "      <td> $41,633,588</td>\n",
       "      <td> American Sniper</td>\n",
       "      <td> $16,510,536</td>\n",
       "    </tr>\n",
       "    <tr>\n",
       "      <th>2</th>\n",
       "      <td> 3</td>\n",
       "      <td>  Feb. 1</td>\n",
       "      <td> Sun</td>\n",
       "      <td> 32</td>\n",
       "      <td> $12,515,579</td>\n",
       "      <td> American Sniper</td>\n",
       "      <td>  $4,244,376</td>\n",
       "    </tr>\n",
       "    <tr>\n",
       "      <th>3</th>\n",
       "      <td> 4</td>\n",
       "      <td>  Feb. 2</td>\n",
       "      <td> Mon</td>\n",
       "      <td> 33</td>\n",
       "      <td>  $6,475,068</td>\n",
       "      <td> American Sniper</td>\n",
       "      <td>  $2,645,109</td>\n",
       "    </tr>\n",
       "    <tr>\n",
       "      <th>4</th>\n",
       "      <td> 5</td>\n",
       "      <td>  Feb. 3</td>\n",
       "      <td> Tue</td>\n",
       "      <td> 34</td>\n",
       "      <td>  $7,825,091</td>\n",
       "      <td> American Sniper</td>\n",
       "      <td>  $2,923,141</td>\n",
       "    </tr>\n",
       "  </tbody>\n",
       "</table>\n",
       "<p>5 rows × 7 columns</p>\n",
       "</div>"
      ],
      "text/plain": [
       "   Row     Date  Day  Day# Top 10 Gross         #1 Movie        Gross\n",
       "0    1  Jan. 30  Fri    30  $26,168,351  American Sniper   $9,905,616\n",
       "1    2  Jan. 31  Sat    31  $41,633,588  American Sniper  $16,510,536\n",
       "2    3   Feb. 1  Sun    32  $12,515,579  American Sniper   $4,244,376\n",
       "3    4   Feb. 2  Mon    33   $6,475,068  American Sniper   $2,645,109\n",
       "4    5   Feb. 3  Tue    34   $7,825,091  American Sniper   $2,923,141\n",
       "\n",
       "[5 rows x 7 columns]"
      ]
     },
     "execution_count": 2,
     "metadata": {},
     "output_type": "execute_result"
    }
   ],
   "source": [
    "# 读入 CSV 格式数据\n",
    "# 数据来源：http://boxofficemojo.com/daily/\n",
    "df_movies = pd.read_csv('movies.csv', sep='\\t', encoding='utf-8')\n",
    "df_movies.head()"
   ]
  },
  {
   "cell_type": "code",
   "execution_count": 3,
   "metadata": {
    "collapsed": false
   },
   "outputs": [
    {
     "data": {
      "text/html": [
       "<div style=\"max-height:1000px;max-width:1500px;overflow:auto;\">\n",
       "<table border=\"1\" class=\"dataframe\">\n",
       "  <thead>\n",
       "    <tr style=\"text-align: right;\">\n",
       "      <th></th>\n",
       "      <th>Row</th>\n",
       "      <th>Date</th>\n",
       "      <th>Day</th>\n",
       "      <th>Day#</th>\n",
       "      <th>Top 10 Gross</th>\n",
       "      <th>#1 Movie</th>\n",
       "      <th>Gross</th>\n",
       "    </tr>\n",
       "  </thead>\n",
       "  <tbody>\n",
       "    <tr>\n",
       "      <th>0</th>\n",
       "      <td> 1</td>\n",
       "      <td> Jan. 30</td>\n",
       "      <td> Fri</td>\n",
       "      <td> 30</td>\n",
       "      <td> 26168351</td>\n",
       "      <td> American Sniper</td>\n",
       "      <td>  9905616</td>\n",
       "    </tr>\n",
       "    <tr>\n",
       "      <th>1</th>\n",
       "      <td> 2</td>\n",
       "      <td> Jan. 31</td>\n",
       "      <td> Sat</td>\n",
       "      <td> 31</td>\n",
       "      <td> 41633588</td>\n",
       "      <td> American Sniper</td>\n",
       "      <td> 16510536</td>\n",
       "    </tr>\n",
       "    <tr>\n",
       "      <th>2</th>\n",
       "      <td> 3</td>\n",
       "      <td>  Feb. 1</td>\n",
       "      <td> Sun</td>\n",
       "      <td> 32</td>\n",
       "      <td> 12515579</td>\n",
       "      <td> American Sniper</td>\n",
       "      <td>  4244376</td>\n",
       "    </tr>\n",
       "    <tr>\n",
       "      <th>3</th>\n",
       "      <td> 4</td>\n",
       "      <td>  Feb. 2</td>\n",
       "      <td> Mon</td>\n",
       "      <td> 33</td>\n",
       "      <td>  6475068</td>\n",
       "      <td> American Sniper</td>\n",
       "      <td>  2645109</td>\n",
       "    </tr>\n",
       "    <tr>\n",
       "      <th>4</th>\n",
       "      <td> 5</td>\n",
       "      <td>  Feb. 3</td>\n",
       "      <td> Tue</td>\n",
       "      <td> 34</td>\n",
       "      <td>  7825091</td>\n",
       "      <td> American Sniper</td>\n",
       "      <td>  2923141</td>\n",
       "    </tr>\n",
       "  </tbody>\n",
       "</table>\n",
       "<p>5 rows × 7 columns</p>\n",
       "</div>"
      ],
      "text/plain": [
       "   Row     Date  Day  Day#  Top 10 Gross         #1 Movie     Gross\n",
       "0    1  Jan. 30  Fri    30      26168351  American Sniper   9905616\n",
       "1    2  Jan. 31  Sat    31      41633588  American Sniper  16510536\n",
       "2    3   Feb. 1  Sun    32      12515579  American Sniper   4244376\n",
       "3    4   Feb. 2  Mon    33       6475068  American Sniper   2645109\n",
       "4    5   Feb. 3  Tue    34       7825091  American Sniper   2923141\n",
       "\n",
       "[5 rows x 7 columns]"
      ]
     },
     "execution_count": 3,
     "metadata": {},
     "output_type": "execute_result"
    }
   ],
   "source": [
    "df_movies = pd.read_csv('movies.csv', sep='\\t', encoding='utf-8',thousands=',',escapechar='$')\n",
    "df_movies.head()"
   ]
  },
  {
   "cell_type": "markdown",
   "metadata": {},
   "source": [
    "从数据库读入数据参见：http://stackoverflow.com/questions/10065051/python-pandas-and-databases-like-mysql"
   ]
  },
  {
   "cell_type": "markdown",
   "metadata": {},
   "source": [
    "## 复制数据"
   ]
  },
  {
   "cell_type": "code",
   "execution_count": 4,
   "metadata": {
    "collapsed": true
   },
   "outputs": [
    {
     "data": {
      "text/html": [
       "<div style=\"max-height:1000px;max-width:1500px;overflow:auto;\">\n",
       "<table border=\"1\" class=\"dataframe\">\n",
       "  <thead>\n",
       "    <tr style=\"text-align: right;\">\n",
       "      <th></th>\n",
       "      <th>Row</th>\n",
       "      <th>Date</th>\n",
       "      <th>Day</th>\n",
       "      <th>Day#</th>\n",
       "      <th>Top 10 Gross</th>\n",
       "      <th>#1 Movie</th>\n",
       "      <th>Gross</th>\n",
       "    </tr>\n",
       "  </thead>\n",
       "  <tbody>\n",
       "    <tr>\n",
       "      <th>0</th>\n",
       "      <td> 1</td>\n",
       "      <td> Jan. 30</td>\n",
       "      <td> Fri</td>\n",
       "      <td> 30</td>\n",
       "      <td> 26168351</td>\n",
       "      <td> American Sniper</td>\n",
       "      <td>  9905616</td>\n",
       "    </tr>\n",
       "    <tr>\n",
       "      <th>1</th>\n",
       "      <td> 2</td>\n",
       "      <td> Jan. 31</td>\n",
       "      <td> Sat</td>\n",
       "      <td> 31</td>\n",
       "      <td> 41633588</td>\n",
       "      <td> American Sniper</td>\n",
       "      <td> 16510536</td>\n",
       "    </tr>\n",
       "    <tr>\n",
       "      <th>2</th>\n",
       "      <td> 3</td>\n",
       "      <td>  Feb. 1</td>\n",
       "      <td> Sun</td>\n",
       "      <td> 32</td>\n",
       "      <td> 12515579</td>\n",
       "      <td> American Sniper</td>\n",
       "      <td>  4244376</td>\n",
       "    </tr>\n",
       "  </tbody>\n",
       "</table>\n",
       "<p>3 rows × 7 columns</p>\n",
       "</div>"
      ],
      "text/plain": [
       "   Row     Date  Day  Day#  Top 10 Gross         #1 Movie     Gross\n",
       "0    1  Jan. 30  Fri    30      26168351  American Sniper   9905616\n",
       "1    2  Jan. 31  Sat    31      41633588  American Sniper  16510536\n",
       "2    3   Feb. 1  Sun    32      12515579  American Sniper   4244376\n",
       "\n",
       "[3 rows x 7 columns]"
      ]
     },
     "execution_count": 4,
     "metadata": {},
     "output_type": "execute_result"
    }
   ],
   "source": [
    "df = df_movies.copy()\n",
    "df.head(3)"
   ]
  },
  {
   "cell_type": "markdown",
   "metadata": {},
   "source": [
    "## 导出数据"
   ]
  },
  {
   "cell_type": "code",
   "execution_count": 5,
   "metadata": {
    "collapsed": false
   },
   "outputs": [],
   "source": [
    "#导出周六的数据，格式为 CSV\n",
    "df[ (df['Day'] == 'Sat') ].to_csv('test_output.csv', mode='w', encoding='utf-8', index=False)"
   ]
  },
  {
   "cell_type": "code",
   "execution_count": 6,
   "metadata": {
    "collapsed": false
   },
   "outputs": [],
   "source": [
    "#在前面的文件中追加周日的数据\n",
    "df[ (df['Day'] == 'Sun') ].to_csv('test_output.csv', mode='a', header=False, encoding='utf-8', index=False)"
   ]
  },
  {
   "cell_type": "markdown",
   "metadata": {},
   "source": [
    "## 显示数据"
   ]
  },
  {
   "cell_type": "code",
   "execution_count": 7,
   "metadata": {
    "collapsed": false
   },
   "outputs": [
    {
     "data": {
      "text/html": [
       "<div style=\"max-height:1000px;max-width:1500px;overflow:auto;\">\n",
       "<table border=\"1\" class=\"dataframe\">\n",
       "  <thead>\n",
       "    <tr style=\"text-align: right;\">\n",
       "      <th></th>\n",
       "      <th>Row</th>\n",
       "      <th>Date</th>\n",
       "      <th>Day</th>\n",
       "      <th>Day#</th>\n",
       "      <th>Top 10 Gross</th>\n",
       "      <th>#1 Movie</th>\n",
       "      <th>Gross</th>\n",
       "    </tr>\n",
       "  </thead>\n",
       "  <tbody>\n",
       "    <tr>\n",
       "      <th>0</th>\n",
       "      <td> 1</td>\n",
       "      <td> Jan. 30</td>\n",
       "      <td> Fri</td>\n",
       "      <td> 30</td>\n",
       "      <td> 26168351</td>\n",
       "      <td> American Sniper</td>\n",
       "      <td>  9905616</td>\n",
       "    </tr>\n",
       "    <tr>\n",
       "      <th>1</th>\n",
       "      <td> 2</td>\n",
       "      <td> Jan. 31</td>\n",
       "      <td> Sat</td>\n",
       "      <td> 31</td>\n",
       "      <td> 41633588</td>\n",
       "      <td> American Sniper</td>\n",
       "      <td> 16510536</td>\n",
       "    </tr>\n",
       "    <tr>\n",
       "      <th>2</th>\n",
       "      <td> 3</td>\n",
       "      <td>  Feb. 1</td>\n",
       "      <td> Sun</td>\n",
       "      <td> 32</td>\n",
       "      <td> 12515579</td>\n",
       "      <td> American Sniper</td>\n",
       "      <td>  4244376</td>\n",
       "    </tr>\n",
       "    <tr>\n",
       "      <th>3</th>\n",
       "      <td> 4</td>\n",
       "      <td>  Feb. 2</td>\n",
       "      <td> Mon</td>\n",
       "      <td> 33</td>\n",
       "      <td>  6475068</td>\n",
       "      <td> American Sniper</td>\n",
       "      <td>  2645109</td>\n",
       "    </tr>\n",
       "    <tr>\n",
       "      <th>4</th>\n",
       "      <td> 5</td>\n",
       "      <td>  Feb. 3</td>\n",
       "      <td> Tue</td>\n",
       "      <td> 34</td>\n",
       "      <td>  7825091</td>\n",
       "      <td> American Sniper</td>\n",
       "      <td>  2923141</td>\n",
       "    </tr>\n",
       "  </tbody>\n",
       "</table>\n",
       "<p>5 rows × 7 columns</p>\n",
       "</div>"
      ],
      "text/plain": [
       "   Row     Date  Day  Day#  Top 10 Gross         #1 Movie     Gross\n",
       "0    1  Jan. 30  Fri    30      26168351  American Sniper   9905616\n",
       "1    2  Jan. 31  Sat    31      41633588  American Sniper  16510536\n",
       "2    3   Feb. 1  Sun    32      12515579  American Sniper   4244376\n",
       "3    4   Feb. 2  Mon    33       6475068  American Sniper   2645109\n",
       "4    5   Feb. 3  Tue    34       7825091  American Sniper   2923141\n",
       "\n",
       "[5 rows x 7 columns]"
      ]
     },
     "execution_count": 7,
     "metadata": {},
     "output_type": "execute_result"
    }
   ],
   "source": [
    "#显示开头的数据，缺省显示 5 条\n",
    "df.head()"
   ]
  },
  {
   "cell_type": "code",
   "execution_count": 8,
   "metadata": {
    "collapsed": true
   },
   "outputs": [
    {
     "data": {
      "text/html": [
       "<div style=\"max-height:1000px;max-width:1500px;overflow:auto;\">\n",
       "<table border=\"1\" class=\"dataframe\">\n",
       "  <thead>\n",
       "    <tr style=\"text-align: right;\">\n",
       "      <th></th>\n",
       "      <th>Row</th>\n",
       "      <th>Date</th>\n",
       "      <th>Day</th>\n",
       "      <th>Day#</th>\n",
       "      <th>Top 10 Gross</th>\n",
       "      <th>#1 Movie</th>\n",
       "      <th>Gross</th>\n",
       "    </tr>\n",
       "  </thead>\n",
       "  <tbody>\n",
       "    <tr>\n",
       "      <th>0</th>\n",
       "      <td> 1</td>\n",
       "      <td> Jan. 30</td>\n",
       "      <td> Fri</td>\n",
       "      <td> 30</td>\n",
       "      <td> 26168351</td>\n",
       "      <td> American Sniper</td>\n",
       "      <td>  9905616</td>\n",
       "    </tr>\n",
       "    <tr>\n",
       "      <th>1</th>\n",
       "      <td> 2</td>\n",
       "      <td> Jan. 31</td>\n",
       "      <td> Sat</td>\n",
       "      <td> 31</td>\n",
       "      <td> 41633588</td>\n",
       "      <td> American Sniper</td>\n",
       "      <td> 16510536</td>\n",
       "    </tr>\n",
       "    <tr>\n",
       "      <th>2</th>\n",
       "      <td> 3</td>\n",
       "      <td>  Feb. 1</td>\n",
       "      <td> Sun</td>\n",
       "      <td> 32</td>\n",
       "      <td> 12515579</td>\n",
       "      <td> American Sniper</td>\n",
       "      <td>  4244376</td>\n",
       "    </tr>\n",
       "  </tbody>\n",
       "</table>\n",
       "<p>3 rows × 7 columns</p>\n",
       "</div>"
      ],
      "text/plain": [
       "   Row     Date  Day  Day#  Top 10 Gross         #1 Movie     Gross\n",
       "0    1  Jan. 30  Fri    30      26168351  American Sniper   9905616\n",
       "1    2  Jan. 31  Sat    31      41633588  American Sniper  16510536\n",
       "2    3   Feb. 1  Sun    32      12515579  American Sniper   4244376\n",
       "\n",
       "[3 rows x 7 columns]"
      ]
     },
     "execution_count": 8,
     "metadata": {},
     "output_type": "execute_result"
    }
   ],
   "source": [
    "#显示开头的数据，指定显示 3 条\n",
    "df.head(3)"
   ]
  },
  {
   "cell_type": "code",
   "execution_count": 9,
   "metadata": {
    "collapsed": true
   },
   "outputs": [
    {
     "data": {
      "text/html": [
       "<div style=\"max-height:1000px;max-width:1500px;overflow:auto;\">\n",
       "<table border=\"1\" class=\"dataframe\">\n",
       "  <thead>\n",
       "    <tr style=\"text-align: right;\">\n",
       "      <th></th>\n",
       "      <th>Row</th>\n",
       "      <th>Date</th>\n",
       "      <th>Day</th>\n",
       "      <th>Day#</th>\n",
       "      <th>Top 10 Gross</th>\n",
       "      <th>#1 Movie</th>\n",
       "      <th>Gross</th>\n",
       "    </tr>\n",
       "  </thead>\n",
       "  <tbody>\n",
       "    <tr>\n",
       "      <th>24</th>\n",
       "      <td> 25</td>\n",
       "      <td> Feb. 23</td>\n",
       "      <td> Mon</td>\n",
       "      <td> 54</td>\n",
       "      <td>  7385671</td>\n",
       "      <td> Fifty Shades of Grey</td>\n",
       "      <td> 1846390</td>\n",
       "    </tr>\n",
       "    <tr>\n",
       "      <th>25</th>\n",
       "      <td> 26</td>\n",
       "      <td> Feb. 24</td>\n",
       "      <td> Tue</td>\n",
       "      <td> 55</td>\n",
       "      <td>  9424126</td>\n",
       "      <td> Fifty Shades of Grey</td>\n",
       "      <td> 2265910</td>\n",
       "    </tr>\n",
       "    <tr>\n",
       "      <th>26</th>\n",
       "      <td> 27</td>\n",
       "      <td> Feb. 25</td>\n",
       "      <td> Wed</td>\n",
       "      <td> 56</td>\n",
       "      <td>  6862942</td>\n",
       "      <td> Fifty Shades of Grey</td>\n",
       "      <td> 1772230</td>\n",
       "    </tr>\n",
       "    <tr>\n",
       "      <th>27</th>\n",
       "      <td> 28</td>\n",
       "      <td> Feb. 26</td>\n",
       "      <td> Thu</td>\n",
       "      <td> 57</td>\n",
       "      <td>  7161773</td>\n",
       "      <td> Fifty Shades of Grey</td>\n",
       "      <td> 1790520</td>\n",
       "    </tr>\n",
       "    <tr>\n",
       "      <th>28</th>\n",
       "      <td> 29</td>\n",
       "      <td> Feb. 27</td>\n",
       "      <td> Fri</td>\n",
       "      <td> 58</td>\n",
       "      <td> 26457000</td>\n",
       "      <td>         Focus (2015)</td>\n",
       "      <td> 6465000</td>\n",
       "    </tr>\n",
       "  </tbody>\n",
       "</table>\n",
       "<p>5 rows × 7 columns</p>\n",
       "</div>"
      ],
      "text/plain": [
       "    Row     Date  Day  Day#  Top 10 Gross              #1 Movie    Gross\n",
       "24   25  Feb. 23  Mon    54       7385671  Fifty Shades of Grey  1846390\n",
       "25   26  Feb. 24  Tue    55       9424126  Fifty Shades of Grey  2265910\n",
       "26   27  Feb. 25  Wed    56       6862942  Fifty Shades of Grey  1772230\n",
       "27   28  Feb. 26  Thu    57       7161773  Fifty Shades of Grey  1790520\n",
       "28   29  Feb. 27  Fri    58      26457000          Focus (2015)  6465000\n",
       "\n",
       "[5 rows x 7 columns]"
      ]
     },
     "execution_count": 9,
     "metadata": {},
     "output_type": "execute_result"
    }
   ],
   "source": [
    "#显示末尾的数据，缺省显示 5 条\n",
    "df.tail()"
   ]
  },
  {
   "cell_type": "code",
   "execution_count": 10,
   "metadata": {
    "collapsed": true
   },
   "outputs": [
    {
     "data": {
      "text/html": [
       "<div style=\"max-height:1000px;max-width:1500px;overflow:auto;\">\n",
       "<table border=\"1\" class=\"dataframe\">\n",
       "  <thead>\n",
       "    <tr style=\"text-align: right;\">\n",
       "      <th></th>\n",
       "      <th>Row</th>\n",
       "      <th>Date</th>\n",
       "      <th>Day</th>\n",
       "      <th>Day#</th>\n",
       "      <th>Top 10 Gross</th>\n",
       "      <th>#1 Movie</th>\n",
       "      <th>Gross</th>\n",
       "    </tr>\n",
       "  </thead>\n",
       "  <tbody>\n",
       "    <tr>\n",
       "      <th>27</th>\n",
       "      <td> 28</td>\n",
       "      <td> Feb. 26</td>\n",
       "      <td> Thu</td>\n",
       "      <td> 57</td>\n",
       "      <td>  7161773</td>\n",
       "      <td> Fifty Shades of Grey</td>\n",
       "      <td> 1790520</td>\n",
       "    </tr>\n",
       "    <tr>\n",
       "      <th>28</th>\n",
       "      <td> 29</td>\n",
       "      <td> Feb. 27</td>\n",
       "      <td> Fri</td>\n",
       "      <td> 58</td>\n",
       "      <td> 26457000</td>\n",
       "      <td>         Focus (2015)</td>\n",
       "      <td> 6465000</td>\n",
       "    </tr>\n",
       "  </tbody>\n",
       "</table>\n",
       "<p>2 rows × 7 columns</p>\n",
       "</div>"
      ],
      "text/plain": [
       "    Row     Date  Day  Day#  Top 10 Gross              #1 Movie    Gross\n",
       "27   28  Feb. 26  Thu    57       7161773  Fifty Shades of Grey  1790520\n",
       "28   29  Feb. 27  Fri    58      26457000          Focus (2015)  6465000\n",
       "\n",
       "[2 rows x 7 columns]"
      ]
     },
     "execution_count": 10,
     "metadata": {},
     "output_type": "execute_result"
    }
   ],
   "source": [
    "#显示末尾的数据，缺省显示 2 条\n",
    "df.tail(2)"
   ]
  },
  {
   "cell_type": "code",
   "execution_count": 11,
   "metadata": {
    "collapsed": false
   },
   "outputs": [
    {
     "data": {
      "text/html": [
       "<div style=\"max-height:1000px;max-width:1500px;overflow:auto;\">\n",
       "<table border=\"1\" class=\"dataframe\">\n",
       "  <thead>\n",
       "    <tr style=\"text-align: right;\">\n",
       "      <th></th>\n",
       "      <th>Row</th>\n",
       "      <th>Date</th>\n",
       "      <th>Day</th>\n",
       "      <th>Day#</th>\n",
       "    </tr>\n",
       "  </thead>\n",
       "  <tbody>\n",
       "    <tr>\n",
       "      <th>1</th>\n",
       "      <td> 2</td>\n",
       "      <td> Jan. 31</td>\n",
       "      <td> Sat</td>\n",
       "      <td> 31</td>\n",
       "    </tr>\n",
       "    <tr>\n",
       "      <th>3</th>\n",
       "      <td> 4</td>\n",
       "      <td>  Feb. 2</td>\n",
       "      <td> Mon</td>\n",
       "      <td> 33</td>\n",
       "    </tr>\n",
       "    <tr>\n",
       "      <th>5</th>\n",
       "      <td> 6</td>\n",
       "      <td>  Feb. 4</td>\n",
       "      <td> Wed</td>\n",
       "      <td> 35</td>\n",
       "    </tr>\n",
       "  </tbody>\n",
       "</table>\n",
       "<p>3 rows × 4 columns</p>\n",
       "</div>"
      ],
      "text/plain": [
       "   Row     Date  Day  Day#\n",
       "1    2  Jan. 31  Sat    31\n",
       "3    4   Feb. 2  Mon    33\n",
       "5    6   Feb. 4  Wed    35\n",
       "\n",
       "[3 rows x 4 columns]"
      ]
     },
     "execution_count": 11,
     "metadata": {},
     "output_type": "execute_result"
    }
   ],
   "source": [
    "#只显示指定的行和列\n",
    "df.iloc[[1,3,5],[0,1,2,3]]"
   ]
  },
  {
   "cell_type": "code",
   "execution_count": 12,
   "metadata": {
    "collapsed": false
   },
   "outputs": [
    {
     "data": {
      "text/html": [
       "<div style=\"max-height:1000px;max-width:1500px;overflow:auto;\">\n",
       "<table border=\"1\" class=\"dataframe\">\n",
       "  <thead>\n",
       "    <tr style=\"text-align: right;\">\n",
       "      <th></th>\n",
       "      <th>Date</th>\n",
       "      <th>Gross</th>\n",
       "    </tr>\n",
       "  </thead>\n",
       "  <tbody>\n",
       "    <tr>\n",
       "      <th>1</th>\n",
       "      <td> Jan. 31</td>\n",
       "      <td> 16510536</td>\n",
       "    </tr>\n",
       "    <tr>\n",
       "      <th>3</th>\n",
       "      <td>  Feb. 2</td>\n",
       "      <td>  2645109</td>\n",
       "    </tr>\n",
       "    <tr>\n",
       "      <th>5</th>\n",
       "      <td>  Feb. 4</td>\n",
       "      <td>  2273342</td>\n",
       "    </tr>\n",
       "  </tbody>\n",
       "</table>\n",
       "<p>3 rows × 2 columns</p>\n",
       "</div>"
      ],
      "text/plain": [
       "      Date     Gross\n",
       "1  Jan. 31  16510536\n",
       "3   Feb. 2   2645109\n",
       "5   Feb. 4   2273342\n",
       "\n",
       "[3 rows x 2 columns]"
      ]
     },
     "execution_count": 12,
     "metadata": {},
     "output_type": "execute_result"
    }
   ],
   "source": [
    "df.loc[[1,3,5],['Date', 'Gross']]"
   ]
  },
  {
   "cell_type": "markdown",
   "metadata": {},
   "source": [
    "## 操作单元"
   ]
  },
  {
   "cell_type": "code",
   "execution_count": 13,
   "metadata": {
    "collapsed": false
   },
   "outputs": [
    {
     "data": {
      "text/html": [
       "<div style=\"max-height:1000px;max-width:1500px;overflow:auto;\">\n",
       "<table border=\"1\" class=\"dataframe\">\n",
       "  <thead>\n",
       "    <tr style=\"text-align: right;\">\n",
       "      <th></th>\n",
       "      <th>Row</th>\n",
       "      <th>Date</th>\n",
       "      <th>Day</th>\n",
       "      <th>Day#</th>\n",
       "      <th>Top 10 Gross</th>\n",
       "      <th>#1 Movie</th>\n",
       "      <th>Gross</th>\n",
       "    </tr>\n",
       "  </thead>\n",
       "  <tbody>\n",
       "    <tr>\n",
       "      <th>0</th>\n",
       "      <td> 1</td>\n",
       "      <td> Jan. 30</td>\n",
       "      <td> Fri</td>\n",
       "      <td> 30</td>\n",
       "      <td> 26168351</td>\n",
       "      <td>            土豆之歌</td>\n",
       "      <td> 9905616</td>\n",
       "    </tr>\n",
       "    <tr>\n",
       "      <th>1</th>\n",
       "      <td> 2</td>\n",
       "      <td> Jan. 31</td>\n",
       "      <td> Sat</td>\n",
       "      <td> 31</td>\n",
       "      <td> 41633588</td>\n",
       "      <td> American Sniper</td>\n",
       "      <td>     999</td>\n",
       "    </tr>\n",
       "    <tr>\n",
       "      <th>2</th>\n",
       "      <td> 3</td>\n",
       "      <td>  Feb. 1</td>\n",
       "      <td> Sun</td>\n",
       "      <td> 32</td>\n",
       "      <td> 12515579</td>\n",
       "      <td> American Sniper</td>\n",
       "      <td> 4244376</td>\n",
       "    </tr>\n",
       "  </tbody>\n",
       "</table>\n",
       "<p>3 rows × 7 columns</p>\n",
       "</div>"
      ],
      "text/plain": [
       "   Row     Date  Day  Day#  Top 10 Gross         #1 Movie    Gross\n",
       "0    1  Jan. 30  Fri    30      26168351             土豆之歌  9905616\n",
       "1    2  Jan. 31  Sat    31      41633588  American Sniper      999\n",
       "2    3   Feb. 1  Sun    32      12515579  American Sniper  4244376\n",
       "\n",
       "[3 rows x 7 columns]"
      ]
     },
     "execution_count": 13,
     "metadata": {},
     "output_type": "execute_result"
    }
   ],
   "source": [
    "df = df_movies.copy()\n",
    "# 单元格赋值\n",
    "# 单个单元格赋值\n",
    "df.ix[0, u'#1 Movie'] = u'土豆之歌'\n",
    "df.loc[df.index[1], u'Gross']= 999\n",
    "df.head(3)"
   ]
  },
  {
   "cell_type": "code",
   "execution_count": 14,
   "metadata": {
    "collapsed": false
   },
   "outputs": [
    {
     "data": {
      "text/html": [
       "<div style=\"max-height:1000px;max-width:1500px;overflow:auto;\">\n",
       "<table border=\"1\" class=\"dataframe\">\n",
       "  <thead>\n",
       "    <tr style=\"text-align: right;\">\n",
       "      <th></th>\n",
       "      <th>Row</th>\n",
       "      <th>Date</th>\n",
       "      <th>Day</th>\n",
       "      <th>Day#</th>\n",
       "      <th>Top 10 Gross</th>\n",
       "      <th>#1 Movie</th>\n",
       "      <th>Gross</th>\n",
       "    </tr>\n",
       "  </thead>\n",
       "  <tbody>\n",
       "    <tr>\n",
       "      <th>0</th>\n",
       "      <td> 1</td>\n",
       "      <td> Jan. 30</td>\n",
       "      <td> Fri</td>\n",
       "      <td> 30</td>\n",
       "      <td> 26168351</td>\n",
       "      <td>            土豆之歌</td>\n",
       "      <td>     100</td>\n",
       "    </tr>\n",
       "    <tr>\n",
       "      <th>1</th>\n",
       "      <td> 2</td>\n",
       "      <td> Jan. 31</td>\n",
       "      <td> Sat</td>\n",
       "      <td> 31</td>\n",
       "      <td> 41633588</td>\n",
       "      <td> American Sniper</td>\n",
       "      <td>     200</td>\n",
       "    </tr>\n",
       "    <tr>\n",
       "      <th>2</th>\n",
       "      <td> 3</td>\n",
       "      <td>  Feb. 1</td>\n",
       "      <td> Sun</td>\n",
       "      <td> 32</td>\n",
       "      <td> 12515579</td>\n",
       "      <td> American Sniper</td>\n",
       "      <td> 4244376</td>\n",
       "    </tr>\n",
       "  </tbody>\n",
       "</table>\n",
       "<p>3 rows × 7 columns</p>\n",
       "</div>"
      ],
      "text/plain": [
       "   Row     Date  Day  Day#  Top 10 Gross         #1 Movie    Gross\n",
       "0    1  Jan. 30  Fri    30      26168351             土豆之歌      100\n",
       "1    2  Jan. 31  Sat    31      41633588  American Sniper      200\n",
       "2    3   Feb. 1  Sun    32      12515579  American Sniper  4244376\n",
       "\n",
       "[3 rows x 7 columns]"
      ]
     },
     "execution_count": 14,
     "metadata": {},
     "output_type": "execute_result"
    }
   ],
   "source": [
    "# 多单个单元格赋值\n",
    "df.loc[df.index[0:2], u'Gross'] = [100, 200]\n",
    "df.head(3)"
   ]
  },
  {
   "cell_type": "markdown",
   "metadata": {},
   "source": [
    "## 操作列"
   ]
  },
  {
   "cell_type": "markdown",
   "metadata": {},
   "source": [
    "### 改变列头"
   ]
  },
  {
   "cell_type": "markdown",
   "metadata": {},
   "source": [
    "#### 使用 columns 属性"
   ]
  },
  {
   "cell_type": "code",
   "execution_count": 15,
   "metadata": {
    "collapsed": true
   },
   "outputs": [
    {
     "data": {
      "text/html": [
       "<div style=\"max-height:1000px;max-width:1500px;overflow:auto;\">\n",
       "<table border=\"1\" class=\"dataframe\">\n",
       "  <thead>\n",
       "    <tr style=\"text-align: right;\">\n",
       "      <th></th>\n",
       "      <th>Row</th>\n",
       "      <th>Date</th>\n",
       "      <th>WeekDay</th>\n",
       "      <th>Day</th>\n",
       "      <th>Top10Gross</th>\n",
       "      <th>No1Moive</th>\n",
       "      <th>Gross</th>\n",
       "    </tr>\n",
       "  </thead>\n",
       "  <tbody>\n",
       "    <tr>\n",
       "      <th>0</th>\n",
       "      <td> 1</td>\n",
       "      <td> Jan. 30</td>\n",
       "      <td> Fri</td>\n",
       "      <td> 30</td>\n",
       "      <td> 26168351</td>\n",
       "      <td> American Sniper</td>\n",
       "      <td>  9905616</td>\n",
       "    </tr>\n",
       "    <tr>\n",
       "      <th>1</th>\n",
       "      <td> 2</td>\n",
       "      <td> Jan. 31</td>\n",
       "      <td> Sat</td>\n",
       "      <td> 31</td>\n",
       "      <td> 41633588</td>\n",
       "      <td> American Sniper</td>\n",
       "      <td> 16510536</td>\n",
       "    </tr>\n",
       "    <tr>\n",
       "      <th>2</th>\n",
       "      <td> 3</td>\n",
       "      <td>  Feb. 1</td>\n",
       "      <td> Sun</td>\n",
       "      <td> 32</td>\n",
       "      <td> 12515579</td>\n",
       "      <td> American Sniper</td>\n",
       "      <td>  4244376</td>\n",
       "    </tr>\n",
       "    <tr>\n",
       "      <th>3</th>\n",
       "      <td> 4</td>\n",
       "      <td>  Feb. 2</td>\n",
       "      <td> Mon</td>\n",
       "      <td> 33</td>\n",
       "      <td>  6475068</td>\n",
       "      <td> American Sniper</td>\n",
       "      <td>  2645109</td>\n",
       "    </tr>\n",
       "    <tr>\n",
       "      <th>4</th>\n",
       "      <td> 5</td>\n",
       "      <td>  Feb. 3</td>\n",
       "      <td> Tue</td>\n",
       "      <td> 34</td>\n",
       "      <td>  7825091</td>\n",
       "      <td> American Sniper</td>\n",
       "      <td>  2923141</td>\n",
       "    </tr>\n",
       "  </tbody>\n",
       "</table>\n",
       "<p>5 rows × 7 columns</p>\n",
       "</div>"
      ],
      "text/plain": [
       "   Row     Date WeekDay  Day  Top10Gross         No1Moive     Gross\n",
       "0    1  Jan. 30     Fri   30    26168351  American Sniper   9905616\n",
       "1    2  Jan. 31     Sat   31    41633588  American Sniper  16510536\n",
       "2    3   Feb. 1     Sun   32    12515579  American Sniper   4244376\n",
       "3    4   Feb. 2     Mon   33     6475068  American Sniper   2645109\n",
       "4    5   Feb. 3     Tue   34     7825091  American Sniper   2923141\n",
       "\n",
       "[5 rows x 7 columns]"
      ]
     },
     "execution_count": 15,
     "metadata": {},
     "output_type": "execute_result"
    }
   ],
   "source": [
    "df = df_movies.copy()\n",
    "#用一个列表来显式地指定，列表长度必须与列数一致\n",
    "# 示例 1\n",
    "df.columns = [u'Row', u'Date', u'WeekDay', u'Day', u'Top10Gross', u'No1Moive', u'Gross']\n",
    "df.head()"
   ]
  },
  {
   "cell_type": "code",
   "execution_count": 16,
   "metadata": {
    "collapsed": true
   },
   "outputs": [
    {
     "data": {
      "text/html": [
       "<div style=\"max-height:1000px;max-width:1500px;overflow:auto;\">\n",
       "<table border=\"1\" class=\"dataframe\">\n",
       "  <thead>\n",
       "    <tr style=\"text-align: right;\">\n",
       "      <th></th>\n",
       "      <th>row</th>\n",
       "      <th>date</th>\n",
       "      <th>weekday</th>\n",
       "      <th>day</th>\n",
       "      <th>top10gross</th>\n",
       "      <th>no1moive</th>\n",
       "      <th>gross</th>\n",
       "    </tr>\n",
       "  </thead>\n",
       "  <tbody>\n",
       "    <tr>\n",
       "      <th>0</th>\n",
       "      <td> 1</td>\n",
       "      <td> Jan. 30</td>\n",
       "      <td> Fri</td>\n",
       "      <td> 30</td>\n",
       "      <td> 26168351</td>\n",
       "      <td> American Sniper</td>\n",
       "      <td>  9905616</td>\n",
       "    </tr>\n",
       "    <tr>\n",
       "      <th>1</th>\n",
       "      <td> 2</td>\n",
       "      <td> Jan. 31</td>\n",
       "      <td> Sat</td>\n",
       "      <td> 31</td>\n",
       "      <td> 41633588</td>\n",
       "      <td> American Sniper</td>\n",
       "      <td> 16510536</td>\n",
       "    </tr>\n",
       "    <tr>\n",
       "      <th>2</th>\n",
       "      <td> 3</td>\n",
       "      <td>  Feb. 1</td>\n",
       "      <td> Sun</td>\n",
       "      <td> 32</td>\n",
       "      <td> 12515579</td>\n",
       "      <td> American Sniper</td>\n",
       "      <td>  4244376</td>\n",
       "    </tr>\n",
       "    <tr>\n",
       "      <th>3</th>\n",
       "      <td> 4</td>\n",
       "      <td>  Feb. 2</td>\n",
       "      <td> Mon</td>\n",
       "      <td> 33</td>\n",
       "      <td>  6475068</td>\n",
       "      <td> American Sniper</td>\n",
       "      <td>  2645109</td>\n",
       "    </tr>\n",
       "    <tr>\n",
       "      <th>4</th>\n",
       "      <td> 5</td>\n",
       "      <td>  Feb. 3</td>\n",
       "      <td> Tue</td>\n",
       "      <td> 34</td>\n",
       "      <td>  7825091</td>\n",
       "      <td> American Sniper</td>\n",
       "      <td>  2923141</td>\n",
       "    </tr>\n",
       "  </tbody>\n",
       "</table>\n",
       "<p>5 rows × 7 columns</p>\n",
       "</div>"
      ],
      "text/plain": [
       "   row     date weekday  day  top10gross         no1moive     gross\n",
       "0    1  Jan. 30     Fri   30    26168351  American Sniper   9905616\n",
       "1    2  Jan. 31     Sat   31    41633588  American Sniper  16510536\n",
       "2    3   Feb. 1     Sun   32    12515579  American Sniper   4244376\n",
       "3    4   Feb. 2     Mon   33     6475068  American Sniper   2645109\n",
       "4    5   Feb. 3     Tue   34     7825091  American Sniper   2923141\n",
       "\n",
       "[5 rows x 7 columns]"
      ]
     },
     "execution_count": 16,
     "metadata": {},
     "output_type": "execute_result"
    }
   ],
   "source": [
    "# 示例 2 ：大写转小写\n",
    "df.columns = [c.lower() for c in df.columns]\n",
    "df.head()"
   ]
  },
  {
   "cell_type": "markdown",
   "metadata": {},
   "source": [
    "#### 使用 rename 方法"
   ]
  },
  {
   "cell_type": "code",
   "execution_count": 17,
   "metadata": {
    "collapsed": true
   },
   "outputs": [
    {
     "data": {
      "text/html": [
       "<div style=\"max-height:1000px;max-width:1500px;overflow:auto;\">\n",
       "<table border=\"1\" class=\"dataframe\">\n",
       "  <thead>\n",
       "    <tr style=\"text-align: right;\">\n",
       "      <th></th>\n",
       "      <th>ROW</th>\n",
       "      <th>DATE</th>\n",
       "      <th>WEEKDAY</th>\n",
       "      <th>DAY</th>\n",
       "      <th>TOP10GROSS</th>\n",
       "      <th>NO1MOIVE</th>\n",
       "      <th>GROSS</th>\n",
       "    </tr>\n",
       "  </thead>\n",
       "  <tbody>\n",
       "    <tr>\n",
       "      <th>26</th>\n",
       "      <td> 27</td>\n",
       "      <td> Feb. 25</td>\n",
       "      <td> Wed</td>\n",
       "      <td> 56</td>\n",
       "      <td>  6862942</td>\n",
       "      <td> Fifty Shades of Grey</td>\n",
       "      <td> 1772230</td>\n",
       "    </tr>\n",
       "    <tr>\n",
       "      <th>27</th>\n",
       "      <td> 28</td>\n",
       "      <td> Feb. 26</td>\n",
       "      <td> Thu</td>\n",
       "      <td> 57</td>\n",
       "      <td>  7161773</td>\n",
       "      <td> Fifty Shades of Grey</td>\n",
       "      <td> 1790520</td>\n",
       "    </tr>\n",
       "    <tr>\n",
       "      <th>28</th>\n",
       "      <td> 29</td>\n",
       "      <td> Feb. 27</td>\n",
       "      <td> Fri</td>\n",
       "      <td> 58</td>\n",
       "      <td> 26457000</td>\n",
       "      <td>         Focus (2015)</td>\n",
       "      <td> 6465000</td>\n",
       "    </tr>\n",
       "  </tbody>\n",
       "</table>\n",
       "<p>3 rows × 7 columns</p>\n",
       "</div>"
      ],
      "text/plain": [
       "    ROW     DATE WEEKDAY  DAY  TOP10GROSS              NO1MOIVE    GROSS\n",
       "26   27  Feb. 25     Wed   56     6862942  Fifty Shades of Grey  1772230\n",
       "27   28  Feb. 26     Thu   57     7161773  Fifty Shades of Grey  1790520\n",
       "28   29  Feb. 27     Fri   58    26457000          Focus (2015)  6465000\n",
       "\n",
       "[3 rows x 7 columns]"
      ]
     },
     "execution_count": 17,
     "metadata": {},
     "output_type": "execute_result"
    }
   ],
   "source": [
    "# 示例 1 ：小写转大写\n",
    "df = df.rename(columns=lambda x: x.upper())\n",
    "df.tail(3)"
   ]
  },
  {
   "cell_type": "code",
   "execution_count": 18,
   "metadata": {
    "collapsed": true
   },
   "outputs": [
    {
     "data": {
      "text/html": [
       "<div style=\"max-height:1000px;max-width:1500px;overflow:auto;\">\n",
       "<table border=\"1\" class=\"dataframe\">\n",
       "  <thead>\n",
       "    <tr style=\"text-align: right;\">\n",
       "      <th></th>\n",
       "      <th>ROW</th>\n",
       "      <th>日期</th>\n",
       "      <th>WEEKDAY</th>\n",
       "      <th>DAY</th>\n",
       "      <th>TOP10GROSS</th>\n",
       "      <th>NO1MOIVE</th>\n",
       "      <th>票房</th>\n",
       "    </tr>\n",
       "  </thead>\n",
       "  <tbody>\n",
       "    <tr>\n",
       "      <th>0</th>\n",
       "      <td> 1</td>\n",
       "      <td> Jan. 30</td>\n",
       "      <td> Fri</td>\n",
       "      <td> 30</td>\n",
       "      <td> 26168351</td>\n",
       "      <td> American Sniper</td>\n",
       "      <td>  9905616</td>\n",
       "    </tr>\n",
       "    <tr>\n",
       "      <th>1</th>\n",
       "      <td> 2</td>\n",
       "      <td> Jan. 31</td>\n",
       "      <td> Sat</td>\n",
       "      <td> 31</td>\n",
       "      <td> 41633588</td>\n",
       "      <td> American Sniper</td>\n",
       "      <td> 16510536</td>\n",
       "    </tr>\n",
       "    <tr>\n",
       "      <th>2</th>\n",
       "      <td> 3</td>\n",
       "      <td>  Feb. 1</td>\n",
       "      <td> Sun</td>\n",
       "      <td> 32</td>\n",
       "      <td> 12515579</td>\n",
       "      <td> American Sniper</td>\n",
       "      <td>  4244376</td>\n",
       "    </tr>\n",
       "    <tr>\n",
       "      <th>3</th>\n",
       "      <td> 4</td>\n",
       "      <td>  Feb. 2</td>\n",
       "      <td> Mon</td>\n",
       "      <td> 33</td>\n",
       "      <td>  6475068</td>\n",
       "      <td> American Sniper</td>\n",
       "      <td>  2645109</td>\n",
       "    </tr>\n",
       "    <tr>\n",
       "      <th>4</th>\n",
       "      <td> 5</td>\n",
       "      <td>  Feb. 3</td>\n",
       "      <td> Tue</td>\n",
       "      <td> 34</td>\n",
       "      <td>  7825091</td>\n",
       "      <td> American Sniper</td>\n",
       "      <td>  2923141</td>\n",
       "    </tr>\n",
       "  </tbody>\n",
       "</table>\n",
       "<p>5 rows × 7 columns</p>\n",
       "</div>"
      ],
      "text/plain": [
       "   ROW       日期 WEEKDAY  DAY  TOP10GROSS         NO1MOIVE        票房\n",
       "0    1  Jan. 30     Fri   30    26168351  American Sniper   9905616\n",
       "1    2  Jan. 31     Sat   31    41633588  American Sniper  16510536\n",
       "2    3   Feb. 1     Sun   32    12515579  American Sniper   4244376\n",
       "3    4   Feb. 2     Mon   33     6475068  American Sniper   2645109\n",
       "4    5   Feb. 3     Tue   34     7825091  American Sniper   2923141\n",
       "\n",
       "[5 rows x 7 columns]"
      ]
     },
     "execution_count": 18,
     "metadata": {},
     "output_type": "execute_result"
    }
   ],
   "source": [
    "# 示例 2 ：改变特定的列头\n",
    "df = df.rename(columns={'DATE': u'日期', 'GROSS': u'票房'})\n",
    "df.head()"
   ]
  },
  {
   "cell_type": "markdown",
   "metadata": {},
   "source": [
    "### 打印列类型"
   ]
  },
  {
   "cell_type": "code",
   "execution_count": 19,
   "metadata": {
    "collapsed": true
   },
   "outputs": [
    {
     "data": {
      "text/plain": [
       "{dtype('int64'): [u'ROW', u'DAY', u'TOP10GROSS', u'\\u7968\\u623f'],\n",
       " dtype('O'): [u'\\u65e5\\u671f', u'WEEKDAY', u'NO1MOIVE']}"
      ]
     },
     "execution_count": 19,
     "metadata": {},
     "output_type": "execute_result"
    }
   ],
   "source": [
    "df.columns.to_series().groupby(df.dtypes).groups"
   ]
  },
  {
   "cell_type": "code",
   "execution_count": 20,
   "metadata": {
    "collapsed": false
   },
   "outputs": [
    {
     "name": "stdout",
     "output_type": "stream",
     "text": [
      "object :\t日期,WEEKDAY,NO1MOIVE\n",
      "int64 :\tROW,DAY,TOP10GROSS,票房\n"
     ]
    }
   ],
   "source": [
    "# 打印列类型(清晰打印中文)\n",
    "types = df.columns.to_series().groupby(df.dtypes).groups\n",
    "for key, value in types.items():\n",
    "    print key,':\\t', ','.join(value)"
   ]
  },
  {
   "cell_type": "markdown",
   "metadata": {},
   "source": [
    "### 插入列"
   ]
  },
  {
   "cell_type": "code",
   "execution_count": 21,
   "metadata": {
    "collapsed": false
   },
   "outputs": [
    {
     "data": {
      "text/html": [
       "<div style=\"max-height:1000px;max-width:1500px;overflow:auto;\">\n",
       "<table border=\"1\" class=\"dataframe\">\n",
       "  <thead>\n",
       "    <tr style=\"text-align: right;\">\n",
       "      <th></th>\n",
       "      <th>Row</th>\n",
       "      <th>Date</th>\n",
       "      <th>Day</th>\n",
       "      <th>Day#</th>\n",
       "      <th>Top 10 Gross</th>\n",
       "      <th>#1 Movie</th>\n",
       "      <th>Gross</th>\n",
       "      <th>memo</th>\n",
       "    </tr>\n",
       "  </thead>\n",
       "  <tbody>\n",
       "    <tr>\n",
       "      <th>0</th>\n",
       "      <td> 1</td>\n",
       "      <td> Jan. 30</td>\n",
       "      <td> Fri</td>\n",
       "      <td> 30</td>\n",
       "      <td> 26168351</td>\n",
       "      <td> American Sniper</td>\n",
       "      <td>  9905616</td>\n",
       "      <td> </td>\n",
       "    </tr>\n",
       "    <tr>\n",
       "      <th>1</th>\n",
       "      <td> 2</td>\n",
       "      <td> Jan. 31</td>\n",
       "      <td> Sat</td>\n",
       "      <td> 31</td>\n",
       "      <td> 41633588</td>\n",
       "      <td> American Sniper</td>\n",
       "      <td> 16510536</td>\n",
       "      <td> </td>\n",
       "    </tr>\n",
       "    <tr>\n",
       "      <th>2</th>\n",
       "      <td> 3</td>\n",
       "      <td>  Feb. 1</td>\n",
       "      <td> Sun</td>\n",
       "      <td> 32</td>\n",
       "      <td> 12515579</td>\n",
       "      <td> American Sniper</td>\n",
       "      <td>  4244376</td>\n",
       "      <td> </td>\n",
       "    </tr>\n",
       "  </tbody>\n",
       "</table>\n",
       "<p>3 rows × 8 columns</p>\n",
       "</div>"
      ],
      "text/plain": [
       "   Row     Date  Day  Day#  Top 10 Gross         #1 Movie     Gross memo\n",
       "0    1  Jan. 30  Fri    30      26168351  American Sniper   9905616     \n",
       "1    2  Jan. 31  Sat    31      41633588  American Sniper  16510536     \n",
       "2    3   Feb. 1  Sun    32      12515579  American Sniper   4244376     \n",
       "\n",
       "[3 rows x 8 columns]"
      ]
     },
     "execution_count": 21,
     "metadata": {},
     "output_type": "execute_result"
    }
   ],
   "source": [
    "df = df_movies.copy()\n",
    "# 方式一：在末尾添加\n",
    "df['memo'] = pd.Series('', index=df.index)\n",
    "df.head(3)"
   ]
  },
  {
   "cell_type": "code",
   "execution_count": 22,
   "metadata": {
    "collapsed": false
   },
   "outputs": [
    {
     "data": {
      "text/html": [
       "<div style=\"max-height:1000px;max-width:1500px;overflow:auto;\">\n",
       "<table border=\"1\" class=\"dataframe\">\n",
       "  <thead>\n",
       "    <tr style=\"text-align: right;\">\n",
       "      <th></th>\n",
       "      <th>Row</th>\n",
       "      <th>year</th>\n",
       "      <th>Date</th>\n",
       "      <th>Day</th>\n",
       "      <th>Day#</th>\n",
       "      <th>Top 10 Gross</th>\n",
       "      <th>#1 Movie</th>\n",
       "      <th>Gross</th>\n",
       "    </tr>\n",
       "  </thead>\n",
       "  <tbody>\n",
       "    <tr>\n",
       "      <th>0</th>\n",
       "      <td> 1</td>\n",
       "      <td> 2015</td>\n",
       "      <td> Jan. 30</td>\n",
       "      <td> Fri</td>\n",
       "      <td> 30</td>\n",
       "      <td> 26168351</td>\n",
       "      <td> American Sniper</td>\n",
       "      <td>  9905616</td>\n",
       "    </tr>\n",
       "    <tr>\n",
       "      <th>1</th>\n",
       "      <td> 2</td>\n",
       "      <td> 2015</td>\n",
       "      <td> Jan. 31</td>\n",
       "      <td> Sat</td>\n",
       "      <td> 31</td>\n",
       "      <td> 41633588</td>\n",
       "      <td> American Sniper</td>\n",
       "      <td> 16510536</td>\n",
       "    </tr>\n",
       "    <tr>\n",
       "      <th>2</th>\n",
       "      <td> 3</td>\n",
       "      <td> 2015</td>\n",
       "      <td>  Feb. 1</td>\n",
       "      <td> Sun</td>\n",
       "      <td> 32</td>\n",
       "      <td> 12515579</td>\n",
       "      <td> American Sniper</td>\n",
       "      <td>  4244376</td>\n",
       "    </tr>\n",
       "  </tbody>\n",
       "</table>\n",
       "<p>3 rows × 8 columns</p>\n",
       "</div>"
      ],
      "text/plain": [
       "   Row  year     Date  Day  Day#  Top 10 Gross         #1 Movie     Gross\n",
       "0    1  2015  Jan. 30  Fri    30      26168351  American Sniper   9905616\n",
       "1    2  2015  Jan. 31  Sat    31      41633588  American Sniper  16510536\n",
       "2    3  2015   Feb. 1  Sun    32      12515579  American Sniper   4244376\n",
       "\n",
       "[3 rows x 8 columns]"
      ]
     },
     "execution_count": 22,
     "metadata": {},
     "output_type": "execute_result"
    }
   ],
   "source": [
    "# 方式二：在中间插入\n",
    "df = df_movies.copy()\n",
    "df.insert(loc=1, column=u'year', value=u'2015')\n",
    "df.head(3)"
   ]
  },
  {
   "cell_type": "code",
   "execution_count": 23,
   "metadata": {
    "collapsed": false
   },
   "outputs": [
    {
     "data": {
      "text/html": [
       "<div style=\"max-height:1000px;max-width:1500px;overflow:auto;\">\n",
       "<table border=\"1\" class=\"dataframe\">\n",
       "  <thead>\n",
       "    <tr style=\"text-align: right;\">\n",
       "      <th></th>\n",
       "      <th>Row</th>\n",
       "      <th>Date</th>\n",
       "      <th>Day</th>\n",
       "      <th>Day#</th>\n",
       "      <th>Top 10 Gross</th>\n",
       "      <th>OtherGross</th>\n",
       "      <th>#1 Movie</th>\n",
       "      <th>Gross</th>\n",
       "    </tr>\n",
       "  </thead>\n",
       "  <tbody>\n",
       "    <tr>\n",
       "      <th>0</th>\n",
       "      <td> 1</td>\n",
       "      <td> Jan. 30</td>\n",
       "      <td> Fri</td>\n",
       "      <td> 30</td>\n",
       "      <td> 26168351</td>\n",
       "      <td> 16262735</td>\n",
       "      <td> American Sniper</td>\n",
       "      <td>  9905616</td>\n",
       "    </tr>\n",
       "    <tr>\n",
       "      <th>1</th>\n",
       "      <td> 2</td>\n",
       "      <td> Jan. 31</td>\n",
       "      <td> Sat</td>\n",
       "      <td> 31</td>\n",
       "      <td> 41633588</td>\n",
       "      <td> 25123052</td>\n",
       "      <td> American Sniper</td>\n",
       "      <td> 16510536</td>\n",
       "    </tr>\n",
       "    <tr>\n",
       "      <th>2</th>\n",
       "      <td> 3</td>\n",
       "      <td>  Feb. 1</td>\n",
       "      <td> Sun</td>\n",
       "      <td> 32</td>\n",
       "      <td> 12515579</td>\n",
       "      <td>  8271203</td>\n",
       "      <td> American Sniper</td>\n",
       "      <td>  4244376</td>\n",
       "    </tr>\n",
       "  </tbody>\n",
       "</table>\n",
       "<p>3 rows × 8 columns</p>\n",
       "</div>"
      ],
      "text/plain": [
       "   Row     Date  Day  Day#  Top 10 Gross  OtherGross         #1 Movie  \\\n",
       "0    1  Jan. 30  Fri    30      26168351    16262735  American Sniper   \n",
       "1    2  Jan. 31  Sat    31      41633588    25123052  American Sniper   \n",
       "2    3   Feb. 1  Sun    32      12515579     8271203  American Sniper   \n",
       "\n",
       "      Gross  \n",
       "0   9905616  \n",
       "1  16510536  \n",
       "2   4244376  \n",
       "\n",
       "[3 rows x 8 columns]"
      ]
     },
     "execution_count": 23,
     "metadata": {},
     "output_type": "execute_result"
    }
   ],
   "source": [
    "# 根据现有值生成一个新的列\n",
    "df = df_movies.copy()\n",
    "df.insert(loc = 5 , column=u'OtherGross', value=df[u'Top 10 Gross'] - df[u'Gross'])\n",
    "df.head(3)"
   ]
  },
  {
   "cell_type": "code",
   "execution_count": 24,
   "metadata": {
    "collapsed": false
   },
   "outputs": [
    {
     "data": {
      "text/html": [
       "<div style=\"max-height:1000px;max-width:1500px;overflow:auto;\">\n",
       "<table border=\"1\" class=\"dataframe\">\n",
       "  <thead>\n",
       "    <tr style=\"text-align: right;\">\n",
       "      <th></th>\n",
       "      <th>Row</th>\n",
       "      <th>Date</th>\n",
       "      <th>Day</th>\n",
       "      <th>Day#</th>\n",
       "      <th>Top 10 Gross</th>\n",
       "      <th>#1 Movie</th>\n",
       "      <th>Gross</th>\n",
       "      <th>month</th>\n",
       "      <th>day</th>\n",
       "    </tr>\n",
       "  </thead>\n",
       "  <tbody>\n",
       "    <tr>\n",
       "      <th>0</th>\n",
       "      <td> 1</td>\n",
       "      <td> Jan. 30</td>\n",
       "      <td> Fri</td>\n",
       "      <td> 30</td>\n",
       "      <td> 26168351</td>\n",
       "      <td> American Sniper</td>\n",
       "      <td>  9905616</td>\n",
       "      <td> Jan</td>\n",
       "      <td>  30</td>\n",
       "    </tr>\n",
       "    <tr>\n",
       "      <th>1</th>\n",
       "      <td> 2</td>\n",
       "      <td> Jan. 31</td>\n",
       "      <td> Sat</td>\n",
       "      <td> 31</td>\n",
       "      <td> 41633588</td>\n",
       "      <td> American Sniper</td>\n",
       "      <td> 16510536</td>\n",
       "      <td> Jan</td>\n",
       "      <td>  31</td>\n",
       "    </tr>\n",
       "    <tr>\n",
       "      <th>2</th>\n",
       "      <td> 3</td>\n",
       "      <td>  Feb. 1</td>\n",
       "      <td> Sun</td>\n",
       "      <td> 32</td>\n",
       "      <td> 12515579</td>\n",
       "      <td> American Sniper</td>\n",
       "      <td>  4244376</td>\n",
       "      <td> Feb</td>\n",
       "      <td>   1</td>\n",
       "    </tr>\n",
       "    <tr>\n",
       "      <th>3</th>\n",
       "      <td> 4</td>\n",
       "      <td>  Feb. 2</td>\n",
       "      <td> Mon</td>\n",
       "      <td> 33</td>\n",
       "      <td>  6475068</td>\n",
       "      <td> American Sniper</td>\n",
       "      <td>  2645109</td>\n",
       "      <td> Feb</td>\n",
       "      <td>   2</td>\n",
       "    </tr>\n",
       "    <tr>\n",
       "      <th>4</th>\n",
       "      <td> 5</td>\n",
       "      <td>  Feb. 3</td>\n",
       "      <td> Tue</td>\n",
       "      <td> 34</td>\n",
       "      <td>  7825091</td>\n",
       "      <td> American Sniper</td>\n",
       "      <td>  2923141</td>\n",
       "      <td> Feb</td>\n",
       "      <td>   3</td>\n",
       "    </tr>\n",
       "  </tbody>\n",
       "</table>\n",
       "<p>5 rows × 9 columns</p>\n",
       "</div>"
      ],
      "text/plain": [
       "   Row     Date  Day  Day#  Top 10 Gross         #1 Movie     Gross month  day\n",
       "0    1  Jan. 30  Fri    30      26168351  American Sniper   9905616   Jan   30\n",
       "1    2  Jan. 31  Sat    31      41633588  American Sniper  16510536   Jan   31\n",
       "2    3   Feb. 1  Sun    32      12515579  American Sniper   4244376   Feb    1\n",
       "3    4   Feb. 2  Mon    33       6475068  American Sniper   2645109   Feb    2\n",
       "4    5   Feb. 3  Tue    34       7825091  American Sniper   2923141   Feb    3\n",
       "\n",
       "[5 rows x 9 columns]"
      ]
     },
     "execution_count": 24,
     "metadata": {},
     "output_type": "execute_result"
    }
   ],
   "source": [
    "# 根据现有值生成多个新的列\n",
    "# 方法一\n",
    "df = df_movies.copy()\n",
    "def process_date_col(text):\n",
    "    #根据日期生成月份和日两个新的列\n",
    "    if pd.isnull(text):\n",
    "        month = day = np.nan\n",
    "    else:\n",
    "        month, day = text.split('.')\n",
    "    return pd.Series([month, day])\n",
    "\n",
    "df[[u'month', u'day']] = df.Date.apply(process_date_col)\n",
    "df.head()"
   ]
  },
  {
   "cell_type": "code",
   "execution_count": 25,
   "metadata": {
    "collapsed": false
   },
   "outputs": [
    {
     "data": {
      "text/html": [
       "<div style=\"max-height:1000px;max-width:1500px;overflow:auto;\">\n",
       "<table border=\"1\" class=\"dataframe\">\n",
       "  <thead>\n",
       "    <tr style=\"text-align: right;\">\n",
       "      <th></th>\n",
       "      <th>Row</th>\n",
       "      <th>Date</th>\n",
       "      <th>Day</th>\n",
       "      <th>Day#</th>\n",
       "      <th>Top 10 Gross</th>\n",
       "      <th>#1 Movie</th>\n",
       "      <th>Gross</th>\n",
       "      <th>month</th>\n",
       "      <th>day</th>\n",
       "    </tr>\n",
       "  </thead>\n",
       "  <tbody>\n",
       "    <tr>\n",
       "      <th>0</th>\n",
       "      <td> 1</td>\n",
       "      <td> Jan. 30</td>\n",
       "      <td> Fri</td>\n",
       "      <td> 30</td>\n",
       "      <td> 26168351</td>\n",
       "      <td> American Sniper</td>\n",
       "      <td>  9905616</td>\n",
       "      <td> Jan</td>\n",
       "      <td>  30</td>\n",
       "    </tr>\n",
       "    <tr>\n",
       "      <th>1</th>\n",
       "      <td> 2</td>\n",
       "      <td> Jan. 31</td>\n",
       "      <td> Sat</td>\n",
       "      <td> 31</td>\n",
       "      <td> 41633588</td>\n",
       "      <td> American Sniper</td>\n",
       "      <td> 16510536</td>\n",
       "      <td> Jan</td>\n",
       "      <td>  31</td>\n",
       "    </tr>\n",
       "    <tr>\n",
       "      <th>2</th>\n",
       "      <td> 3</td>\n",
       "      <td>  Feb. 1</td>\n",
       "      <td> Sun</td>\n",
       "      <td> 32</td>\n",
       "      <td> 12515579</td>\n",
       "      <td> American Sniper</td>\n",
       "      <td>  4244376</td>\n",
       "      <td> Feb</td>\n",
       "      <td>   1</td>\n",
       "    </tr>\n",
       "    <tr>\n",
       "      <th>3</th>\n",
       "      <td> 4</td>\n",
       "      <td>  Feb. 2</td>\n",
       "      <td> Mon</td>\n",
       "      <td> 33</td>\n",
       "      <td>  6475068</td>\n",
       "      <td> American Sniper</td>\n",
       "      <td>  2645109</td>\n",
       "      <td> Feb</td>\n",
       "      <td>   2</td>\n",
       "    </tr>\n",
       "    <tr>\n",
       "      <th>4</th>\n",
       "      <td> 5</td>\n",
       "      <td>  Feb. 3</td>\n",
       "      <td> Tue</td>\n",
       "      <td> 34</td>\n",
       "      <td>  7825091</td>\n",
       "      <td> American Sniper</td>\n",
       "      <td>  2923141</td>\n",
       "      <td> Feb</td>\n",
       "      <td>   3</td>\n",
       "    </tr>\n",
       "  </tbody>\n",
       "</table>\n",
       "<p>5 rows × 9 columns</p>\n",
       "</div>"
      ],
      "text/plain": [
       "   Row     Date  Day  Day#  Top 10 Gross         #1 Movie     Gross month  day\n",
       "0    1  Jan. 30  Fri    30      26168351  American Sniper   9905616   Jan   30\n",
       "1    2  Jan. 31  Sat    31      41633588  American Sniper  16510536   Jan   31\n",
       "2    3   Feb. 1  Sun    32      12515579  American Sniper   4244376   Feb    1\n",
       "3    4   Feb. 2  Mon    33       6475068  American Sniper   2645109   Feb    2\n",
       "4    5   Feb. 3  Tue    34       7825091  American Sniper   2923141   Feb    3\n",
       "\n",
       "[5 rows x 9 columns]"
      ]
     },
     "execution_count": 25,
     "metadata": {},
     "output_type": "execute_result"
    }
   ],
   "source": [
    "# 方法二(结果同上，但是没有方法一好)\n",
    "df = df_movies.copy()\n",
    "for idx, row in df.iterrows():\n",
    "    df.ix[idx, u'month'], df.ix[idx, 'day'] = process_date_col(row[u'Date'])\n",
    "df.head()"
   ]
  },
  {
   "cell_type": "markdown",
   "metadata": {},
   "source": [
    "### 改变列值"
   ]
  },
  {
   "cell_type": "code",
   "execution_count": 26,
   "metadata": {
    "collapsed": false
   },
   "outputs": [
    {
     "data": {
      "text/html": [
       "<div style=\"max-height:1000px;max-width:1500px;overflow:auto;\">\n",
       "<table border=\"1\" class=\"dataframe\">\n",
       "  <thead>\n",
       "    <tr style=\"text-align: right;\">\n",
       "      <th></th>\n",
       "      <th>Row</th>\n",
       "      <th>Date</th>\n",
       "      <th>Day</th>\n",
       "      <th>Day#</th>\n",
       "      <th>Top 10 Gross</th>\n",
       "      <th>#1 Movie</th>\n",
       "      <th>Gross</th>\n",
       "    </tr>\n",
       "  </thead>\n",
       "  <tbody>\n",
       "    <tr>\n",
       "      <th>0</th>\n",
       "      <td> 1</td>\n",
       "      <td> Jan. 30</td>\n",
       "      <td> Fri</td>\n",
       "      <td> 30</td>\n",
       "      <td> 26168351</td>\n",
       "      <td> repinS naciremA</td>\n",
       "      <td>  9905616</td>\n",
       "    </tr>\n",
       "    <tr>\n",
       "      <th>1</th>\n",
       "      <td> 2</td>\n",
       "      <td> Jan. 31</td>\n",
       "      <td> Sat</td>\n",
       "      <td> 31</td>\n",
       "      <td> 41633588</td>\n",
       "      <td> repinS naciremA</td>\n",
       "      <td> 16510536</td>\n",
       "    </tr>\n",
       "    <tr>\n",
       "      <th>2</th>\n",
       "      <td> 3</td>\n",
       "      <td>  Feb. 1</td>\n",
       "      <td> Sun</td>\n",
       "      <td> 32</td>\n",
       "      <td> 12515579</td>\n",
       "      <td> repinS naciremA</td>\n",
       "      <td>  4244376</td>\n",
       "    </tr>\n",
       "  </tbody>\n",
       "</table>\n",
       "<p>3 rows × 7 columns</p>\n",
       "</div>"
      ],
      "text/plain": [
       "   Row     Date  Day  Day#  Top 10 Gross         #1 Movie     Gross\n",
       "0    1  Jan. 30  Fri    30      26168351  repinS naciremA   9905616\n",
       "1    2  Jan. 31  Sat    31      41633588  repinS naciremA  16510536\n",
       "2    3   Feb. 1  Sun    32      12515579  repinS naciremA   4244376\n",
       "\n",
       "[3 rows x 7 columns]"
      ]
     },
     "execution_count": 26,
     "metadata": {},
     "output_type": "execute_result"
    }
   ],
   "source": [
    "df = df_movies.copy()\n",
    "#根据一列的值改变另一列\n",
    "df[u'#1 Movie'] = df[u'#1 Movie'].apply(lambda x: x[::-1])\n",
    "df.head(3)"
   ]
  },
  {
   "cell_type": "code",
   "execution_count": 27,
   "metadata": {
    "collapsed": false
   },
   "outputs": [
    {
     "data": {
      "text/html": [
       "<div style=\"max-height:1000px;max-width:1500px;overflow:auto;\">\n",
       "<table border=\"1\" class=\"dataframe\">\n",
       "  <thead>\n",
       "    <tr style=\"text-align: right;\">\n",
       "      <th></th>\n",
       "      <th>Row</th>\n",
       "      <th>Date</th>\n",
       "      <th>Day</th>\n",
       "      <th>Day#</th>\n",
       "      <th>Top 10 Gross</th>\n",
       "      <th>#1 Movie</th>\n",
       "      <th>Gross</th>\n",
       "    </tr>\n",
       "  </thead>\n",
       "  <tbody>\n",
       "    <tr>\n",
       "      <th>0</th>\n",
       "      <td> 1</td>\n",
       "      <td> Jan. 30</td>\n",
       "      <td> Fri</td>\n",
       "      <td> 30</td>\n",
       "      <td> 2616</td>\n",
       "      <td> repinS naciremA</td>\n",
       "      <td>  990</td>\n",
       "    </tr>\n",
       "    <tr>\n",
       "      <th>1</th>\n",
       "      <td> 2</td>\n",
       "      <td> Jan. 31</td>\n",
       "      <td> Sat</td>\n",
       "      <td> 31</td>\n",
       "      <td> 4163</td>\n",
       "      <td> repinS naciremA</td>\n",
       "      <td> 1651</td>\n",
       "    </tr>\n",
       "    <tr>\n",
       "      <th>2</th>\n",
       "      <td> 3</td>\n",
       "      <td>  Feb. 1</td>\n",
       "      <td> Sun</td>\n",
       "      <td> 32</td>\n",
       "      <td> 1251</td>\n",
       "      <td> repinS naciremA</td>\n",
       "      <td>  424</td>\n",
       "    </tr>\n",
       "  </tbody>\n",
       "</table>\n",
       "<p>3 rows × 7 columns</p>\n",
       "</div>"
      ],
      "text/plain": [
       "   Row     Date  Day  Day#  Top 10 Gross         #1 Movie  Gross\n",
       "0    1  Jan. 30  Fri    30          2616  repinS naciremA    990\n",
       "1    2  Jan. 31  Sat    31          4163  repinS naciremA   1651\n",
       "2    3   Feb. 1  Sun    32          1251  repinS naciremA    424\n",
       "\n",
       "[3 rows x 7 columns]"
      ]
     },
     "execution_count": 27,
     "metadata": {},
     "output_type": "execute_result"
    }
   ],
   "source": [
    "# 同时改变多个列的值\n",
    "cols = [u'Gross', u'Top 10 Gross']\n",
    "df[cols] = df[cols].applymap(lambda x: x/10000)\n",
    "df.head(3)"
   ]
  },
  {
   "cell_type": "markdown",
   "metadata": {},
   "source": [
    "## 操作行"
   ]
  },
  {
   "cell_type": "code",
   "execution_count": 28,
   "metadata": {
    "collapsed": false
   },
   "outputs": [
    {
     "data": {
      "text/html": [
       "<div style=\"max-height:1000px;max-width:1500px;overflow:auto;\">\n",
       "<table border=\"1\" class=\"dataframe\">\n",
       "  <thead>\n",
       "    <tr style=\"text-align: right;\">\n",
       "      <th></th>\n",
       "      <th>Row</th>\n",
       "      <th>Date</th>\n",
       "      <th>Day</th>\n",
       "      <th>Day#</th>\n",
       "      <th>Top 10 Gross</th>\n",
       "      <th>#1 Movie</th>\n",
       "      <th>Gross</th>\n",
       "    </tr>\n",
       "  </thead>\n",
       "  <tbody>\n",
       "    <tr>\n",
       "      <th>27</th>\n",
       "      <td> 28</td>\n",
       "      <td> Feb. 26</td>\n",
       "      <td> Thu</td>\n",
       "      <td> 57</td>\n",
       "      <td>  7161773</td>\n",
       "      <td> Fifty Shades of Grey</td>\n",
       "      <td> 1790520</td>\n",
       "    </tr>\n",
       "    <tr>\n",
       "      <th>28</th>\n",
       "      <td> 29</td>\n",
       "      <td> Feb. 27</td>\n",
       "      <td> Fri</td>\n",
       "      <td> 58</td>\n",
       "      <td> 26457000</td>\n",
       "      <td>         Focus (2015)</td>\n",
       "      <td> 6465000</td>\n",
       "    </tr>\n",
       "    <tr>\n",
       "      <th>29</th>\n",
       "      <td>NaN</td>\n",
       "      <td>     NaN</td>\n",
       "      <td> NaN</td>\n",
       "      <td>NaN</td>\n",
       "      <td>      NaN</td>\n",
       "      <td>                  NaN</td>\n",
       "      <td>     NaN</td>\n",
       "    </tr>\n",
       "  </tbody>\n",
       "</table>\n",
       "<p>3 rows × 7 columns</p>\n",
       "</div>"
      ],
      "text/plain": [
       "    Row     Date  Day  Day#  Top 10 Gross              #1 Movie    Gross\n",
       "27   28  Feb. 26  Thu    57       7161773  Fifty Shades of Grey  1790520\n",
       "28   29  Feb. 27  Fri    58      26457000          Focus (2015)  6465000\n",
       "29  NaN      NaN  NaN   NaN           NaN                   NaN      NaN\n",
       "\n",
       "[3 rows x 7 columns]"
      ]
     },
     "execution_count": 28,
     "metadata": {},
     "output_type": "execute_result"
    }
   ],
   "source": [
    "df = df_movies.copy()\n",
    "# 添加一个空行\n",
    "df = df.append(pd.Series(\n",
    "                [np.nan]*len(df.columns), # Fill cells with NaNs\n",
    "                index=df.columns),\n",
    "                ignore_index=True)\n",
    "df.tail(3)"
   ]
  },
  {
   "cell_type": "markdown",
   "metadata": {},
   "source": [
    "## 空值处理（NaN）"
   ]
  },
  {
   "cell_type": "code",
   "execution_count": 29,
   "metadata": {
    "collapsed": false
   },
   "outputs": [
    {
     "name": "stdout",
     "output_type": "stream",
     "text": [
      "一共有 1 行出现空值\n"
     ]
    },
    {
     "data": {
      "text/html": [
       "<div style=\"max-height:1000px;max-width:1500px;overflow:auto;\">\n",
       "<table border=\"1\" class=\"dataframe\">\n",
       "  <thead>\n",
       "    <tr style=\"text-align: right;\">\n",
       "      <th></th>\n",
       "      <th>Row</th>\n",
       "      <th>Date</th>\n",
       "      <th>Day</th>\n",
       "      <th>Day#</th>\n",
       "      <th>Top 10 Gross</th>\n",
       "      <th>#1 Movie</th>\n",
       "      <th>Gross</th>\n",
       "    </tr>\n",
       "  </thead>\n",
       "  <tbody>\n",
       "    <tr>\n",
       "      <th>25</th>\n",
       "      <td> 26</td>\n",
       "      <td> Feb. 24</td>\n",
       "      <td> Tue</td>\n",
       "      <td> 55</td>\n",
       "      <td>    9424126</td>\n",
       "      <td> Fifty Shades of Grey</td>\n",
       "      <td> 2265910</td>\n",
       "    </tr>\n",
       "    <tr>\n",
       "      <th>26</th>\n",
       "      <td> 27</td>\n",
       "      <td> Feb. 25</td>\n",
       "      <td> Wed</td>\n",
       "      <td> 56</td>\n",
       "      <td>    6862942</td>\n",
       "      <td> Fifty Shades of Grey</td>\n",
       "      <td> 1772230</td>\n",
       "    </tr>\n",
       "    <tr>\n",
       "      <th>27</th>\n",
       "      <td> 28</td>\n",
       "      <td> Feb. 26</td>\n",
       "      <td> Thu</td>\n",
       "      <td> 57</td>\n",
       "      <td>    7161773</td>\n",
       "      <td> Fifty Shades of Grey</td>\n",
       "      <td> 1790520</td>\n",
       "    </tr>\n",
       "    <tr>\n",
       "      <th>28</th>\n",
       "      <td> 29</td>\n",
       "      <td> Feb. 27</td>\n",
       "      <td> Fri</td>\n",
       "      <td> 58</td>\n",
       "      <td> 2.6457e+07</td>\n",
       "      <td>         Focus (2015)</td>\n",
       "      <td> 6465000</td>\n",
       "    </tr>\n",
       "    <tr>\n",
       "      <th>29</th>\n",
       "      <td>  无</td>\n",
       "      <td>       无</td>\n",
       "      <td>   无</td>\n",
       "      <td>  无</td>\n",
       "      <td>          无</td>\n",
       "      <td>                    无</td>\n",
       "      <td>       无</td>\n",
       "    </tr>\n",
       "  </tbody>\n",
       "</table>\n",
       "<p>5 rows × 7 columns</p>\n",
       "</div>"
      ],
      "text/plain": [
       "   Row     Date  Day Day# Top 10 Gross              #1 Movie    Gross\n",
       "25  26  Feb. 24  Tue   55      9424126  Fifty Shades of Grey  2265910\n",
       "26  27  Feb. 25  Wed   56      6862942  Fifty Shades of Grey  1772230\n",
       "27  28  Feb. 26  Thu   57      7161773  Fifty Shades of Grey  1790520\n",
       "28  29  Feb. 27  Fri   58   2.6457e+07          Focus (2015)  6465000\n",
       "29   无        无    无    无            无                     无        无\n",
       "\n",
       "[5 rows x 7 columns]"
      ]
     },
     "execution_count": 29,
     "metadata": {},
     "output_type": "execute_result"
    }
   ],
   "source": [
    "# 计数有空值的行\n",
    "nans = df.shape[0] - df.dropna().shape[0]\n",
    "print(u'一共有 %d 行出现空值' % nans)\n",
    "\n",
    "# 填充空值为`无`\n",
    "df.fillna(value=u'无', inplace=True)\n",
    "df.tail()"
   ]
  },
  {
   "cell_type": "markdown",
   "metadata": {},
   "source": [
    "## 排序"
   ]
  },
  {
   "cell_type": "code",
   "execution_count": 30,
   "metadata": {
    "collapsed": false
   },
   "outputs": [
    {
     "data": {
      "text/html": [
       "<div style=\"max-height:1000px;max-width:1500px;overflow:auto;\">\n",
       "<table border=\"1\" class=\"dataframe\">\n",
       "  <thead>\n",
       "    <tr style=\"text-align: right;\">\n",
       "      <th></th>\n",
       "      <th>Row</th>\n",
       "      <th>Date</th>\n",
       "      <th>Day</th>\n",
       "      <th>Day#</th>\n",
       "      <th>Top 10 Gross</th>\n",
       "      <th>#1 Movie</th>\n",
       "      <th>Gross</th>\n",
       "    </tr>\n",
       "  </thead>\n",
       "  <tbody>\n",
       "    <tr>\n",
       "      <th>12</th>\n",
       "      <td> 13</td>\n",
       "      <td> Feb. 11</td>\n",
       "      <td> Wed</td>\n",
       "      <td> 42</td>\n",
       "      <td> 6138013</td>\n",
       "      <td>      American Sniper</td>\n",
       "      <td> 1468160</td>\n",
       "    </tr>\n",
       "    <tr>\n",
       "      <th>13</th>\n",
       "      <td> 14</td>\n",
       "      <td> Feb. 12</td>\n",
       "      <td> Thu</td>\n",
       "      <td> 43</td>\n",
       "      <td> 5969515</td>\n",
       "      <td>            SpongeBob</td>\n",
       "      <td> 1527552</td>\n",
       "    </tr>\n",
       "    <tr>\n",
       "      <th>26</th>\n",
       "      <td> 27</td>\n",
       "      <td> Feb. 25</td>\n",
       "      <td> Wed</td>\n",
       "      <td> 56</td>\n",
       "      <td> 6862942</td>\n",
       "      <td> Fifty Shades of Grey</td>\n",
       "      <td> 1772230</td>\n",
       "    </tr>\n",
       "    <tr>\n",
       "      <th>27</th>\n",
       "      <td> 28</td>\n",
       "      <td> Feb. 26</td>\n",
       "      <td> Thu</td>\n",
       "      <td> 57</td>\n",
       "      <td> 7161773</td>\n",
       "      <td> Fifty Shades of Grey</td>\n",
       "      <td> 1790520</td>\n",
       "    </tr>\n",
       "    <tr>\n",
       "      <th>24</th>\n",
       "      <td> 25</td>\n",
       "      <td> Feb. 23</td>\n",
       "      <td> Mon</td>\n",
       "      <td> 54</td>\n",
       "      <td> 7385671</td>\n",
       "      <td> Fifty Shades of Grey</td>\n",
       "      <td> 1846390</td>\n",
       "    </tr>\n",
       "  </tbody>\n",
       "</table>\n",
       "<p>5 rows × 7 columns</p>\n",
       "</div>"
      ],
      "text/plain": [
       "    Row     Date  Day  Day#  Top 10 Gross              #1 Movie    Gross\n",
       "12   13  Feb. 11  Wed    42       6138013       American Sniper  1468160\n",
       "13   14  Feb. 12  Thu    43       5969515             SpongeBob  1527552\n",
       "26   27  Feb. 25  Wed    56       6862942  Fifty Shades of Grey  1772230\n",
       "27   28  Feb. 26  Thu    57       7161773  Fifty Shades of Grey  1790520\n",
       "24   25  Feb. 23  Mon    54       7385671  Fifty Shades of Grey  1846390\n",
       "\n",
       "[5 rows x 7 columns]"
      ]
     },
     "execution_count": 30,
     "metadata": {},
     "output_type": "execute_result"
    }
   ],
   "source": [
    "df = df_movies.copy()\n",
    "# 添加一个空行\n",
    "df = df.append(pd.Series(\n",
    "                [np.nan]*len(df.columns), # Fill cells with NaNs\n",
    "                index=df.columns),\n",
    "                ignore_index=True)\n",
    "# 根据某一列排序（由低到高）\n",
    "df.sort(u'Gross', ascending=True, inplace=True)\n",
    "df.head()"
   ]
  },
  {
   "cell_type": "code",
   "execution_count": 31,
   "metadata": {
    "collapsed": false
   },
   "outputs": [
    {
     "data": {
      "text/html": [
       "<div style=\"max-height:1000px;max-width:1500px;overflow:auto;\">\n",
       "<table border=\"1\" class=\"dataframe\">\n",
       "  <thead>\n",
       "    <tr style=\"text-align: right;\">\n",
       "      <th></th>\n",
       "      <th>Row</th>\n",
       "      <th>Date</th>\n",
       "      <th>Day</th>\n",
       "      <th>Day#</th>\n",
       "      <th>Top 10 Gross</th>\n",
       "      <th>#1 Movie</th>\n",
       "      <th>Gross</th>\n",
       "    </tr>\n",
       "  </thead>\n",
       "  <tbody>\n",
       "    <tr>\n",
       "      <th>1</th>\n",
       "      <td> 13</td>\n",
       "      <td> Feb. 11</td>\n",
       "      <td> Wed</td>\n",
       "      <td> 42</td>\n",
       "      <td> 6138013</td>\n",
       "      <td>      American Sniper</td>\n",
       "      <td> 1468160</td>\n",
       "    </tr>\n",
       "    <tr>\n",
       "      <th>2</th>\n",
       "      <td> 14</td>\n",
       "      <td> Feb. 12</td>\n",
       "      <td> Thu</td>\n",
       "      <td> 43</td>\n",
       "      <td> 5969515</td>\n",
       "      <td>            SpongeBob</td>\n",
       "      <td> 1527552</td>\n",
       "    </tr>\n",
       "    <tr>\n",
       "      <th>3</th>\n",
       "      <td> 27</td>\n",
       "      <td> Feb. 25</td>\n",
       "      <td> Wed</td>\n",
       "      <td> 56</td>\n",
       "      <td> 6862942</td>\n",
       "      <td> Fifty Shades of Grey</td>\n",
       "      <td> 1772230</td>\n",
       "    </tr>\n",
       "    <tr>\n",
       "      <th>4</th>\n",
       "      <td> 28</td>\n",
       "      <td> Feb. 26</td>\n",
       "      <td> Thu</td>\n",
       "      <td> 57</td>\n",
       "      <td> 7161773</td>\n",
       "      <td> Fifty Shades of Grey</td>\n",
       "      <td> 1790520</td>\n",
       "    </tr>\n",
       "    <tr>\n",
       "      <th>5</th>\n",
       "      <td> 25</td>\n",
       "      <td> Feb. 23</td>\n",
       "      <td> Mon</td>\n",
       "      <td> 54</td>\n",
       "      <td> 7385671</td>\n",
       "      <td> Fifty Shades of Grey</td>\n",
       "      <td> 1846390</td>\n",
       "    </tr>\n",
       "  </tbody>\n",
       "</table>\n",
       "<p>5 rows × 7 columns</p>\n",
       "</div>"
      ],
      "text/plain": [
       "   Row     Date  Day  Day#  Top 10 Gross              #1 Movie    Gross\n",
       "1   13  Feb. 11  Wed    42       6138013       American Sniper  1468160\n",
       "2   14  Feb. 12  Thu    43       5969515             SpongeBob  1527552\n",
       "3   27  Feb. 25  Wed    56       6862942  Fifty Shades of Grey  1772230\n",
       "4   28  Feb. 26  Thu    57       7161773  Fifty Shades of Grey  1790520\n",
       "5   25  Feb. 23  Mon    54       7385671  Fifty Shades of Grey  1846390\n",
       "\n",
       "[5 rows x 7 columns]"
      ]
     },
     "execution_count": 31,
     "metadata": {},
     "output_type": "execute_result"
    }
   ],
   "source": [
    "# 排序后重新编制索引\n",
    "df.index = range(1,len(df.index)+1)\n",
    "df.head()"
   ]
  },
  {
   "cell_type": "markdown",
   "metadata": {},
   "source": [
    "## 过滤"
   ]
  },
  {
   "cell_type": "code",
   "execution_count": 32,
   "metadata": {
    "collapsed": false
   },
   "outputs": [
    {
     "data": {
      "text/html": [
       "<div style=\"max-height:1000px;max-width:1500px;overflow:auto;\">\n",
       "<table border=\"1\" class=\"dataframe\">\n",
       "  <thead>\n",
       "    <tr style=\"text-align: right;\">\n",
       "      <th></th>\n",
       "      <th>Date</th>\n",
       "      <th>Day</th>\n",
       "      <th>#1 Movie</th>\n",
       "    </tr>\n",
       "  </thead>\n",
       "  <tbody>\n",
       "    <tr>\n",
       "      <th>0</th>\n",
       "      <td> Jan. 30</td>\n",
       "      <td> Fri</td>\n",
       "      <td> American Sniper</td>\n",
       "    </tr>\n",
       "    <tr>\n",
       "      <th>1</th>\n",
       "      <td> Jan. 31</td>\n",
       "      <td> Sat</td>\n",
       "      <td> American Sniper</td>\n",
       "    </tr>\n",
       "    <tr>\n",
       "      <th>2</th>\n",
       "      <td>  Feb. 1</td>\n",
       "      <td> Sun</td>\n",
       "      <td> American Sniper</td>\n",
       "    </tr>\n",
       "    <tr>\n",
       "      <th>3</th>\n",
       "      <td>  Feb. 2</td>\n",
       "      <td> Mon</td>\n",
       "      <td> American Sniper</td>\n",
       "    </tr>\n",
       "    <tr>\n",
       "      <th>4</th>\n",
       "      <td>  Feb. 3</td>\n",
       "      <td> Tue</td>\n",
       "      <td> American Sniper</td>\n",
       "    </tr>\n",
       "  </tbody>\n",
       "</table>\n",
       "<p>5 rows × 3 columns</p>\n",
       "</div>"
      ],
      "text/plain": [
       "      Date  Day         #1 Movie\n",
       "0  Jan. 30  Fri  American Sniper\n",
       "1  Jan. 31  Sat  American Sniper\n",
       "2   Feb. 1  Sun  American Sniper\n",
       "3   Feb. 2  Mon  American Sniper\n",
       "4   Feb. 3  Tue  American Sniper\n",
       "\n",
       "[5 rows x 3 columns]"
      ]
     },
     "execution_count": 32,
     "metadata": {},
     "output_type": "execute_result"
    }
   ],
   "source": [
    "df = df_movies.copy()\n",
    "# 根据列类型过滤\n",
    "# 只选择字符串型的列\n",
    "df.loc[:, (df.dtypes == np.dtype('O')).values].head()"
   ]
  },
  {
   "cell_type": "code",
   "execution_count": 33,
   "metadata": {
    "collapsed": false
   },
   "outputs": [
    {
     "data": {
      "text/html": [
       "<div style=\"max-height:1000px;max-width:1500px;overflow:auto;\">\n",
       "<table border=\"1\" class=\"dataframe\">\n",
       "  <thead>\n",
       "    <tr style=\"text-align: right;\">\n",
       "      <th></th>\n",
       "      <th>Row</th>\n",
       "      <th>Date</th>\n",
       "      <th>Day</th>\n",
       "      <th>Day#</th>\n",
       "      <th>Top 10 Gross</th>\n",
       "      <th>#1 Movie</th>\n",
       "      <th>Gross</th>\n",
       "    </tr>\n",
       "  </thead>\n",
       "  <tbody>\n",
       "    <tr>\n",
       "      <th>0</th>\n",
       "      <td> 1</td>\n",
       "      <td> Jan. 30</td>\n",
       "      <td> Fri</td>\n",
       "      <td> 30</td>\n",
       "      <td> 26168351</td>\n",
       "      <td> American Sniper</td>\n",
       "      <td>NaN</td>\n",
       "    </tr>\n",
       "    <tr>\n",
       "      <th>3</th>\n",
       "      <td> 4</td>\n",
       "      <td>  Feb. 2</td>\n",
       "      <td> Mon</td>\n",
       "      <td> 33</td>\n",
       "      <td>  6475068</td>\n",
       "      <td> American Sniper</td>\n",
       "      <td>NaN</td>\n",
       "    </tr>\n",
       "  </tbody>\n",
       "</table>\n",
       "<p>2 rows × 7 columns</p>\n",
       "</div>"
      ],
      "text/plain": [
       "   Row     Date  Day  Day#  Top 10 Gross         #1 Movie  Gross\n",
       "0    1  Jan. 30  Fri    30      26168351  American Sniper    NaN\n",
       "3    4   Feb. 2  Mon    33       6475068  American Sniper    NaN\n",
       "\n",
       "[2 rows x 7 columns]"
      ]
     },
     "execution_count": 33,
     "metadata": {},
     "output_type": "execute_result"
    }
   ],
   "source": [
    "# 选择 artifact 为空值的行\n",
    "df.ix[0, u'Gross'] = np.nan\n",
    "df.ix[3, u'Gross'] = np.nan\n",
    "df[df[u'Gross'].isnull()].head()"
   ]
  },
  {
   "cell_type": "code",
   "execution_count": 34,
   "metadata": {
    "collapsed": false
   },
   "outputs": [
    {
     "data": {
      "text/html": [
       "<div style=\"max-height:1000px;max-width:1500px;overflow:auto;\">\n",
       "<table border=\"1\" class=\"dataframe\">\n",
       "  <thead>\n",
       "    <tr style=\"text-align: right;\">\n",
       "      <th></th>\n",
       "      <th>Row</th>\n",
       "      <th>Date</th>\n",
       "      <th>Day</th>\n",
       "      <th>Day#</th>\n",
       "      <th>Top 10 Gross</th>\n",
       "      <th>#1 Movie</th>\n",
       "      <th>Gross</th>\n",
       "    </tr>\n",
       "  </thead>\n",
       "  <tbody>\n",
       "    <tr>\n",
       "      <th>1</th>\n",
       "      <td> 2</td>\n",
       "      <td> Jan. 31</td>\n",
       "      <td> Sat</td>\n",
       "      <td> 31</td>\n",
       "      <td> 41633588</td>\n",
       "      <td> American Sniper</td>\n",
       "      <td> 16510536</td>\n",
       "    </tr>\n",
       "    <tr>\n",
       "      <th>2</th>\n",
       "      <td> 3</td>\n",
       "      <td>  Feb. 1</td>\n",
       "      <td> Sun</td>\n",
       "      <td> 32</td>\n",
       "      <td> 12515579</td>\n",
       "      <td> American Sniper</td>\n",
       "      <td>  4244376</td>\n",
       "    </tr>\n",
       "    <tr>\n",
       "      <th>4</th>\n",
       "      <td> 5</td>\n",
       "      <td>  Feb. 3</td>\n",
       "      <td> Tue</td>\n",
       "      <td> 34</td>\n",
       "      <td>  7825091</td>\n",
       "      <td> American Sniper</td>\n",
       "      <td>  2923141</td>\n",
       "    </tr>\n",
       "    <tr>\n",
       "      <th>5</th>\n",
       "      <td> 6</td>\n",
       "      <td>  Feb. 4</td>\n",
       "      <td> Wed</td>\n",
       "      <td> 35</td>\n",
       "      <td>  5819529</td>\n",
       "      <td> American Sniper</td>\n",
       "      <td>  2273342</td>\n",
       "    </tr>\n",
       "    <tr>\n",
       "      <th>6</th>\n",
       "      <td> 7</td>\n",
       "      <td>  Feb. 5</td>\n",
       "      <td> Thu</td>\n",
       "      <td> 36</td>\n",
       "      <td>  6165344</td>\n",
       "      <td> American Sniper</td>\n",
       "      <td>  2506106</td>\n",
       "    </tr>\n",
       "  </tbody>\n",
       "</table>\n",
       "<p>5 rows × 7 columns</p>\n",
       "</div>"
      ],
      "text/plain": [
       "   Row     Date  Day  Day#  Top 10 Gross         #1 Movie     Gross\n",
       "1    2  Jan. 31  Sat    31      41633588  American Sniper  16510536\n",
       "2    3   Feb. 1  Sun    32      12515579  American Sniper   4244376\n",
       "4    5   Feb. 3  Tue    34       7825091  American Sniper   2923141\n",
       "5    6   Feb. 4  Wed    35       5819529  American Sniper   2273342\n",
       "6    7   Feb. 5  Thu    36       6165344  American Sniper   2506106\n",
       "\n",
       "[5 rows x 7 columns]"
      ]
     },
     "execution_count": 34,
     "metadata": {},
     "output_type": "execute_result"
    }
   ],
   "source": [
    "# 选择'Gross'为非空值的行\n",
    "df[df[u'Gross'].notnull()].head()"
   ]
  },
  {
   "cell_type": "code",
   "execution_count": 35,
   "metadata": {
    "collapsed": false
   },
   "outputs": [
    {
     "data": {
      "text/html": [
       "<div style=\"max-height:1000px;max-width:1500px;overflow:auto;\">\n",
       "<table border=\"1\" class=\"dataframe\">\n",
       "  <thead>\n",
       "    <tr style=\"text-align: right;\">\n",
       "      <th></th>\n",
       "      <th>Row</th>\n",
       "      <th>Date</th>\n",
       "      <th>Day</th>\n",
       "      <th>Day#</th>\n",
       "      <th>Top 10 Gross</th>\n",
       "      <th>#1 Movie</th>\n",
       "      <th>Gross</th>\n",
       "    </tr>\n",
       "  </thead>\n",
       "  <tbody>\n",
       "    <tr>\n",
       "      <th>0 </th>\n",
       "      <td>  1</td>\n",
       "      <td> Jan. 30</td>\n",
       "      <td> Fri</td>\n",
       "      <td> 30</td>\n",
       "      <td> 26168351</td>\n",
       "      <td>      American Sniper</td>\n",
       "      <td>      NaN</td>\n",
       "    </tr>\n",
       "    <tr>\n",
       "      <th>1 </th>\n",
       "      <td>  2</td>\n",
       "      <td> Jan. 31</td>\n",
       "      <td> Sat</td>\n",
       "      <td> 31</td>\n",
       "      <td> 41633588</td>\n",
       "      <td>      American Sniper</td>\n",
       "      <td> 16510536</td>\n",
       "    </tr>\n",
       "    <tr>\n",
       "      <th>2 </th>\n",
       "      <td>  3</td>\n",
       "      <td>  Feb. 1</td>\n",
       "      <td> Sun</td>\n",
       "      <td> 32</td>\n",
       "      <td> 12515579</td>\n",
       "      <td>      American Sniper</td>\n",
       "      <td>  4244376</td>\n",
       "    </tr>\n",
       "    <tr>\n",
       "      <th>8 </th>\n",
       "      <td>  9</td>\n",
       "      <td>  Feb. 7</td>\n",
       "      <td> Sat</td>\n",
       "      <td> 38</td>\n",
       "      <td> 59153298</td>\n",
       "      <td>            SpongeBob</td>\n",
       "      <td> 24086968</td>\n",
       "    </tr>\n",
       "    <tr>\n",
       "      <th>15</th>\n",
       "      <td> 16</td>\n",
       "      <td> Feb. 14</td>\n",
       "      <td> Sat</td>\n",
       "      <td> 45</td>\n",
       "      <td> 87900659</td>\n",
       "      <td> Fifty Shades of Grey</td>\n",
       "      <td> 36752460</td>\n",
       "    </tr>\n",
       "    <tr>\n",
       "      <th>22</th>\n",
       "      <td> 23</td>\n",
       "      <td> Feb. 21</td>\n",
       "      <td> Sat</td>\n",
       "      <td> 52</td>\n",
       "      <td> 43708356</td>\n",
       "      <td> Fifty Shades of Grey</td>\n",
       "      <td>  8991100</td>\n",
       "    </tr>\n",
       "  </tbody>\n",
       "</table>\n",
       "<p>6 rows × 7 columns</p>\n",
       "</div>"
      ],
      "text/plain": [
       "    Row     Date  Day  Day#  Top 10 Gross              #1 Movie     Gross\n",
       "0     1  Jan. 30  Fri    30      26168351       American Sniper       NaN\n",
       "1     2  Jan. 31  Sat    31      41633588       American Sniper  16510536\n",
       "2     3   Feb. 1  Sun    32      12515579       American Sniper   4244376\n",
       "8     9   Feb. 7  Sat    38      59153298             SpongeBob  24086968\n",
       "15   16  Feb. 14  Sat    45      87900659  Fifty Shades of Grey  36752460\n",
       "22   23  Feb. 21  Sat    52      43708356  Fifty Shades of Grey   8991100\n",
       "\n",
       "[6 rows x 7 columns]"
      ]
     },
     "execution_count": 35,
     "metadata": {},
     "output_type": "execute_result"
    }
   ],
   "source": [
    "# 根据条件过滤\n",
    "df[ (df[u'Day'] == u'Sat') | (df[u'Day#'] <= 32) ]"
   ]
  },
  {
   "cell_type": "code",
   "execution_count": 36,
   "metadata": {
    "collapsed": false
   },
   "outputs": [
    {
     "data": {
      "text/html": [
       "<div style=\"max-height:1000px;max-width:1500px;overflow:auto;\">\n",
       "<table border=\"1\" class=\"dataframe\">\n",
       "  <thead>\n",
       "    <tr style=\"text-align: right;\">\n",
       "      <th></th>\n",
       "      <th>Row</th>\n",
       "      <th>Date</th>\n",
       "      <th>Day</th>\n",
       "      <th>Day#</th>\n",
       "      <th>Top 10 Gross</th>\n",
       "      <th>#1 Movie</th>\n",
       "      <th>Gross</th>\n",
       "    </tr>\n",
       "  </thead>\n",
       "  <tbody>\n",
       "    <tr>\n",
       "      <th>1</th>\n",
       "      <td> 2</td>\n",
       "      <td> Jan. 31</td>\n",
       "      <td> Sat</td>\n",
       "      <td> 31</td>\n",
       "      <td> 41633588</td>\n",
       "      <td> American Sniper</td>\n",
       "      <td> 16510536</td>\n",
       "    </tr>\n",
       "  </tbody>\n",
       "</table>\n",
       "<p>1 rows × 7 columns</p>\n",
       "</div>"
      ],
      "text/plain": [
       "   Row     Date  Day  Day#  Top 10 Gross         #1 Movie     Gross\n",
       "1    2  Jan. 31  Sat    31      41633588  American Sniper  16510536\n",
       "\n",
       "[1 rows x 7 columns]"
      ]
     },
     "execution_count": 36,
     "metadata": {},
     "output_type": "execute_result"
    }
   ],
   "source": [
    "df[ (df[u'Day'] == u'Sat') & (df[u'Day#'] <= 32) ]"
   ]
  },
  {
   "cell_type": "markdown",
   "metadata": {},
   "source": [
    "## 切片"
   ]
  },
  {
   "cell_type": "markdown",
   "metadata": {},
   "source": [
    "## 合并"
   ]
  },
  {
   "cell_type": "markdown",
   "metadata": {},
   "source": [
    "## 统计：计数，平均，最大，最小，方差，标准差"
   ]
  },
  {
   "cell_type": "markdown",
   "metadata": {},
   "source": [
    "## 同比，环比"
   ]
  },
  {
   "cell_type": "markdown",
   "metadata": {},
   "source": [
    "## 图形化"
   ]
  },
  {
   "cell_type": "code",
   "execution_count": 37,
   "metadata": {
    "collapsed": false
   },
   "outputs": [
    {
     "data": {
      "text/plain": [
       "<matplotlib.axes.AxesSubplot at 0x7f347b949b50>"
      ]
     },
     "execution_count": 37,
     "metadata": {},
     "output_type": "execute_result"
    },
    {
     "data": {
      "image/png": "[encoded data removed]",
      "text/plain": [
       "<matplotlib.figure.Figure at 0x7f347b8cdbd0>"
      ]
     },
     "metadata": {},
     "output_type": "display_data"
    }
   ],
   "source": [
    "ts = pd.Series(np.random.randn(1000), index=pd.date_range('1/1/2000', periods=1000))\n",
    "ts = ts.cumsum()\n",
    "ts.plot()"
   ]
  },
  {
   "cell_type": "code",
   "execution_count": 38,
   "metadata": {
    "collapsed": false
   },
   "outputs": [
    {
     "data": {
      "text/html": [
       "<div style=\"max-height:1000px;max-width:1500px;overflow:auto;\">\n",
       "<table border=\"1\" class=\"dataframe\">\n",
       "  <thead>\n",
       "    <tr style=\"text-align: right;\">\n",
       "      <th></th>\n",
       "      <th>Row</th>\n",
       "      <th>Date</th>\n",
       "      <th>Day</th>\n",
       "      <th>Day#</th>\n",
       "      <th>Top 10 Gross</th>\n",
       "      <th>#1 Movie</th>\n",
       "      <th>Gross</th>\n",
       "    </tr>\n",
       "  </thead>\n",
       "  <tbody>\n",
       "    <tr>\n",
       "      <th>0</th>\n",
       "      <td> 1</td>\n",
       "      <td>2015-01-30</td>\n",
       "      <td> Fri</td>\n",
       "      <td> 30</td>\n",
       "      <td> 26168351</td>\n",
       "      <td> American Sniper</td>\n",
       "      <td>  9905616</td>\n",
       "    </tr>\n",
       "    <tr>\n",
       "      <th>1</th>\n",
       "      <td> 2</td>\n",
       "      <td>2015-01-31</td>\n",
       "      <td> Sat</td>\n",
       "      <td> 31</td>\n",
       "      <td> 41633588</td>\n",
       "      <td> American Sniper</td>\n",
       "      <td> 16510536</td>\n",
       "    </tr>\n",
       "    <tr>\n",
       "      <th>2</th>\n",
       "      <td> 3</td>\n",
       "      <td>2015-02-01</td>\n",
       "      <td> Sun</td>\n",
       "      <td> 32</td>\n",
       "      <td> 12515579</td>\n",
       "      <td> American Sniper</td>\n",
       "      <td>  4244376</td>\n",
       "    </tr>\n",
       "    <tr>\n",
       "      <th>3</th>\n",
       "      <td> 4</td>\n",
       "      <td>2015-02-02</td>\n",
       "      <td> Mon</td>\n",
       "      <td> 33</td>\n",
       "      <td>  6475068</td>\n",
       "      <td> American Sniper</td>\n",
       "      <td>  2645109</td>\n",
       "    </tr>\n",
       "    <tr>\n",
       "      <th>4</th>\n",
       "      <td> 5</td>\n",
       "      <td>2015-02-03</td>\n",
       "      <td> Tue</td>\n",
       "      <td> 34</td>\n",
       "      <td>  7825091</td>\n",
       "      <td> American Sniper</td>\n",
       "      <td>  2923141</td>\n",
       "    </tr>\n",
       "  </tbody>\n",
       "</table>\n",
       "<p>5 rows × 7 columns</p>\n",
       "</div>"
      ],
      "text/plain": [
       "   Row       Date  Day  Day#  Top 10 Gross         #1 Movie     Gross\n",
       "0    1 2015-01-30  Fri    30      26168351  American Sniper   9905616\n",
       "1    2 2015-01-31  Sat    31      41633588  American Sniper  16510536\n",
       "2    3 2015-02-01  Sun    32      12515579  American Sniper   4244376\n",
       "3    4 2015-02-02  Mon    33       6475068  American Sniper   2645109\n",
       "4    5 2015-02-03  Tue    34       7825091  American Sniper   2923141\n",
       "\n",
       "[5 rows x 7 columns]"
      ]
     },
     "execution_count": 38,
     "metadata": {},
     "output_type": "execute_result"
    }
   ],
   "source": [
    "df = df_movies.copy()\n",
    "df[u'Date'] = pd.to_datetime(df[u'Date'] + ',2015' )\n",
    "df.head()"
   ]
  },
  {
   "cell_type": "code",
   "execution_count": 39,
   "metadata": {
    "collapsed": false
   },
   "outputs": [
    {
     "data": {
      "text/plain": [
       "<matplotlib.axes.AxesSubplot at 0x7f347b8b9890>"
      ]
     },
     "execution_count": 39,
     "metadata": {},
     "output_type": "execute_result"
    },
    {
     "data": {
      "image/png": "[encoded data removed]",
      "text/plain": [
       "<matplotlib.figure.Figure at 0x7f347b8f2ed0>"
      ]
     },
     "metadata": {},
     "output_type": "display_data"
    }
   ],
   "source": [
    "df.plot(x='Date', y=['Top 10 Gross', 'Gross'])"
   ]
  },
  {
   "cell_type": "markdown",
   "metadata": {},
   "source": [
    "## 使用另一个 DataFrame 来更新数据"
   ]
  },
  {
   "cell_type": "code",
   "execution_count": 40,
   "metadata": {
    "collapsed": false
   },
   "outputs": [
    {
     "data": {
      "text/html": [
       "<div style=\"max-height:1000px;max-width:1500px;overflow:auto;\">\n",
       "<table border=\"1\" class=\"dataframe\">\n",
       "  <thead>\n",
       "    <tr style=\"text-align: right;\">\n",
       "      <th></th>\n",
       "      <th>Row</th>\n",
       "      <th>Date</th>\n",
       "      <th>Day</th>\n",
       "      <th>Day#</th>\n",
       "      <th>Top 10 Gross</th>\n",
       "      <th>#1 Movie</th>\n",
       "      <th>Gross</th>\n",
       "    </tr>\n",
       "  </thead>\n",
       "  <tbody>\n",
       "    <tr>\n",
       "      <th>0</th>\n",
       "      <td> 1</td>\n",
       "      <td> Jan. 30</td>\n",
       "      <td> Fri</td>\n",
       "      <td> 30</td>\n",
       "      <td> 26168351</td>\n",
       "      <td> American Sniper</td>\n",
       "      <td>  9905616</td>\n",
       "    </tr>\n",
       "    <tr>\n",
       "      <th>1</th>\n",
       "      <td> 2</td>\n",
       "      <td> Jan. 31</td>\n",
       "      <td> Sat</td>\n",
       "      <td> 31</td>\n",
       "      <td> 41633588</td>\n",
       "      <td> American Sniper</td>\n",
       "      <td> 16510536</td>\n",
       "    </tr>\n",
       "    <tr>\n",
       "      <th>2</th>\n",
       "      <td> 3</td>\n",
       "      <td>  Feb. 1</td>\n",
       "      <td> Sun</td>\n",
       "      <td> 32</td>\n",
       "      <td> 12515579</td>\n",
       "      <td> American Sniper</td>\n",
       "      <td>  4244376</td>\n",
       "    </tr>\n",
       "    <tr>\n",
       "      <th>3</th>\n",
       "      <td> 4</td>\n",
       "      <td>  Feb. 2</td>\n",
       "      <td> Mon</td>\n",
       "      <td> 33</td>\n",
       "      <td>  6475068</td>\n",
       "      <td> American Sniper</td>\n",
       "      <td>  2645109</td>\n",
       "    </tr>\n",
       "    <tr>\n",
       "      <th>4</th>\n",
       "      <td> 5</td>\n",
       "      <td>  Feb. 3</td>\n",
       "      <td> Tue</td>\n",
       "      <td> 34</td>\n",
       "      <td>  7825091</td>\n",
       "      <td> American Sniper</td>\n",
       "      <td>  2923141</td>\n",
       "    </tr>\n",
       "  </tbody>\n",
       "</table>\n",
       "<p>5 rows × 7 columns</p>\n",
       "</div>"
      ],
      "text/plain": [
       "   Row     Date  Day  Day#  Top 10 Gross         #1 Movie     Gross\n",
       "0    1  Jan. 30  Fri    30      26168351  American Sniper   9905616\n",
       "1    2  Jan. 31  Sat    31      41633588  American Sniper  16510536\n",
       "2    3   Feb. 1  Sun    32      12515579  American Sniper   4244376\n",
       "3    4   Feb. 2  Mon    33       6475068  American Sniper   2645109\n",
       "4    5   Feb. 3  Tue    34       7825091  American Sniper   2923141\n",
       "\n",
       "[5 rows x 7 columns]"
      ]
     },
     "execution_count": 40,
     "metadata": {},
     "output_type": "execute_result"
    }
   ],
   "source": [
    "df_1 = df_movies.copy()\n",
    "df_2 = pd.DataFrame({u'#1 Movie':[u'American Sniper',\n",
    "                            u'SpongeBob',\n",
    "                            u'Fifty Shades of Grey'],\n",
    "                            u'chs':[u'美国阻击手',\n",
    "                                    u'海绵宝宝',\n",
    "                                    u'五十度灰']})\n",
    "df_1.head()"
   ]
  },
  {
   "cell_type": "code",
   "execution_count": 41,
   "metadata": {
    "collapsed": false
   },
   "outputs": [
    {
     "data": {
      "text/html": [
       "<div style=\"max-height:1000px;max-width:1500px;overflow:auto;\">\n",
       "<table border=\"1\" class=\"dataframe\">\n",
       "  <thead>\n",
       "    <tr style=\"text-align: right;\">\n",
       "      <th></th>\n",
       "      <th>#1 Movie</th>\n",
       "      <th>chs</th>\n",
       "    </tr>\n",
       "  </thead>\n",
       "  <tbody>\n",
       "    <tr>\n",
       "      <th>0</th>\n",
       "      <td>      American Sniper</td>\n",
       "      <td> 美国阻击手</td>\n",
       "    </tr>\n",
       "    <tr>\n",
       "      <th>1</th>\n",
       "      <td>            SpongeBob</td>\n",
       "      <td>  海绵宝宝</td>\n",
       "    </tr>\n",
       "    <tr>\n",
       "      <th>2</th>\n",
       "      <td> Fifty Shades of Grey</td>\n",
       "      <td>  五十度灰</td>\n",
       "    </tr>\n",
       "  </tbody>\n",
       "</table>\n",
       "<p>3 rows × 2 columns</p>\n",
       "</div>"
      ],
      "text/plain": [
       "               #1 Movie    chs\n",
       "0       American Sniper  美国阻击手\n",
       "1             SpongeBob   海绵宝宝\n",
       "2  Fifty Shades of Grey   五十度灰\n",
       "\n",
       "[3 rows x 2 columns]"
      ]
     },
     "execution_count": 41,
     "metadata": {},
     "output_type": "execute_result"
    }
   ],
   "source": [
    "df_2.head()"
   ]
  },
  {
   "cell_type": "code",
   "execution_count": 42,
   "metadata": {
    "collapsed": false
   },
   "outputs": [
    {
     "data": {
      "text/html": [
       "<div style=\"max-height:1000px;max-width:1500px;overflow:auto;\">\n",
       "<table border=\"1\" class=\"dataframe\">\n",
       "  <thead>\n",
       "    <tr style=\"text-align: right;\">\n",
       "      <th></th>\n",
       "      <th>Row</th>\n",
       "      <th>Date</th>\n",
       "      <th>Day</th>\n",
       "      <th>Day#</th>\n",
       "      <th>Top 10 Gross</th>\n",
       "      <th>#1 Movie</th>\n",
       "      <th>Gross</th>\n",
       "      <th>chs</th>\n",
       "    </tr>\n",
       "  </thead>\n",
       "  <tbody>\n",
       "    <tr>\n",
       "      <th>0</th>\n",
       "      <td> 1</td>\n",
       "      <td> Jan. 30</td>\n",
       "      <td> Fri</td>\n",
       "      <td> 30</td>\n",
       "      <td> 26168351</td>\n",
       "      <td> American Sniper</td>\n",
       "      <td>  9905616</td>\n",
       "      <td> 美国阻击手</td>\n",
       "    </tr>\n",
       "    <tr>\n",
       "      <th>1</th>\n",
       "      <td> 2</td>\n",
       "      <td> Jan. 31</td>\n",
       "      <td> Sat</td>\n",
       "      <td> 31</td>\n",
       "      <td> 41633588</td>\n",
       "      <td> American Sniper</td>\n",
       "      <td> 16510536</td>\n",
       "      <td> 美国阻击手</td>\n",
       "    </tr>\n",
       "    <tr>\n",
       "      <th>2</th>\n",
       "      <td> 3</td>\n",
       "      <td>  Feb. 1</td>\n",
       "      <td> Sun</td>\n",
       "      <td> 32</td>\n",
       "      <td> 12515579</td>\n",
       "      <td> American Sniper</td>\n",
       "      <td>  4244376</td>\n",
       "      <td> 美国阻击手</td>\n",
       "    </tr>\n",
       "    <tr>\n",
       "      <th>3</th>\n",
       "      <td> 4</td>\n",
       "      <td>  Feb. 2</td>\n",
       "      <td> Mon</td>\n",
       "      <td> 33</td>\n",
       "      <td>  6475068</td>\n",
       "      <td> American Sniper</td>\n",
       "      <td>  2645109</td>\n",
       "      <td> 美国阻击手</td>\n",
       "    </tr>\n",
       "    <tr>\n",
       "      <th>4</th>\n",
       "      <td> 5</td>\n",
       "      <td>  Feb. 3</td>\n",
       "      <td> Tue</td>\n",
       "      <td> 34</td>\n",
       "      <td>  7825091</td>\n",
       "      <td> American Sniper</td>\n",
       "      <td>  2923141</td>\n",
       "      <td> 美国阻击手</td>\n",
       "    </tr>\n",
       "  </tbody>\n",
       "</table>\n",
       "<p>5 rows × 8 columns</p>\n",
       "</div>"
      ],
      "text/plain": [
       "   Row     Date  Day  Day#  Top 10 Gross         #1 Movie     Gross    chs\n",
       "0    1  Jan. 30  Fri    30      26168351  American Sniper   9905616  美国阻击手\n",
       "1    2  Jan. 31  Sat    31      41633588  American Sniper  16510536  美国阻击手\n",
       "2    3   Feb. 1  Sun    32      12515579  American Sniper   4244376  美国阻击手\n",
       "3    4   Feb. 2  Mon    33       6475068  American Sniper   2645109  美国阻击手\n",
       "4    5   Feb. 3  Tue    34       7825091  American Sniper   2923141  美国阻击手\n",
       "\n",
       "[5 rows x 8 columns]"
      ]
     },
     "execution_count": 42,
     "metadata": {},
     "output_type": "execute_result"
    }
   ],
   "source": [
    "pd.merge(df_1, df_2, on=u'#1 Movie').head()"
   ]
  },
  {
   "cell_type": "code",
   "execution_count": 42,
   "metadata": {
    "collapsed": false
   },
   "outputs": [],
   "source": []
  }
 ],
 "metadata": {
  "kernelspec": {
   "display_name": "Python 3",
   "language": "python",
   "name": "python3"
  },
  "language_info": {
   "codemirror_mode": {
    "name": "ipython",
    "version": 3
   },
   "file_extension": ".py",
   "mimetype": "text/x-python",
   "name": "python",
   "nbconvert_exporter": "python",
   "pygments_lexer": "ipython3",
   "version": "3.4.3"
  }
 },
 "nbformat": 4,
 "nbformat_minor": 0
}
